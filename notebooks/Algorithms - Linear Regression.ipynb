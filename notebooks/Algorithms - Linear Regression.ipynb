{
 "cells": [
  {
   "cell_type": "markdown",
   "metadata": {},
   "source": [
    "# Single Regression"
   ]
  },
  {
   "cell_type": "code",
   "execution_count": 84,
   "metadata": {},
   "outputs": [],
   "source": [
    "import pandas as pd\n",
    "import numpy as np\n",
    "import os"
   ]
  },
  {
   "cell_type": "code",
   "execution_count": 85,
   "metadata": {},
   "outputs": [],
   "source": [
    "data_path = os.path.join(os.path.pardir,'data','raw')\n",
    "csv_path = os.path.join(data_path,'regression','linear')\n",
    "nasdaqFile = os.path.join(csv_path,'NASDAQ.csv')\n",
    "spFile = os.path.join(csv_path,'SP_500.csv')\n",
    "googFile = os.path.join(csv_path,'GOOG.csv')\n",
    "oilFile = os.path.join(csv_path,'USO.csv')\n",
    "xomFile = os.path.join(csv_path,'XOM.csv')"
   ]
  },
  {
   "cell_type": "code",
   "execution_count": 86,
   "metadata": {},
   "outputs": [],
   "source": [
    "def readFile(filename):\n",
    "    data = pd.read_csv(filename, sep=\",\", usecols=[0,5], names=['Date','Price'], header=0)\n",
    "    data.dropna(inplace=True)\n",
    "    data.reset_index(drop=True, inplace=True)\n",
    "    data.set_index('Date', drop=False, inplace=True)\n",
    "    data.sort_index(ascending=False, inplace=True)\n",
    "    returns = np.array(data['Price'][:-1],np.float)/np.array(data['Price'][1:],np.float)-1\n",
    "    data['Returns'] = np.append(returns,np.nan)\n",
    "    return data"
   ]
  },
  {
   "cell_type": "code",
   "execution_count": 87,
   "metadata": {},
   "outputs": [],
   "source": [
    "goog_data = readFile(googFile)\n",
    "# oil_data = readFile(oilFile)\n",
    "# xom_data = readFile(xomFile)\n",
    "# sp_data = readFile(spFile)\n",
    "nasdaq_data = readFile(nasdaqFile)"
   ]
  },
  {
   "cell_type": "code",
   "execution_count": 88,
   "metadata": {},
   "outputs": [],
   "source": [
    "# print(goog_data[goog_data.isnull().any(axis=1)])\n",
    "# print(oil_data[oil_data.isnull().any(axis=1)])\n",
    "# print(xom_data[xom_data.isnull().any(axis=1)])\n",
    "# print(sp_data[sp_data.isnull().any(axis=1)])\n",
    "# print(nasdaq_data[nasdaq_data.isnull().any(axis=1)])"
   ]
  },
  {
   "cell_type": "code",
   "execution_count": 93,
   "metadata": {},
   "outputs": [
    {
     "name": "stdout",
     "output_type": "stream",
     "text": [
      "<class 'pandas.core.frame.DataFrame'>\n",
      "Index: 155 entries, 2018-10-05 to 2006-01-01\n",
      "Data columns (total 3 columns):\n",
      "Date       155 non-null object\n",
      "Price      155 non-null float64\n",
      "Returns    154 non-null float64\n",
      "dtypes: float64(2), object(1)\n",
      "memory usage: 4.8+ KB\n",
      "None\n",
      "<class 'pandas.core.frame.DataFrame'>\n",
      "RangeIndex: 152 entries, 0 to 151\n",
      "Data columns (total 2 columns):\n",
      "Date     152 non-null object\n",
      "Price    152 non-null float64\n",
      "dtypes: float64(1), object(1)\n",
      "memory usage: 2.5+ KB\n",
      "None\n",
      "<class 'pandas.core.frame.DataFrame'>\n",
      "RangeIndex: 155 entries, 0 to 154\n",
      "Data columns (total 2 columns):\n",
      "Date     155 non-null object\n",
      "Price    155 non-null float64\n",
      "dtypes: float64(1), object(1)\n",
      "memory usage: 2.5+ KB\n",
      "None\n",
      "<class 'pandas.core.frame.DataFrame'>\n",
      "RangeIndex: 155 entries, 0 to 154\n",
      "Data columns (total 2 columns):\n",
      "Date     155 non-null object\n",
      "Price    155 non-null float64\n",
      "dtypes: float64(1), object(1)\n",
      "memory usage: 2.5+ KB\n",
      "None\n",
      "<class 'pandas.core.frame.DataFrame'>\n",
      "Index: 155 entries, 2018-10-05 to 2006-01-01\n",
      "Data columns (total 3 columns):\n",
      "Date       155 non-null object\n",
      "Price      155 non-null float64\n",
      "Returns    154 non-null float64\n",
      "dtypes: float64(2), object(1)\n",
      "memory usage: 4.8+ KB\n",
      "None\n"
     ]
    }
   ],
   "source": [
    "print(goog_data.info())\n",
    "print(oil_data.info())\n",
    "print(xom_data.info())\n",
    "print(sp_data.info())\n",
    "print(nasdaq_data.info())"
   ]
  },
  {
   "cell_type": "code",
   "execution_count": 90,
   "metadata": {},
   "outputs": [],
   "source": [
    "# goog_data.dropna(inplace=True)\n",
    "# goog_data.reset_index(drop=True, inplace=True)\n",
    "# oil_data.dropna(inplace=True)\n",
    "# oil_data.reset_index(drop=True, inplace=True)\n",
    "# xom_data.dropna(inplace=True)\n",
    "# xom_data.reset_index(drop=True, inplace=True)\n",
    "# sp_data.dropna(inplace=True)\n",
    "# sp_data.reset_index(drop=True, inplace=True)\n",
    "# nasdaq_data.dropna(inplace=True)\n",
    "# nasdaq_data.reset_index(drop=True, inplace=True)"
   ]
  },
  {
   "cell_type": "code",
   "execution_count": 91,
   "metadata": {
    "scrolled": true
   },
   "outputs": [
    {
     "data": {
      "text/html": [
       "<div>\n",
       "<style scoped>\n",
       "    .dataframe tbody tr th:only-of-type {\n",
       "        vertical-align: middle;\n",
       "    }\n",
       "\n",
       "    .dataframe tbody tr th {\n",
       "        vertical-align: top;\n",
       "    }\n",
       "\n",
       "    .dataframe thead th {\n",
       "        text-align: right;\n",
       "    }\n",
       "</style>\n",
       "<table border=\"1\" class=\"dataframe\">\n",
       "  <thead>\n",
       "    <tr style=\"text-align: right;\">\n",
       "      <th></th>\n",
       "      <th>Date</th>\n",
       "      <th>Price</th>\n",
       "      <th>Returns</th>\n",
       "    </tr>\n",
       "    <tr>\n",
       "      <th>Date</th>\n",
       "      <th></th>\n",
       "      <th></th>\n",
       "      <th></th>\n",
       "    </tr>\n",
       "  </thead>\n",
       "  <tbody>\n",
       "    <tr>\n",
       "      <th>2018-10-05</th>\n",
       "      <td>2018-10-05</td>\n",
       "      <td>1157.349976</td>\n",
       "      <td>0.000000</td>\n",
       "    </tr>\n",
       "    <tr>\n",
       "      <th>2018-10-01</th>\n",
       "      <td>2018-10-01</td>\n",
       "      <td>1157.349976</td>\n",
       "      <td>-0.030265</td>\n",
       "    </tr>\n",
       "    <tr>\n",
       "      <th>2018-09-01</th>\n",
       "      <td>2018-09-01</td>\n",
       "      <td>1193.469971</td>\n",
       "      <td>-0.020292</td>\n",
       "    </tr>\n",
       "    <tr>\n",
       "      <th>2018-08-01</th>\n",
       "      <td>2018-08-01</td>\n",
       "      <td>1218.189941</td>\n",
       "      <td>0.000764</td>\n",
       "    </tr>\n",
       "    <tr>\n",
       "      <th>2018-07-01</th>\n",
       "      <td>2018-07-01</td>\n",
       "      <td>1217.260010</td>\n",
       "      <td>0.091077</td>\n",
       "    </tr>\n",
       "  </tbody>\n",
       "</table>\n",
       "</div>"
      ],
      "text/plain": [
       "                  Date        Price   Returns\n",
       "Date                                         \n",
       "2018-10-05  2018-10-05  1157.349976  0.000000\n",
       "2018-10-01  2018-10-01  1157.349976 -0.030265\n",
       "2018-09-01  2018-09-01  1193.469971 -0.020292\n",
       "2018-08-01  2018-08-01  1218.189941  0.000764\n",
       "2018-07-01  2018-07-01  1217.260010  0.091077"
      ]
     },
     "execution_count": 91,
     "metadata": {},
     "output_type": "execute_result"
    }
   ],
   "source": [
    "goog_data.head()"
   ]
  },
  {
   "cell_type": "code",
   "execution_count": 92,
   "metadata": {},
   "outputs": [
    {
     "data": {
      "text/html": [
       "<div>\n",
       "<style scoped>\n",
       "    .dataframe tbody tr th:only-of-type {\n",
       "        vertical-align: middle;\n",
       "    }\n",
       "\n",
       "    .dataframe tbody tr th {\n",
       "        vertical-align: top;\n",
       "    }\n",
       "\n",
       "    .dataframe thead th {\n",
       "        text-align: right;\n",
       "    }\n",
       "</style>\n",
       "<table border=\"1\" class=\"dataframe\">\n",
       "  <thead>\n",
       "    <tr style=\"text-align: right;\">\n",
       "      <th></th>\n",
       "      <th>Date</th>\n",
       "      <th>Price</th>\n",
       "      <th>Returns</th>\n",
       "    </tr>\n",
       "    <tr>\n",
       "      <th>Date</th>\n",
       "      <th></th>\n",
       "      <th></th>\n",
       "      <th></th>\n",
       "    </tr>\n",
       "  </thead>\n",
       "  <tbody>\n",
       "    <tr>\n",
       "      <th>2018-10-05</th>\n",
       "      <td>2018-10-05</td>\n",
       "      <td>7788.446777</td>\n",
       "      <td>-4.388550e-07</td>\n",
       "    </tr>\n",
       "    <tr>\n",
       "      <th>2018-10-01</th>\n",
       "      <td>2018-10-01</td>\n",
       "      <td>7788.450195</td>\n",
       "      <td>-3.205179e-02</td>\n",
       "    </tr>\n",
       "    <tr>\n",
       "      <th>2018-09-01</th>\n",
       "      <td>2018-09-01</td>\n",
       "      <td>8046.350098</td>\n",
       "      <td>-7.792050e-03</td>\n",
       "    </tr>\n",
       "    <tr>\n",
       "      <th>2018-08-01</th>\n",
       "      <td>2018-08-01</td>\n",
       "      <td>8109.540039</td>\n",
       "      <td>5.705970e-02</td>\n",
       "    </tr>\n",
       "    <tr>\n",
       "      <th>2018-07-01</th>\n",
       "      <td>2018-07-01</td>\n",
       "      <td>7671.790039</td>\n",
       "      <td>2.150250e-02</td>\n",
       "    </tr>\n",
       "  </tbody>\n",
       "</table>\n",
       "</div>"
      ],
      "text/plain": [
       "                  Date        Price       Returns\n",
       "Date                                             \n",
       "2018-10-05  2018-10-05  7788.446777 -4.388550e-07\n",
       "2018-10-01  2018-10-01  7788.450195 -3.205179e-02\n",
       "2018-09-01  2018-09-01  8046.350098 -7.792050e-03\n",
       "2018-08-01  2018-08-01  8109.540039  5.705970e-02\n",
       "2018-07-01  2018-07-01  7671.790039  2.150250e-02"
      ]
     },
     "execution_count": 92,
     "metadata": {},
     "output_type": "execute_result"
    }
   ],
   "source": [
    "nasdaq_data.head()"
   ]
  },
  {
   "cell_type": "code",
   "execution_count": 95,
   "metadata": {},
   "outputs": [],
   "source": [
    "xData = nasdaq_data['Returns'][0:-1].values.reshape(-1,1) # will transform from one array into array of arrays with each element as an array\n",
    "yData = goog_data['Returns'][0:-1]"
   ]
  },
  {
   "cell_type": "code",
   "execution_count": 96,
   "metadata": {},
   "outputs": [
    {
     "data": {
      "text/plain": [
       "array([[-4.38854960e-07],\n",
       "       [-3.20517874e-02],\n",
       "       [-7.79204994e-03],\n",
       "       [ 5.70596950e-02],\n",
       "       [ 2.15025017e-02],\n",
       "       [ 9.16132593e-03],\n",
       "       [ 5.31893200e-02],\n",
       "       [ 3.99213546e-04],\n",
       "       [-2.88133218e-02],\n",
       "       [-1.86832069e-02],\n",
       "       [ 7.36000476e-02],\n",
       "       [ 4.27990246e-03],\n",
       "       [ 2.17460569e-02],\n",
       "       [ 3.56698567e-02],\n",
       "       [ 1.04687141e-02],\n",
       "       [ 1.26872267e-02],\n",
       "       [ 3.38250800e-02],\n",
       "       [-9.37322100e-03],\n",
       "       [ 2.49536859e-02],\n",
       "       [ 2.29830175e-02],\n",
       "       [ 1.48143821e-02],\n",
       "       [ 3.75169687e-02],\n",
       "       [ 3.12774431e-02],\n",
       "       [ 2.26947938e-02],\n",
       "       [ 2.59272318e-02],\n",
       "       [-2.31287393e-02],\n",
       "       [ 1.89479402e-02],\n",
       "       [ 9.89714191e-03],\n",
       "       [ 6.59677339e-02],\n",
       "       [-2.12972559e-02],\n",
       "       [ 3.61627075e-02],\n",
       "       [-1.94031096e-02],\n",
       "       [ 6.84298620e-02],\n",
       "       [-1.21371054e-02],\n",
       "       [-7.85755408e-02],\n",
       "       [-1.98211604e-02],\n",
       "       [ 1.08671624e-02],\n",
       "       [ 9.38473623e-02],\n",
       "       [-4.00086036e-02],\n",
       "       [-6.15352198e-02],\n",
       "       [ 2.83563968e-02],\n",
       "       [-1.64022050e-02],\n",
       "       [ 2.60269042e-02],\n",
       "       [ 8.27199196e-03],\n",
       "       [-1.26220461e-02],\n",
       "       [ 7.08247112e-02],\n",
       "       [-2.12855808e-02],\n",
       "       [-1.15994097e-02],\n",
       "       [ 3.47438295e-02],\n",
       "       [ 3.05671426e-02],\n",
       "       [-1.89682885e-02],\n",
       "       [ 4.81718715e-02],\n",
       "       [-8.71338159e-03],\n",
       "       [ 3.90230693e-02],\n",
       "       [ 3.11236332e-02],\n",
       "       [-2.01072568e-02],\n",
       "       [-2.53312071e-02],\n",
       "       [ 4.97675955e-02],\n",
       "       [-1.74089302e-02],\n",
       "       [ 2.87446098e-02],\n",
       "       [ 3.57628328e-02],\n",
       "       [ 3.93028683e-02],\n",
       "       [ 5.05895359e-02],\n",
       "       [-1.00651613e-02],\n",
       "       [ 6.55608953e-02],\n",
       "       [-1.52376403e-02],\n",
       "       [ 3.81880117e-02],\n",
       "       [ 1.87512299e-02],\n",
       "       [ 3.39631734e-02],\n",
       "       [ 5.74771212e-03],\n",
       "       [ 4.06091957e-02],\n",
       "       [ 3.07949533e-03],\n",
       "       [ 1.10874908e-02],\n",
       "       [-4.46051803e-02],\n",
       "       [ 1.60647741e-02],\n",
       "       [ 4.33539966e-02],\n",
       "       [ 1.52296245e-03],\n",
       "       [ 3.80958631e-02],\n",
       "       [-7.18956431e-02],\n",
       "       [-1.46236249e-02],\n",
       "       [ 4.20238632e-02],\n",
       "       [ 5.43917921e-02],\n",
       "       [ 8.01067861e-02],\n",
       "       [-5.79702844e-03],\n",
       "       [-2.38673772e-02],\n",
       "       [ 1.11372866e-01],\n",
       "       [-6.36024833e-02],\n",
       "       [-6.41856092e-02],\n",
       "       [-6.17992186e-03],\n",
       "       [-2.17895912e-02],\n",
       "       [-1.33076239e-02],\n",
       "       [ 3.32497811e-02],\n",
       "       [-4.31285242e-04],\n",
       "       [ 3.04398165e-02],\n",
       "       [ 1.77958056e-02],\n",
       "       [ 6.18998804e-02],\n",
       "       [-3.66112137e-03],\n",
       "       [ 5.85952108e-02],\n",
       "       [ 1.20428795e-01],\n",
       "       [-6.23896417e-02],\n",
       "       [ 6.89632103e-02],\n",
       "       [-6.54840173e-02],\n",
       "       [-8.29476420e-02],\n",
       "       [ 2.63682384e-02],\n",
       "       [ 7.13500444e-02],\n",
       "       [ 4.23358595e-02],\n",
       "       [-5.36764027e-02],\n",
       "       [ 5.80760041e-02],\n",
       "       [ 4.86478056e-02],\n",
       "       [-3.64253728e-02],\n",
       "       [ 5.64243276e-02],\n",
       "       [ 1.54460748e-02],\n",
       "       [ 7.81781094e-02],\n",
       "       [ 3.42157798e-02],\n",
       "       [ 3.32090522e-02],\n",
       "       [ 1.23453697e-01],\n",
       "       [ 1.09410384e-01],\n",
       "       [-6.67696692e-02],\n",
       "       [-6.37971270e-02],\n",
       "       [ 2.69998010e-02],\n",
       "       [-1.07719579e-01],\n",
       "       [-1.77318944e-01],\n",
       "       [-1.16425684e-01],\n",
       "       [ 1.80473308e-02],\n",
       "       [ 1.42042535e-02],\n",
       "       [-9.10467285e-02],\n",
       "       [ 4.55321041e-02],\n",
       "       [ 5.86634835e-02],\n",
       "       [ 3.35469301e-03],\n",
       "       [-4.95343333e-02],\n",
       "       [-9.89412578e-02],\n",
       "       [-3.26195513e-03],\n",
       "       [-6.93080906e-02],\n",
       "       [ 5.83454070e-02],\n",
       "       [ 4.04951119e-02],\n",
       "       [ 1.96719463e-02],\n",
       "       [-2.18804948e-02],\n",
       "       [-4.95308153e-04],\n",
       "       [ 3.14562765e-02],\n",
       "       [ 4.27190662e-02],\n",
       "       [ 2.27220629e-03],\n",
       "       [-1.93917974e-02],\n",
       "       [ 2.01383239e-02],\n",
       "       [-6.77694883e-03],\n",
       "       [ 2.74896629e-02],\n",
       "       [ 4.79448255e-02],\n",
       "       [ 3.41980227e-02],\n",
       "       [ 4.41220913e-02],\n",
       "       [-3.71163781e-02],\n",
       "       [-3.11618601e-03],\n",
       "       [-6.18668892e-02],\n",
       "       [-7.35962232e-03],\n",
       "       [ 2.55984942e-02],\n",
       "       [-1.05950049e-02]])"
      ]
     },
     "execution_count": 96,
     "metadata": {},
     "output_type": "execute_result"
    }
   ],
   "source": [
    "xData"
   ]
  },
  {
   "cell_type": "code",
   "execution_count": 97,
   "metadata": {},
   "outputs": [
    {
     "data": {
      "text/plain": [
       "Date\n",
       "2018-10-05    0.000000\n",
       "2018-10-01   -0.030265\n",
       "2018-09-01   -0.020292\n",
       "2018-08-01    0.000764\n",
       "2018-07-01    0.091077\n",
       "2018-06-01    0.028258\n",
       "2018-05-01    0.066507\n",
       "2018-04-01   -0.014015\n",
       "2018-03-01   -0.066025\n",
       "2018-02-01   -0.055738\n",
       "2018-01-01    0.118062\n",
       "2017-12-01    0.024466\n",
       "2017-11-01    0.004692\n",
       "2017-10-01    0.059983\n",
       "2017-09-01    0.021058\n",
       "2017-08-01    0.009490\n",
       "2017-07-01    0.023957\n",
       "2017-06-01   -0.058174\n",
       "2017-05-01    0.065014\n",
       "2017-04-01    0.092097\n",
       "2017-03-01    0.007714\n",
       "2017-02-01    0.033158\n",
       "2017-01-01    0.032352\n",
       "2016-12-01    0.018178\n",
       "2016-11-01   -0.033778\n",
       "2016-10-01    0.009327\n",
       "2016-09-01    0.013350\n",
       "2016-08-01   -0.002263\n",
       "2016-07-01    0.110808\n",
       "2016-06-01   -0.059289\n",
       "                ...   \n",
       "2008-07-01   -0.100053\n",
       "2008-06-01   -0.101366\n",
       "2008-05-01    0.020042\n",
       "2008-04-01    0.303812\n",
       "2008-03-01   -0.065177\n",
       "2008-02-01   -0.165019\n",
       "2008-01-01   -0.183924\n",
       "2007-12-01   -0.002193\n",
       "2007-11-01   -0.019802\n",
       "2007-10-01    0.246320\n",
       "2007-09-01    0.100961\n",
       "2007-08-01    0.010294\n",
       "2007-07-01   -0.024297\n",
       "2007-06-01    0.049788\n",
       "2007-05-01    0.056282\n",
       "2007-04-01    0.028855\n",
       "2007-03-01    0.019379\n",
       "2007-02-01   -0.103789\n",
       "2007-01-01    0.089081\n",
       "2006-12-01   -0.050185\n",
       "2006-11-01    0.017675\n",
       "2006-10-01    0.185345\n",
       "2006-09-01    0.061739\n",
       "2006-08-01   -0.020874\n",
       "2006-07-01   -0.078053\n",
       "2006-06-01    0.127777\n",
       "2006-05-01   -0.110351\n",
       "2006-04-01    0.071641\n",
       "2006-03-01    0.075506\n",
       "2006-02-01   -0.161882\n",
       "Name: Returns, Length: 154, dtype: float64"
      ]
     },
     "execution_count": 97,
     "metadata": {},
     "output_type": "execute_result"
    }
   ],
   "source": [
    "yData"
   ]
  },
  {
   "cell_type": "code",
   "execution_count": 98,
   "metadata": {},
   "outputs": [],
   "source": [
    "from sklearn import datasets, linear_model"
   ]
  },
  {
   "cell_type": "code",
   "execution_count": 99,
   "metadata": {},
   "outputs": [],
   "source": [
    "goodGoogModel = linear_model.LinearRegression()"
   ]
  },
  {
   "cell_type": "code",
   "execution_count": 100,
   "metadata": {},
   "outputs": [
    {
     "data": {
      "text/plain": [
       "LinearRegression(copy_X=True, fit_intercept=True, n_jobs=1, normalize=False)"
      ]
     },
     "execution_count": 100,
     "metadata": {},
     "output_type": "execute_result"
    }
   ],
   "source": [
    "goodGoogModel.fit(xData,yData)"
   ]
  },
  {
   "cell_type": "code",
   "execution_count": 101,
   "metadata": {},
   "outputs": [
    {
     "data": {
      "text/plain": [
       "0.39350743527930687"
      ]
     },
     "execution_count": 101,
     "metadata": {},
     "output_type": "execute_result"
    }
   ],
   "source": [
    "goodGoogModel.score(xData,yData)"
   ]
  },
  {
   "cell_type": "code",
   "execution_count": 103,
   "metadata": {},
   "outputs": [
    {
     "name": "stdout",
     "output_type": "stream",
     "text": [
      "[1.07670174]\n",
      "0.004434916383914774\n"
     ]
    }
   ],
   "source": [
    "print(goodGoogModel.coef_) # slope\n",
    "print(goodGoogModel.intercept_)"
   ]
  },
  {
   "cell_type": "code",
   "execution_count": 107,
   "metadata": {},
   "outputs": [
    {
     "data": {
      "image/png": "[encoded data removed]",
      "text/plain": [
       "<Figure size 432x288 with 1 Axes>"
      ]
     },
     "metadata": {},
     "output_type": "display_data"
    }
   ],
   "source": [
    "import matplotlib.pyplot as plt\n",
    "plt.scatter(xData, yData, color='black')\n",
    "plt.plot(xData, goodGoogModel.predict(xData), color='blue', linewidth=3)\n",
    "# plt.xticks(())\n",
    "# plt.yticks(())\n",
    "plt.show()"
   ]
  },
  {
   "cell_type": "code",
   "execution_count": null,
   "metadata": {},
   "outputs": [],
   "source": []
  }
 ],
 "metadata": {
  "kernelspec": {
   "display_name": "Python 3",
   "language": "python",
   "name": "python3"
  },
  "language_info": {
   "codemirror_mode": {
    "name": "ipython",
    "version": 3
   },
   "file_extension": ".py",
   "mimetype": "text/x-python",
   "name": "python",
   "nbconvert_exporter": "python",
   "pygments_lexer": "ipython3",
   "version": "3.6.5"
  }
 },
 "nbformat": 4,
 "nbformat_minor": 2
}
