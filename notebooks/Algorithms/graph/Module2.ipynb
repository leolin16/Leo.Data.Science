{
 "cells": [
  {
   "cell_type": "markdown",
   "metadata": {},
   "source": [
    "# Module 2: Pathfinding & Graph Search \n",
    "\n",
    "\n",
    "\n",
    "<img src=\"images/Pathfinding-Algo-Icon.png\" alt=\"Pathfinding\" width=\"120\" style=\"float:right\"/>\n",
    "\n",
    "Graph search algorithms explore a graph either for general discovery or explicit search. These algorithms carve paths through the graph, but there is no expectation that those paths are computationally optimal.\n",
    "\n",
    "Pathfinding algorithms build on top of graph search algorithms and explore routes between nodes, starting at one node and traversing through relationships until the destination has been reached.\n",
    "\n",
    "In this notebook we'll learn how to use these algorithms in Spark and Neo4j. Before we get started let's import those libraries:"
   ]
  },
  {
   "cell_type": "code",
   "execution_count": 1,
   "metadata": {},
   "outputs": [],
   "source": [
    "from pyspark.sql.types import *\n",
    "from graphframes import *\n",
    "from neo4j import GraphDatabase\n",
    "from pyspark.sql import functions as F\n",
    "from pyspark.context import SparkContext\n",
    "from pyspark.sql.session import SparkSession\n",
    "\n",
    "import pandas as pd"
   ]
  },
  {
   "cell_type": "markdown",
   "metadata": {},
   "source": [
    "## Connect to Spark and Neo4j\n",
    "\n",
    "Let's create connections to Spark and Neo4j. The following code will create a SparkContext that we'll use to connect to Spark:"
   ]
  },
  {
   "cell_type": "code",
   "execution_count": 2,
   "metadata": {},
   "outputs": [],
   "source": [
    "sc = SparkContext.getOrCreate()\n",
    "spark = SparkSession(sc)"
   ]
  },
  {
   "cell_type": "markdown",
   "metadata": {},
   "source": [
    "And let's create a connection to the database. We'll need to update the password to use the one that we chose when creating our database:"
   ]
  },
  {
   "cell_type": "code",
   "execution_count": 3,
   "metadata": {},
   "outputs": [],
   "source": [
    "user = \"neo4j\"\n",
    "password = \"neo\"\n",
    "driver = GraphDatabase.driver(\"bolt://graph-algorithms-in-practice-neo4j\", auth=(user, password))"
   ]
  },
  {
   "cell_type": "markdown",
   "metadata": {},
   "source": [
    "## The Transport Graph\n",
    "\n",
    "The transport graph is a subset of the data from the [International E-road Network](elbruz.org/e-roads).\n",
    "\n",
    "### Importing the Data into Apache Spark\n",
    "\n",
    "First let's import the data into Apache Spark. The function below creates a GraphFrame based on these CSV files:"
   ]
  },
  {
   "cell_type": "code",
   "execution_count": 7,
   "metadata": {},
   "outputs": [],
   "source": [
    "def create_transport_graph():\n",
    "    node_fields = [\n",
    "        StructField(\"id\", StringType(), True),\n",
    "        StructField(\"latitude\", FloatType(), True),\n",
    "        StructField(\"longitude\", FloatType(), True),\n",
    "        StructField(\"population\", IntegerType(), True)\n",
    "    ]\n",
    "    nodes = spark.read.csv(\"../data/transport-nodes.csv\", header=True,\n",
    "                           schema = StructType(node_fields))\n",
    "    \n",
    "    rels = spark.read.csv(\"../data/transport-relationships.csv\", header=True)\n",
    "    reversed_rels = (rels.withColumn(\"newSrc\", rels.dst)\n",
    "                     .withColumn(\"newDst\", rels.src)\n",
    "                     .drop(\"dst\", \"src\")\n",
    "                     .withColumnRenamed(\"newSrc\", \"src\")\n",
    "                     .withColumnRenamed(\"newDst\", \"dst\")\n",
    "                     .select(\"src\", \"dst\", \"relationship\", \"cost\"))\n",
    "    relationships = rels.union(reversed_rels)\n",
    "    \n",
    "    return GraphFrame(nodes, relationships)"
   ]
  },
  {
   "cell_type": "markdown",
   "metadata": {},
   "source": [
    "And now let's call that function, and assign the GraphFrame to a variable:"
   ]
  },
  {
   "cell_type": "code",
   "execution_count": 8,
   "metadata": {},
   "outputs": [],
   "source": [
    "g = create_transport_graph()"
   ]
  },
  {
   "cell_type": "markdown",
   "metadata": {},
   "source": [
    "### Importing the Data into Neo4j\n",
    "\n",
    "Now we'll import the data into Neo4j. \n",
    "\n"
   ]
  },
  {
   "cell_type": "code",
   "execution_count": 9,
   "metadata": {},
   "outputs": [],
   "source": [
    "with driver.session() as session:\n",
    "    session.run(\"\"\"\n",
    "    WITH \"file:///transport-nodes.csv\" AS uri\n",
    "    LOAD CSV WITH HEADERS FROM uri AS row\n",
    "    MERGE (place:Place {id:row.id})\n",
    "    SET place.latitude = toFloat(row.latitude),\n",
    "        place.longitude = toFloat(row.latitude),\n",
    "        place.population = toInteger(row.population)\n",
    "    \"\"\")\n",
    "    \n",
    "    session.run(\"\"\"\n",
    "    WITH \"file:///transport-relationships.csv\" AS uri\n",
    "    LOAD CSV WITH HEADERS FROM uri AS row\n",
    "    MATCH (origin:Place {id: row.src})\n",
    "    MATCH (destination:Place {id: row.dst})\n",
    "    MERGE (origin)-[:EROAD {distance: toInteger(row.cost)}]->(destination)\n",
    "    \"\"\")"
   ]
  },
  {
   "cell_type": "markdown",
   "metadata": {},
   "source": [
    "## Breadth First Search"
   ]
  },
  {
   "cell_type": "markdown",
   "metadata": {},
   "source": [
    "Spark’s implementation of the Breadth First Search algorithm finds the shortest path between two nodes by the number of relationships (i.e., hops) between them. You can explicitly name your target node or add criteria to be met.\n",
    "\n",
    "The diagram below shows the order in which we would visit the nodes of our transport graph if we were performing a breadth first search that started from the Dutch city, Den Haag (in English, The Hague). The numbers next to the city name indicate the order in which each node is visited.\n",
    "\n",
    "![](images/traversing_bfs.svg)\n",
    "\n",
    "For example, we can use the bfs function to find the first medium-sized (by European standards) city that has a population of between 100,000 and 300,000 people.\n",
    "\n",
    "Let’s first check which places have a population matching those criteria:"
   ]
  },
  {
   "cell_type": "code",
   "execution_count": 10,
   "metadata": {},
   "outputs": [
    {
     "name": "stdout",
     "output_type": "stream",
     "text": [
      "+----------+--------+---------+----------+\n",
      "|        id|latitude|longitude|population|\n",
      "+----------+--------+---------+----------+\n",
      "|Colchester|51.88921|  0.90421|    104390|\n",
      "|   Ipswich|52.05917|  1.15545|    133384|\n",
      "+----------+--------+---------+----------+\n",
      "\n"
     ]
    }
   ],
   "source": [
    "(g.vertices\n",
    " .filter(\"population > 100000 and population < 300000\")\n",
    " .sort(\"population\")\n",
    " .show())"
   ]
  },
  {
   "cell_type": "markdown",
   "metadata": {},
   "source": [
    "There are only two places matching our criteria, and we’d expect to reach Ipswich first based on a breadth first search.\n",
    "\n",
    "The following code finds the shortest path from Den Haag to a medium-sized city:"
   ]
  },
  {
   "cell_type": "code",
   "execution_count": 12,
   "metadata": {},
   "outputs": [
    {
     "name": "stdout",
     "output_type": "stream",
     "text": [
      "+---------------------------------------+---------------------------------------+------------------------------------------+------------------------------------------+-------------------------------------+--------------------------------+------------------------------------+\n",
      "|from                                   |e0                                     |v1                                        |e1                                        |v2                                   |e2                              |to                                  |\n",
      "+---------------------------------------+---------------------------------------+------------------------------------------+------------------------------------------+-------------------------------------+--------------------------------+------------------------------------+\n",
      "|[Den Haag, 52.078663, 4.288788, 514861]|[Den Haag, Hoek van Holland, EROAD, 27]|[Hoek van Holland, 51.9775, 4.13333, 9382]|[Hoek van Holland, Felixstowe, EROAD, 207]|[Felixstowe, 51.96375, 1.3511, 23689]|[Felixstowe, Ipswich, EROAD, 22]|[Ipswich, 52.05917, 1.15545, 133384]|\n",
      "+---------------------------------------+---------------------------------------+------------------------------------------+------------------------------------------+-------------------------------------+--------------------------------+------------------------------------+\n",
      "\n"
     ]
    }
   ],
   "source": [
    "from_expr = \"id='Den Haag'\"\n",
    "to_expr = \"population > 100000 and population < 300000 and id <> 'Den Haag'\"\n",
    "result = g.bfs(from_expr, to_expr)\n",
    "result.show(truncate=False)"
   ]
  },
  {
   "cell_type": "markdown",
   "metadata": {},
   "source": [
    "By default the result has fields for nodes and relationships. We're only interested in the nodes, so let's remove the relationship columns. All those columns start with 'e', so the following code will remove them:"
   ]
  },
  {
   "cell_type": "code",
   "execution_count": 13,
   "metadata": {},
   "outputs": [
    {
     "name": "stdout",
     "output_type": "stream",
     "text": [
      "+--------+----------------+----------+-------+\n",
      "|    from|              v1|        v2|     to|\n",
      "+--------+----------------+----------+-------+\n",
      "|Den Haag|Hoek van Holland|Felixstowe|Ipswich|\n",
      "+--------+----------------+----------+-------+\n",
      "\n"
     ]
    }
   ],
   "source": [
    "columns = [F.col(column + \".id\").alias(column) \n",
    "           for column in result.columns \n",
    "           if not column.startswith(\"e\")]\n",
    "\n",
    "result.select(columns).show()"
   ]
  },
  {
   "cell_type": "markdown",
   "metadata": {},
   "source": [
    "The image below shows the route that the breadth first search took to get from Den Haag to Ipswich:\n",
    "\n",
    "![](images/traversing_bfs_highlighted.svg)\n",
    "\n",
    "Colchester was the only other node that satisfied our criteria but, as we can see, it comes after Ipswich in the breadth first search."
   ]
  },
  {
   "cell_type": "markdown",
   "metadata": {},
   "source": [
    "## Shortest Path\n",
    "\n",
    "\n",
    "The Shortest Path algorithm calculates the shortest (weighted) path between a pair of nodes. It’s useful for user interactions and dynamic workflows because it works in real time.\n",
    "\n",
    "<img src=\"images/Edsger_Wybe_Dijkstra.jpg\" alt=\"drawing\" width=\"120\" style=\"float:right\"/>\n",
    "\n",
    "Dijkstra’s Shortest Path algorithm operates by first finding the lowest-weight relationship from the start node to directly connected nodes. It keeps track of those weights and moves to the “closest” node. \n",
    "\n",
    "It then performs the same calculation, but now as a cumulative total from the start node. The algorithm continues to do this, evaluating a “wave” of cumulative weights and always choosing the lowest weighted cumulative path to advance along, until it reaches the destination node.\n",
    "\n",
    "We're going to explore how to use this one using Neo4j. We'll start by computing unweighted shortest paths, which we can do by passing `null` as the 3rd parameter to the procedure:"
   ]
  },
  {
   "cell_type": "code",
   "execution_count": 14,
   "metadata": {},
   "outputs": [
    {
     "data": {
      "text/html": [
       "<div>\n",
       "<style scoped>\n",
       "    .dataframe tbody tr th:only-of-type {\n",
       "        vertical-align: middle;\n",
       "    }\n",
       "\n",
       "    .dataframe tbody tr th {\n",
       "        vertical-align: top;\n",
       "    }\n",
       "\n",
       "    .dataframe thead th {\n",
       "        text-align: right;\n",
       "    }\n",
       "</style>\n",
       "<table border=\"1\" class=\"dataframe\">\n",
       "  <thead>\n",
       "    <tr style=\"text-align: right;\">\n",
       "      <th></th>\n",
       "      <th>cost</th>\n",
       "      <th>place</th>\n",
       "    </tr>\n",
       "  </thead>\n",
       "  <tbody>\n",
       "    <tr>\n",
       "      <th>0</th>\n",
       "      <td>0.0</td>\n",
       "      <td>Amsterdam</td>\n",
       "    </tr>\n",
       "    <tr>\n",
       "      <th>1</th>\n",
       "      <td>1.0</td>\n",
       "      <td>Immingham</td>\n",
       "    </tr>\n",
       "    <tr>\n",
       "      <th>2</th>\n",
       "      <td>2.0</td>\n",
       "      <td>Doncaster</td>\n",
       "    </tr>\n",
       "    <tr>\n",
       "      <th>3</th>\n",
       "      <td>3.0</td>\n",
       "      <td>London</td>\n",
       "    </tr>\n",
       "  </tbody>\n",
       "</table>\n",
       "</div>"
      ],
      "text/plain": [
       "   cost      place\n",
       "0   0.0  Amsterdam\n",
       "1   1.0  Immingham\n",
       "2   2.0  Doncaster\n",
       "3   3.0     London"
      ]
     },
     "metadata": {},
     "output_type": "display_data"
    }
   ],
   "source": [
    "query = \"\"\"\n",
    "MATCH (source:Place {id: $source}),\n",
    "      (destination:Place {id: $destination})\n",
    "CALL algo.shortestPath.stream(source, destination, null)\n",
    "YIELD nodeId, cost\n",
    "RETURN algo.getNodeById(nodeId).id AS place, cost\n",
    "\"\"\"\n",
    "\n",
    "params = {\n",
    "    \"source\": \"Amsterdam\",\n",
    "    \"destination\": \"London\"\n",
    "}\n",
    "\n",
    "with driver.session() as session:\n",
    "    rows = session.run(query, params)\n",
    "    df = pd.DataFrame([dict(record) for record in rows])\n",
    "\n",
    "display(df)"
   ]
  },
  {
   "cell_type": "markdown",
   "metadata": {},
   "source": [
    "The cost here is the cumulative number of relationships. If we want to find the cost in terms of distance, we can write some post processing code in Cypher:"
   ]
  },
  {
   "cell_type": "code",
   "execution_count": 15,
   "metadata": {},
   "outputs": [
    {
     "data": {
      "text/html": [
       "<div>\n",
       "<style scoped>\n",
       "    .dataframe tbody tr th:only-of-type {\n",
       "        vertical-align: middle;\n",
       "    }\n",
       "\n",
       "    .dataframe tbody tr th {\n",
       "        vertical-align: top;\n",
       "    }\n",
       "\n",
       "    .dataframe thead th {\n",
       "        text-align: right;\n",
       "    }\n",
       "</style>\n",
       "<table border=\"1\" class=\"dataframe\">\n",
       "  <thead>\n",
       "    <tr style=\"text-align: right;\">\n",
       "      <th></th>\n",
       "      <th>cost</th>\n",
       "      <th>place</th>\n",
       "    </tr>\n",
       "  </thead>\n",
       "  <tbody>\n",
       "    <tr>\n",
       "      <th>0</th>\n",
       "      <td>0.0</td>\n",
       "      <td>Amsterdam</td>\n",
       "    </tr>\n",
       "    <tr>\n",
       "      <th>1</th>\n",
       "      <td>369.0</td>\n",
       "      <td>Immingham</td>\n",
       "    </tr>\n",
       "    <tr>\n",
       "      <th>2</th>\n",
       "      <td>443.0</td>\n",
       "      <td>Doncaster</td>\n",
       "    </tr>\n",
       "    <tr>\n",
       "      <th>3</th>\n",
       "      <td>720.0</td>\n",
       "      <td>London</td>\n",
       "    </tr>\n",
       "  </tbody>\n",
       "</table>\n",
       "</div>"
      ],
      "text/plain": [
       "    cost      place\n",
       "0    0.0  Amsterdam\n",
       "1  369.0  Immingham\n",
       "2  443.0  Doncaster\n",
       "3  720.0     London"
      ]
     },
     "metadata": {},
     "output_type": "display_data"
    }
   ],
   "source": [
    "query = \"\"\"\n",
    "MATCH (source:Place {id: $source}),\n",
    "      (destination:Place {id: $destination})\n",
    "CALL algo.shortestPath.stream(source, destination, null)\n",
    "YIELD nodeId, cost\n",
    "\n",
    "// collect all the nodes in the path\n",
    "WITH collect(algo.getNodeById(nodeId)) AS path\n",
    "\n",
    "// iterate over pairs of nodes, \n",
    "// find the EROAD relationship between them, \n",
    "// and extract the distance\n",
    "UNWIND range(0, size(path)-1) AS index\n",
    "WITH path[index] AS current, path[index+1] AS next\n",
    "WITH current, next, [(current)-[r:EROAD]-(next) | r.distance][0] AS distance\n",
    "\n",
    "// create a list of places and the distance of that part of the journey\n",
    "WITH collect({current: current, next:next, distance: distance}) AS stops\n",
    "\n",
    "// iterate over that list, computing the cumulative distance \n",
    "// at each stage of the journey\n",
    "UNWIND range(0, size(stops)-1) AS index\n",
    "WITH stops[index] AS location, stops, index\n",
    "RETURN location.current.id AS place,\n",
    "reduce(acc=0.0,\n",
    "       distance in [stop in stops[0..index] | stop.distance] |\n",
    "       acc + distance) AS cost\n",
    "\"\"\"\n",
    "\n",
    "params = {\n",
    "    \"source\": \"Amsterdam\",\n",
    "    \"destination\": \"London\"\n",
    "}\n",
    "\n",
    "with driver.session() as session:\n",
    "    rows = session.run(query, params)\n",
    "    df = pd.DataFrame([dict(record) for record in rows])\n",
    "\n",
    "display(df)"
   ]
  },
  {
   "cell_type": "markdown",
   "metadata": {},
   "source": [
    "The unweighted shortest path from Amsterdam to London, routing us through the fewest number of cities. It has a total cost of 720 km.\n",
    "\n",
    "![](images/unweighted_shortest.svg)\n",
    "\n",
    "Now let's have a look at how to find the shortest path while taking into account the distance of each road."
   ]
  },
  {
   "cell_type": "markdown",
   "metadata": {},
   "source": [
    "## Weighted Shortest Path\n",
    "\n",
    "To do this we need to pass the name of the property that contains the relationship weight. "
   ]
  },
  {
   "cell_type": "code",
   "execution_count": null,
   "metadata": {},
   "outputs": [
    {
     "data": {
      "text/html": [
       "<div>\n",
       "<style scoped>\n",
       "    .dataframe tbody tr th:only-of-type {\n",
       "        vertical-align: middle;\n",
       "    }\n",
       "\n",
       "    .dataframe tbody tr th {\n",
       "        vertical-align: top;\n",
       "    }\n",
       "\n",
       "    .dataframe thead th {\n",
       "        text-align: right;\n",
       "    }\n",
       "</style>\n",
       "<table border=\"1\" class=\"dataframe\">\n",
       "  <thead>\n",
       "    <tr style=\"text-align: right;\">\n",
       "      <th></th>\n",
       "      <th>cost</th>\n",
       "      <th>place</th>\n",
       "    </tr>\n",
       "  </thead>\n",
       "  <tbody>\n",
       "    <tr>\n",
       "      <th>0</th>\n",
       "      <td>0.0</td>\n",
       "      <td>Amsterdam</td>\n",
       "    </tr>\n",
       "    <tr>\n",
       "      <th>1</th>\n",
       "      <td>59.0</td>\n",
       "      <td>Den Haag</td>\n",
       "    </tr>\n",
       "    <tr>\n",
       "      <th>2</th>\n",
       "      <td>86.0</td>\n",
       "      <td>Hoek van Holland</td>\n",
       "    </tr>\n",
       "    <tr>\n",
       "      <th>3</th>\n",
       "      <td>293.0</td>\n",
       "      <td>Felixstowe</td>\n",
       "    </tr>\n",
       "    <tr>\n",
       "      <th>4</th>\n",
       "      <td>315.0</td>\n",
       "      <td>Ipswich</td>\n",
       "    </tr>\n",
       "    <tr>\n",
       "      <th>5</th>\n",
       "      <td>347.0</td>\n",
       "      <td>Colchester</td>\n",
       "    </tr>\n",
       "    <tr>\n",
       "      <th>6</th>\n",
       "      <td>453.0</td>\n",
       "      <td>London</td>\n",
       "    </tr>\n",
       "  </tbody>\n",
       "</table>\n",
       "</div>"
      ],
      "text/plain": [
       "    cost             place\n",
       "0    0.0         Amsterdam\n",
       "1   59.0          Den Haag\n",
       "2   86.0  Hoek van Holland\n",
       "3  293.0        Felixstowe\n",
       "4  315.0           Ipswich\n",
       "5  347.0        Colchester\n",
       "6  453.0            London"
      ]
     },
     "metadata": {},
     "output_type": "display_data"
    }
   ],
   "source": [
    "query = \"\"\"\n",
    "MATCH (source:Place {id: $source}),\n",
    "      (destination:Place {id: $destination})\n",
    "CALL algo.shortestPath.stream(source, destination, \"distance\")\n",
    "YIELD nodeId, cost\n",
    "RETURN algo.getNodeById(nodeId).id AS place, cost\n",
    "\"\"\"\n",
    "\n",
    "params = {\n",
    "    \"source\": \"Amsterdam\",\n",
    "    \"destination\": \"London\"\n",
    "}\n",
    "\n",
    "with driver.session() as session:\n",
    "    rows = session.run(query, params)\n",
    "    df = pd.DataFrame([dict(record) for record in rows])\n",
    "\n",
    "display(df)"
   ]
  },
  {
   "cell_type": "markdown",
   "metadata": {},
   "source": [
    "We can compute weighted shortest with Spark as well, but we'll need to write our own function using the [aggregateMessages framework](http://graphframes.github.io/graphframes/docs/_site/user-guide.html#message-passing-via-aggregatemessages)."
   ]
  },
  {
   "cell_type": "code",
   "execution_count": 13,
   "metadata": {},
   "outputs": [],
   "source": [
    "from pyspark.sql.types import *\n",
    "from graphframes import *\n",
    "\n",
    "from graphframes.lib import AggregateMessages as AM\n",
    "from pyspark.sql import functions as F\n",
    "\n",
    "add_path_udf = F.udf(lambda path, id: path + [id], ArrayType(StringType()))\n",
    "\n",
    "def shortest_path(g, origin, destination, column_name=\"cost\"):\n",
    "    if g.vertices.filter(g.vertices.id == destination).count() == 0:\n",
    "        return (spark.createDataFrame(sc.emptyRDD(), g.vertices.schema)\n",
    "                .withColumn(\"path\", F.array()))\n",
    "\n",
    "    vertices = (g.vertices.withColumn(\"visited\", F.lit(False))\n",
    "                .withColumn(\"distance\", F.when(g.vertices[\"id\"] == origin, 0)\n",
    "                            .otherwise(float(\"inf\")))\n",
    "                .withColumn(\"path\", F.array()))\n",
    "    cached_vertices = AM.getCachedDataFrame(vertices)\n",
    "    g2 = GraphFrame(cached_vertices, g.edges)\n",
    "\n",
    "    while g2.vertices.filter('visited == False').first():\n",
    "        current_node_id = g2.vertices.filter('visited == False').sort(\"distance\").first().id\n",
    "\n",
    "        msg_distance = AM.edge[column_name] + AM.src['distance']\n",
    "        msg_path = add_path_udf(AM.src[\"path\"], AM.src[\"id\"])\n",
    "        msg_for_dst = F.when(AM.src['id'] == current_node_id, F.struct(msg_distance, msg_path))\n",
    "        new_distances = g2.aggregateMessages(F.min(AM.msg).alias(\"aggMess\"),\n",
    "                                             sendToDst=msg_for_dst)\n",
    "\n",
    "        new_visited_col = F.when(\n",
    "            g2.vertices.visited | (g2.vertices.id == current_node_id), True).otherwise(False)\n",
    "        new_distance_col = F.when(new_distances[\"aggMess\"].isNotNull() &\n",
    "                                  (new_distances.aggMess[\"col1\"] < g2.vertices.distance),\n",
    "                                  new_distances.aggMess[\"col1\"]) \\\n",
    "            .otherwise(g2.vertices.distance)\n",
    "        new_path_col = F.when(new_distances[\"aggMess\"].isNotNull() &\n",
    "                              (new_distances.aggMess[\"col1\"] < g2.vertices.distance),\n",
    "                              new_distances.aggMess[\"col2\"].cast(\"array<string>\")) \\\n",
    "            .otherwise(g2.vertices.path)\n",
    "\n",
    "        new_vertices = (g2.vertices.join(new_distances, on=\"id\", how=\"left_outer\")\n",
    "                        .drop(new_distances[\"id\"])\n",
    "                        .withColumn(\"visited\", new_visited_col)\n",
    "                        .withColumn(\"newDistance\", new_distance_col)\n",
    "                        .withColumn(\"newPath\", new_path_col)\n",
    "                        .drop(\"aggMess\", \"distance\", \"path\")\n",
    "                        .withColumnRenamed('newDistance', 'distance')\n",
    "                        .withColumnRenamed('newPath', 'path'))\n",
    "        cached_new_vertices = AM.getCachedDataFrame(new_vertices)\n",
    "        g2 = GraphFrame(cached_new_vertices, g2.edges)\n",
    "        if g2.vertices.filter(g2.vertices.id == destination).first().visited:\n",
    "            return (g2.vertices.filter(g2.vertices.id == destination)\n",
    "                    .withColumn(\"newPath\", add_path_udf(\"path\", \"id\"))\n",
    "                    .drop(\"visited\", \"path\")\n",
    "                    .withColumnRenamed(\"newPath\", \"path\"))\n",
    "    return (spark.createDataFrame(sc.emptyRDD(), g.vertices.schema)\n",
    "            .withColumn(\"path\", F.array()))"
   ]
  },
  {
   "cell_type": "code",
   "execution_count": 14,
   "metadata": {},
   "outputs": [
    {
     "name": "stdout",
     "output_type": "stream",
     "text": [
      "+----------+--------+------------------------------------------------------------------------+\n",
      "|id        |distance|path                                                                    |\n",
      "+----------+--------+------------------------------------------------------------------------+\n",
      "|Colchester|347.0   |[Amsterdam, Den Haag, Hoek van Holland, Felixstowe, Ipswich, Colchester]|\n",
      "+----------+--------+------------------------------------------------------------------------+\n",
      "\n"
     ]
    }
   ],
   "source": [
    "result = shortest_path(g, \"Amsterdam\", \"Colchester\", \"cost\")\n",
    "result.select(\"id\", \"distance\", \"path\").show(truncate=False)"
   ]
  },
  {
   "cell_type": "markdown",
   "metadata": {},
   "source": [
    "## A*\n",
    "\n",
    "The A* Shortest Path algorithm improves on Dijkstra’s by finding shortest paths more quickly. It does this by allowing the inclusion of extra information that the algorithm can use, as part of a heuristic function, when determining which paths to explore next.\n",
    "\n",
    "In Neo4j’s implementation, geospatial distance is used as the heuristic. In our example transportation dataset we use the latitude and longitude of each location as part of the heuristic function."
   ]
  },
  {
   "cell_type": "code",
   "execution_count": 15,
   "metadata": {},
   "outputs": [
    {
     "data": {
      "text/html": [
       "<div>\n",
       "<style scoped>\n",
       "    .dataframe tbody tr th:only-of-type {\n",
       "        vertical-align: middle;\n",
       "    }\n",
       "\n",
       "    .dataframe tbody tr th {\n",
       "        vertical-align: top;\n",
       "    }\n",
       "\n",
       "    .dataframe thead th {\n",
       "        text-align: right;\n",
       "    }\n",
       "</style>\n",
       "<table border=\"1\" class=\"dataframe\">\n",
       "  <thead>\n",
       "    <tr style=\"text-align: right;\">\n",
       "      <th></th>\n",
       "      <th>cost</th>\n",
       "      <th>place</th>\n",
       "    </tr>\n",
       "  </thead>\n",
       "  <tbody>\n",
       "    <tr>\n",
       "      <th>0</th>\n",
       "      <td>0.0</td>\n",
       "      <td>Amsterdam</td>\n",
       "    </tr>\n",
       "    <tr>\n",
       "      <th>1</th>\n",
       "      <td>59.0</td>\n",
       "      <td>Den Haag</td>\n",
       "    </tr>\n",
       "    <tr>\n",
       "      <th>2</th>\n",
       "      <td>86.0</td>\n",
       "      <td>Hoek van Holland</td>\n",
       "    </tr>\n",
       "    <tr>\n",
       "      <th>3</th>\n",
       "      <td>293.0</td>\n",
       "      <td>Felixstowe</td>\n",
       "    </tr>\n",
       "    <tr>\n",
       "      <th>4</th>\n",
       "      <td>315.0</td>\n",
       "      <td>Ipswich</td>\n",
       "    </tr>\n",
       "    <tr>\n",
       "      <th>5</th>\n",
       "      <td>347.0</td>\n",
       "      <td>Colchester</td>\n",
       "    </tr>\n",
       "    <tr>\n",
       "      <th>6</th>\n",
       "      <td>453.0</td>\n",
       "      <td>London</td>\n",
       "    </tr>\n",
       "  </tbody>\n",
       "</table>\n",
       "</div>"
      ],
      "text/plain": [
       "    cost             place\n",
       "0    0.0         Amsterdam\n",
       "1   59.0          Den Haag\n",
       "2   86.0  Hoek van Holland\n",
       "3  293.0        Felixstowe\n",
       "4  315.0           Ipswich\n",
       "5  347.0        Colchester\n",
       "6  453.0            London"
      ]
     },
     "metadata": {},
     "output_type": "display_data"
    }
   ],
   "source": [
    "query = \"\"\"\n",
    "MATCH (source:Place {id: $source}),\n",
    "      (destination:Place {id: $destination})\n",
    "CALL algo.shortestPath.astar.stream(source, destination, \"distance\", \"latitude\", \"longitude\")\n",
    "YIELD nodeId, cost\n",
    "RETURN algo.getNodeById(nodeId).id AS place, cost\n",
    "\"\"\"\n",
    "\n",
    "params = {\n",
    "    \"source\": \"Amsterdam\",\n",
    "    \"destination\": \"London\"\n",
    "}\n",
    "\n",
    "with driver.session() as session:\n",
    "    rows = session.run(query, params)\n",
    "    df = pd.DataFrame([dict(record) for record in rows])\n",
    "\n",
    "display(df)"
   ]
  },
  {
   "cell_type": "markdown",
   "metadata": {},
   "source": [
    "We get the same result using the shortest path algorithm, but on more complex datasets, the A* algorithm will be faster as it evaluates fewer paths."
   ]
  },
  {
   "cell_type": "markdown",
   "metadata": {},
   "source": [
    "## Yen's k-Shortest Paths\n",
    "\n",
    "Yen’s k-Shortest Paths algorithm is similar to the Shortest Path algorithm, but rather than finding just the shortest path between two pairs of nodes, it also calculates the second shortest path, third shortest path, and so on up to k-1 deviations of shortest paths."
   ]
  },
  {
   "cell_type": "code",
   "execution_count": null,
   "metadata": {},
   "outputs": [],
   "source": [
    "query = \"\"\"\n",
    "MATCH (start:Place {id:$source}),\n",
    "      (end:Place {id:$destination})\n",
    "CALL algo.kShortestPaths.stream(start, end, 5, \"distance\")\n",
    "YIELD index, nodeIds, path, costs\n",
    "RETURN index,\n",
    "       [node in algo.getNodesById(nodeIds[1..-1]) | node.id] AS via,\n",
    "       reduce(acc=0.0, cost in costs | acc + cost) AS totalCost\n",
    "\"\"\"\n",
    "\n",
    "params = {\n",
    "    \"source\": \"Gouda\",\n",
    "    \"destination\": \"London\"\n",
    "}\n",
    "\n",
    "with driver.session() as session:\n",
    "    rows = session.run(query, params)\n",
    "    df = pd.DataFrame([dict(record) for record in rows])\n",
    "pd.set_option('max_colwidth', 100)\n",
    "display(df)"
   ]
  },
  {
   "cell_type": "markdown",
   "metadata": {},
   "source": [
    "## All Pairs Shortest Path\n",
    "\n",
    "The All Pairs Shortest Path (APSP) algorithm calculates the shortest (weighted) path between all pairs of nodes. It’s more efficient than running the Single Source Shortest Path algorithm for every pair of nodes in the graph.\n",
    "\n",
    "Spark’s `shortestPaths` function is designed for finding the shortest paths from all nodes to a set of nodes called landmarks. If we wanted to find the shortest path from every location to Colchester, Immingham, and Hoek van Holland, we would write the following query:"
   ]
  },
  {
   "cell_type": "code",
   "execution_count": null,
   "metadata": {},
   "outputs": [],
   "source": [
    "result = g.shortestPaths([\"Colchester\", \"Immingham\", \"Hoek van Holland\"])\n",
    "result.sort([\"id\"]).select(\"id\", \"distances\").show(truncate=False)"
   ]
  },
  {
   "cell_type": "markdown",
   "metadata": {},
   "source": [
    "We can also run this algorithm using Neo4j. The first parameter to this procedure is the property to use to work out the shorest weighted path. If we set this to `null` then the algorithm will calculate the unweighted\n",
    "shortest paths between all pairs of nodes."
   ]
  },
  {
   "cell_type": "code",
   "execution_count": null,
   "metadata": {},
   "outputs": [],
   "source": [
    "query = \"\"\"\n",
    "CALL algo.allShortestPaths.stream(null)\n",
    "YIELD sourceNodeId, targetNodeId, distance\n",
    "WHERE sourceNodeId < targetNodeId\n",
    "RETURN algo.getNodeById(sourceNodeId).id AS source,\n",
    "       algo.getNodeById(targetNodeId).id AS target,\n",
    "       distance\n",
    "ORDER BY distance DESC\n",
    "LIMIT 10\n",
    "\"\"\"\n",
    "\n",
    "with driver.session() as session:\n",
    "    rows = session.run(query)\n",
    "    df = pd.DataFrame([dict(record) for record in rows])\n",
    "\n",
    "display(df)"
   ]
  },
  {
   "cell_type": "markdown",
   "metadata": {},
   "source": [
    "The output shows the 10 pairs of locations that have the most hops between them. If we want to calculate shortest weighted paths, we can pass in the property name that contains the `cost` to be used in the calculation. The following query does this:"
   ]
  },
  {
   "cell_type": "code",
   "execution_count": null,
   "metadata": {},
   "outputs": [],
   "source": [
    "query = \"\"\"\n",
    "CALL algo.allShortestPaths.stream(\"distance\")\n",
    "YIELD sourceNodeId, targetNodeId, distance\n",
    "WHERE sourceNodeId < targetNodeId\n",
    "RETURN algo.getNodeById(sourceNodeId).id AS source,\n",
    "algo.getNodeById(targetNodeId).id AS target,\n",
    "distance\n",
    "ORDER BY distance DESC\n",
    "LIMIT 10\n",
    "\"\"\"\n",
    "\n",
    "with driver.session() as session:\n",
    "    rows = session.run(query)\n",
    "    df = pd.DataFrame([dict(record) for record in rows])\n",
    "\n",
    "display(df)"
   ]
  },
  {
   "cell_type": "markdown",
   "metadata": {},
   "source": [
    "Now we're seeing the 10 pairs of locations furthest from each other in terms of the total distance between them. "
   ]
  },
  {
   "cell_type": "markdown",
   "metadata": {},
   "source": [
    "## Single Source Shortest Path\n",
    "\n",
    "The Single Source Shortest Path (SSSP) algorithm, which came into prominence at around the same time as Dijkstra’s Shortest Path algorithm, acts as an implementation for both problems.\n",
    "\n",
    "Neo4j implements a variation of SSSP, called the Delta-Stepping algorithm that divides Dijkstra’s algorithm into a number of phases that can be executed in parallel. The following query executes the Delta-Stepping algorithm:"
   ]
  },
  {
   "cell_type": "code",
   "execution_count": 6,
   "metadata": {},
   "outputs": [
    {
     "data": {
      "text/html": [
       "<div>\n",
       "<style scoped>\n",
       "    .dataframe tbody tr th:only-of-type {\n",
       "        vertical-align: middle;\n",
       "    }\n",
       "\n",
       "    .dataframe tbody tr th {\n",
       "        vertical-align: top;\n",
       "    }\n",
       "\n",
       "    .dataframe thead th {\n",
       "        text-align: right;\n",
       "    }\n",
       "</style>\n",
       "<table border=\"1\" class=\"dataframe\">\n",
       "  <thead>\n",
       "    <tr style=\"text-align: right;\">\n",
       "      <th></th>\n",
       "      <th>destination</th>\n",
       "      <th>distance</th>\n",
       "    </tr>\n",
       "  </thead>\n",
       "  <tbody>\n",
       "    <tr>\n",
       "      <th>0</th>\n",
       "      <td>Utrecht</td>\n",
       "      <td>0.0</td>\n",
       "    </tr>\n",
       "    <tr>\n",
       "      <th>1</th>\n",
       "      <td>Gouda</td>\n",
       "      <td>35.0</td>\n",
       "    </tr>\n",
       "    <tr>\n",
       "      <th>2</th>\n",
       "      <td>Amsterdam</td>\n",
       "      <td>46.0</td>\n",
       "    </tr>\n",
       "    <tr>\n",
       "      <th>3</th>\n",
       "      <td>Rotterdam</td>\n",
       "      <td>60.0</td>\n",
       "    </tr>\n",
       "    <tr>\n",
       "      <th>4</th>\n",
       "      <td>Den Haag</td>\n",
       "      <td>67.0</td>\n",
       "    </tr>\n",
       "    <tr>\n",
       "      <th>5</th>\n",
       "      <td>Hoek van Holland</td>\n",
       "      <td>93.0</td>\n",
       "    </tr>\n",
       "    <tr>\n",
       "      <th>6</th>\n",
       "      <td>Felixstowe</td>\n",
       "      <td>300.0</td>\n",
       "    </tr>\n",
       "    <tr>\n",
       "      <th>7</th>\n",
       "      <td>Ipswich</td>\n",
       "      <td>322.0</td>\n",
       "    </tr>\n",
       "    <tr>\n",
       "      <th>8</th>\n",
       "      <td>Colchester</td>\n",
       "      <td>354.0</td>\n",
       "    </tr>\n",
       "    <tr>\n",
       "      <th>9</th>\n",
       "      <td>Immingham</td>\n",
       "      <td>415.0</td>\n",
       "    </tr>\n",
       "    <tr>\n",
       "      <th>10</th>\n",
       "      <td>London</td>\n",
       "      <td>460.0</td>\n",
       "    </tr>\n",
       "    <tr>\n",
       "      <th>11</th>\n",
       "      <td>Doncaster</td>\n",
       "      <td>489.0</td>\n",
       "    </tr>\n",
       "  </tbody>\n",
       "</table>\n",
       "</div>"
      ],
      "text/plain": [
       "         destination  distance\n",
       "0            Utrecht       0.0\n",
       "1              Gouda      35.0\n",
       "2          Amsterdam      46.0\n",
       "3          Rotterdam      60.0\n",
       "4           Den Haag      67.0\n",
       "5   Hoek van Holland      93.0\n",
       "6         Felixstowe     300.0\n",
       "7            Ipswich     322.0\n",
       "8         Colchester     354.0\n",
       "9          Immingham     415.0\n",
       "10            London     460.0\n",
       "11         Doncaster     489.0"
      ]
     },
     "metadata": {},
     "output_type": "display_data"
    }
   ],
   "source": [
    "query = \"\"\"\n",
    "MATCH (n:Place {id:$place})\n",
    "CALL algo.shortestPath.deltaStepping.stream(n, \"distance\", 1.0)\n",
    "YIELD nodeId, distance\n",
    "WHERE algo.isFinite(distance)\n",
    "RETURN algo.getNodeById(nodeId).id AS destination, distance\n",
    "ORDER BY distance\n",
    "\"\"\"\n",
    "\n",
    "params = {\n",
    "    \"place\": \"Utrecht\"\n",
    "}\n",
    "\n",
    "with driver.session() as session:\n",
    "    rows = session.run(query, params)\n",
    "    df = pd.DataFrame([dict(record) for record in rows])\n",
    "\n",
    "display(df)"
   ]
  },
  {
   "cell_type": "markdown",
   "metadata": {},
   "source": [
    "## Minimum Spanning Tree\n",
    "\n",
    "The Minimum (Weight) Spanning Tree algorithm starts from a given node and finds all its reachable nodes and the set of relationships that connect the nodes together with the minimum possible weight. It traverses to the next unvisited node with the lowest weight from any visited node, avoiding cycles."
   ]
  },
  {
   "cell_type": "code",
   "execution_count": 4,
   "metadata": {},
   "outputs": [
    {
     "data": {
      "text/html": [
       "<div>\n",
       "<style scoped>\n",
       "    .dataframe tbody tr th:only-of-type {\n",
       "        vertical-align: middle;\n",
       "    }\n",
       "\n",
       "    .dataframe tbody tr th {\n",
       "        vertical-align: top;\n",
       "    }\n",
       "\n",
       "    .dataframe thead th {\n",
       "        text-align: right;\n",
       "    }\n",
       "</style>\n",
       "<table border=\"1\" class=\"dataframe\">\n",
       "  <thead>\n",
       "    <tr style=\"text-align: right;\">\n",
       "      <th></th>\n",
       "      <th>computeMillis</th>\n",
       "      <th>effectiveNodeCount</th>\n",
       "      <th>loadMillis</th>\n",
       "      <th>writeMillis</th>\n",
       "    </tr>\n",
       "  </thead>\n",
       "  <tbody>\n",
       "    <tr>\n",
       "      <th>0</th>\n",
       "      <td>2</td>\n",
       "      <td>12</td>\n",
       "      <td>28</td>\n",
       "      <td>116</td>\n",
       "    </tr>\n",
       "  </tbody>\n",
       "</table>\n",
       "</div>"
      ],
      "text/plain": [
       "   computeMillis  effectiveNodeCount  loadMillis  writeMillis\n",
       "0              2                  12          28          116"
      ]
     },
     "metadata": {},
     "output_type": "display_data"
    }
   ],
   "source": [
    "query = \"\"\"\n",
    "MATCH (n:Place {id:$place})\n",
    "CALL algo.spanningTree.minimum(\"Place\", \"EROAD\", \"distance\", id(n),\n",
    "{write:true, writeProperty:\"MINST\"})\n",
    "YIELD loadMillis, computeMillis, writeMillis, effectiveNodeCount\n",
    "RETURN loadMillis, computeMillis, writeMillis, effectiveNodeCount\n",
    "\"\"\"\n",
    "\n",
    "params = {\n",
    "    \"place\": \"Amsterdam\"\n",
    "}\n",
    "\n",
    "with driver.session() as session:\n",
    "    rows = session.run(query, params)\n",
    "    df = pd.DataFrame([dict(record) for record in rows])\n",
    "\n",
    "display(df)"
   ]
  },
  {
   "cell_type": "code",
   "execution_count": 5,
   "metadata": {},
   "outputs": [
    {
     "data": {
      "text/html": [
       "<div>\n",
       "<style scoped>\n",
       "    .dataframe tbody tr th:only-of-type {\n",
       "        vertical-align: middle;\n",
       "    }\n",
       "\n",
       "    .dataframe tbody tr th {\n",
       "        vertical-align: top;\n",
       "    }\n",
       "\n",
       "    .dataframe thead th {\n",
       "        text-align: right;\n",
       "    }\n",
       "</style>\n",
       "<table border=\"1\" class=\"dataframe\">\n",
       "  <thead>\n",
       "    <tr style=\"text-align: right;\">\n",
       "      <th></th>\n",
       "      <th>cost</th>\n",
       "      <th>destination</th>\n",
       "      <th>source</th>\n",
       "    </tr>\n",
       "  </thead>\n",
       "  <tbody>\n",
       "    <tr>\n",
       "      <th>0</th>\n",
       "      <td>46.0</td>\n",
       "      <td>Utrecht</td>\n",
       "      <td>Amsterdam</td>\n",
       "    </tr>\n",
       "    <tr>\n",
       "      <th>1</th>\n",
       "      <td>35.0</td>\n",
       "      <td>Gouda</td>\n",
       "      <td>Utrecht</td>\n",
       "    </tr>\n",
       "    <tr>\n",
       "      <th>2</th>\n",
       "      <td>25.0</td>\n",
       "      <td>Rotterdam</td>\n",
       "      <td>Gouda</td>\n",
       "    </tr>\n",
       "    <tr>\n",
       "      <th>3</th>\n",
       "      <td>26.0</td>\n",
       "      <td>Den Haag</td>\n",
       "      <td>Rotterdam</td>\n",
       "    </tr>\n",
       "    <tr>\n",
       "      <th>4</th>\n",
       "      <td>27.0</td>\n",
       "      <td>Hoek van Holland</td>\n",
       "      <td>Den Haag</td>\n",
       "    </tr>\n",
       "    <tr>\n",
       "      <th>5</th>\n",
       "      <td>207.0</td>\n",
       "      <td>Felixstowe</td>\n",
       "      <td>Hoek van Holland</td>\n",
       "    </tr>\n",
       "    <tr>\n",
       "      <th>6</th>\n",
       "      <td>22.0</td>\n",
       "      <td>Ipswich</td>\n",
       "      <td>Felixstowe</td>\n",
       "    </tr>\n",
       "    <tr>\n",
       "      <th>7</th>\n",
       "      <td>32.0</td>\n",
       "      <td>Colchester</td>\n",
       "      <td>Ipswich</td>\n",
       "    </tr>\n",
       "    <tr>\n",
       "      <th>8</th>\n",
       "      <td>106.0</td>\n",
       "      <td>London</td>\n",
       "      <td>Colchester</td>\n",
       "    </tr>\n",
       "    <tr>\n",
       "      <th>9</th>\n",
       "      <td>277.0</td>\n",
       "      <td>Doncaster</td>\n",
       "      <td>London</td>\n",
       "    </tr>\n",
       "    <tr>\n",
       "      <th>10</th>\n",
       "      <td>74.0</td>\n",
       "      <td>Immingham</td>\n",
       "      <td>Doncaster</td>\n",
       "    </tr>\n",
       "  </tbody>\n",
       "</table>\n",
       "</div>"
      ],
      "text/plain": [
       "     cost       destination            source\n",
       "0    46.0           Utrecht         Amsterdam\n",
       "1    35.0             Gouda           Utrecht\n",
       "2    25.0         Rotterdam             Gouda\n",
       "3    26.0          Den Haag         Rotterdam\n",
       "4    27.0  Hoek van Holland          Den Haag\n",
       "5   207.0        Felixstowe  Hoek van Holland\n",
       "6    22.0           Ipswich        Felixstowe\n",
       "7    32.0        Colchester           Ipswich\n",
       "8   106.0            London        Colchester\n",
       "9   277.0         Doncaster            London\n",
       "10   74.0         Immingham         Doncaster"
      ]
     },
     "metadata": {},
     "output_type": "display_data"
    }
   ],
   "source": [
    "query = \"\"\"\n",
    "MATCH path = (n:Place {id:$place})-[:MINST*]->(end)\n",
    "WHERE not((end)-[:MINST]->())\n",
    "WITH relationships(path) AS rels\n",
    "UNWIND rels AS rel\n",
    "RETURN startNode(rel).id AS source, endNode(rel).id AS destination, rel.distance AS cost\n",
    "\"\"\"\n",
    "\n",
    "params = {\n",
    "    \"place\": \"Amsterdam\"\n",
    "}\n",
    "\n",
    "with driver.session() as session:\n",
    "    rows = session.run(query, params)\n",
    "    df = pd.DataFrame([dict(record) for record in rows])\n",
    "\n",
    "display(df)"
   ]
  },
  {
   "cell_type": "markdown",
   "metadata": {},
   "source": [
    "If we were in Amsterdam and wanted to visit every other place in our dataset during the same trip, this would be  the shortest continuous route to do so."
   ]
  },
  {
   "cell_type": "markdown",
   "metadata": {},
   "source": [
    "## Random Walk\n",
    "\n",
    "The Random Walk algorithm provides a set of nodes on a random path in a graph."
   ]
  },
  {
   "cell_type": "code",
   "execution_count": null,
   "metadata": {},
   "outputs": [],
   "source": [
    "query = \"\"\"\n",
    "MATCH (source:Place {id: $place})\n",
    "CALL algo.randomWalk.stream(id(source), 5, 1)\n",
    "YIELD nodeIds\n",
    "UNWIND algo.getNodesById(nodeIds) AS place\n",
    "RETURN place.id AS place\n",
    "\"\"\"\n",
    "\n",
    "params = {\n",
    "    \"place\": \"Den Haag\"\n",
    "}\n",
    "\n",
    "with driver.session() as session:\n",
    "    rows = session.run(query, params)\n",
    "    df = pd.DataFrame([dict(record) for record in rows])\n",
    "\n",
    "display(df)"
   ]
  },
  {
   "cell_type": "markdown",
   "metadata": {},
   "source": [
    "At each stage of the random walk the next relationship is chosen randomly. This means that if we rerun the algorithm, even with the same parameters, we likely won’t get the same result."
   ]
  }
 ],
 "metadata": {
  "kernelspec": {
   "display_name": "Python 3",
   "language": "python",
   "name": "python3"
  },
  "language_info": {
   "codemirror_mode": {
    "name": "ipython",
    "version": 3
   },
   "file_extension": ".py",
   "mimetype": "text/x-python",
   "name": "python",
   "nbconvert_exporter": "python",
   "pygments_lexer": "ipython3",
   "version": "3.7.3"
  }
 },
 "nbformat": 4,
 "nbformat_minor": 2
}
