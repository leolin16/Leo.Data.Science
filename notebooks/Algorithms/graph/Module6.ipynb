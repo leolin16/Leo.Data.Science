{
 "cells": [
  {
   "cell_type": "markdown",
   "metadata": {},
   "source": [
    "# Module 6: Airlines\n",
    "\n",
    "<img src=\"images/Seal_of_the_United_States_Department_of_Transportation.svg.png\" alt=\"Airlines\" width=\"120\" style=\"float:right\"/>\n",
    "\n",
    "\n",
    "In this section, we’ll use a different scenario to illustrate the analysis of US airport data with Spark. Imagine you’re a data scientist with a considerable travel schedule and would like to dig into information about airline flights and delays. \n",
    "\n",
    "We’ll first explore airport and flight information and then look deeper into delays at two specific airports. Community detection will be used to analyze routes and find the best use of our frequent flyer points.\n",
    "\n",
    "Let's start by importing the libraries that we'll use in this module:"
   ]
  },
  {
   "cell_type": "code",
   "execution_count": 1,
   "metadata": {},
   "outputs": [],
   "source": [
    "from pyspark.sql.types import *\n",
    "from graphframes import *\n",
    "from pyspark.sql import functions as F\n",
    "from pyspark.context import SparkContext\n",
    "from pyspark.sql.session import SparkSession\n",
    "\n",
    "import pandas as pd\n",
    "\n",
    "import matplotlib\n",
    "import matplotlib.pyplot as plt"
   ]
  },
  {
   "cell_type": "markdown",
   "metadata": {},
   "source": [
    "## Connect to Spark\n",
    "\n",
    "The following code will create a SparkContext that we'll use to connect to Spark:"
   ]
  },
  {
   "cell_type": "code",
   "execution_count": 2,
   "metadata": {},
   "outputs": [],
   "source": [
    "from pyspark.context import SparkContext\n",
    "from pyspark.sql.session import SparkSession\n",
    "\n",
    "sc = SparkContext.getOrCreate()\n",
    "spark = SparkSession(sc)"
   ]
  },
  {
   "cell_type": "markdown",
   "metadata": {},
   "source": [
    "## Analyzing Airline Flight Data with Apache Spark\n",
    "\n",
    "The US Bureau of Transportation Statistics makes available a significant amount of transportation information. For our analysis, we’ll use their May 2018 air travel on-time performance data, which includes flights originating and ending in the United States in that month. To add more detail about airports, such as location information, we’ll also load data from a separate source, OpenFlights.\n",
    "\n",
    "\n",
    "### Importing the Data into Apache Spark\n",
    "\n",
    "Let’s load the data in Spark.\n"
   ]
  },
  {
   "cell_type": "code",
   "execution_count": 4,
   "metadata": {},
   "outputs": [],
   "source": [
    "nodes = spark.read.csv(\"../data/airports.csv\", header=False)\n",
    "cleaned_nodes = (nodes.select(\"_c1\", \"_c3\", \"_c4\", \"_c6\", \"_c7\")\n",
    "                 .filter(\"_c3 = 'United States'\")\n",
    "                 .withColumnRenamed(\"_c1\", \"name\")\n",
    "                 .withColumnRenamed(\"_c4\", \"id\")\n",
    "                 .withColumnRenamed(\"_c6\", \"latitude\")\n",
    "                 .withColumnRenamed(\"_c7\", \"longitude\")\n",
    "                 .drop(\"_c3\"))\n",
    "cleaned_nodes = cleaned_nodes[cleaned_nodes[\"id\"] != \"\\\\N\"]\n",
    "\n",
    "relationships = spark.read.csv(\"../data/188591317_T_ONTIME.csv\", header=True)\n",
    "cleaned_relationships = (relationships\n",
    "                         .select(\"ORIGIN\", \"DEST\", \"FL_DATE\", \"DEP_DELAY\",\n",
    "                                 \"ARR_DELAY\", \"DISTANCE\", \"TAIL_NUM\", \"FL_NUM\",\n",
    "                                 \"CRS_DEP_TIME\", \"CRS_ARR_TIME\",\n",
    "                                 \"UNIQUE_CARRIER\")\n",
    "                         .withColumnRenamed(\"ORIGIN\", \"src\")\n",
    "                         .withColumnRenamed(\"DEST\", \"dst\")\n",
    "                         .withColumnRenamed(\"DEP_DELAY\", \"deptDelay\")\n",
    "                         .withColumnRenamed(\"ARR_DELAY\", \"arrDelay\")\n",
    "                         .withColumnRenamed(\"TAIL_NUM\", \"tailNumber\")\n",
    "                         .withColumnRenamed(\"FL_NUM\", \"flightNumber\")\n",
    "                         .withColumnRenamed(\"FL_DATE\", \"date\")\n",
    "                         .withColumnRenamed(\"CRS_DEP_TIME\", \"time\")\n",
    "                         .withColumnRenamed(\"CRS_ARR_TIME\", \"arrivalTime\")\n",
    "                         .withColumnRenamed(\"DISTANCE\", \"distance\")\n",
    "                         .withColumnRenamed(\"UNIQUE_CARRIER\", \"airline\")\n",
    "                         .withColumn(\"deptDelay\", F.col(\"deptDelay\").cast(FloatType()))\n",
    "                         .withColumn(\"arrDelay\", F.col(\"arrDelay\").cast(FloatType()))\n",
    "                         .withColumn(\"time\", F.col(\"time\").cast(IntegerType()))\n",
    "                         .withColumn(\"arrivalTime\",F.col(\"arrivalTime\").cast(IntegerType())))\n",
    "g = GraphFrame(cleaned_nodes, cleaned_relationships)"
   ]
  },
  {
   "cell_type": "markdown",
   "metadata": {},
   "source": [
    "We have to do some cleanup on the nodes because some airports don’t have valid airport codes. We’ll give the columns more descriptive names and convert some items into appropriate numeric types. We also need to make sure that we have columns named `id`, `dst`, and `src`, as this is expected by Spark’s GraphFrames library.\n",
    "\n",
    "We’ll also create a separate DataFrame that maps airline codes to airline names. We’ll use this later in this chapter:"
   ]
  },
  {
   "cell_type": "code",
   "execution_count": 6,
   "metadata": {},
   "outputs": [],
   "source": [
    "airlines_reference = (spark.read.csv(\"../data/airlines.csv\")\n",
    "                      .select(\"_c1\", \"_c3\")\n",
    "                      .withColumnRenamed(\"_c1\", \"name\")\n",
    "                      .withColumnRenamed(\"_c3\", \"code\"))\n",
    "airlines_reference = airlines_reference[airlines_reference[\"code\"] != \"null\"]"
   ]
  },
  {
   "cell_type": "markdown",
   "metadata": {},
   "source": [
    "## Exploratory Analysis\n",
    "\n",
    "Let's start with some exploratory analysis to see what the data looks like. \n",
    "\n",
    "How many airports do we have, and how many connections do we have between those airports?"
   ]
  },
  {
   "cell_type": "code",
   "execution_count": 7,
   "metadata": {},
   "outputs": [
    {
     "data": {
      "text/plain": [
       "'Nodes'"
      ]
     },
     "metadata": {},
     "output_type": "display_data"
    },
    {
     "data": {
      "text/plain": [
       "1333"
      ]
     },
     "metadata": {},
     "output_type": "display_data"
    },
    {
     "data": {
      "text/plain": [
       "'Relationships'"
      ]
     },
     "metadata": {},
     "output_type": "display_data"
    },
    {
     "data": {
      "text/plain": [
       "616529"
      ]
     },
     "metadata": {},
     "output_type": "display_data"
    }
   ],
   "source": [
    "display(\"Nodes\", g.vertices.count())\n",
    "display(\"Relationships\", g.edges.count())"
   ]
  },
  {
   "cell_type": "markdown",
   "metadata": {},
   "source": [
    "## Popular Airports\n",
    "\n",
    "Which airports have the most departing flights? We can work out the number of outgoing flights from an airport using the Degree Centrality algorithm:"
   ]
  },
  {
   "cell_type": "code",
   "execution_count": 7,
   "metadata": {},
   "outputs": [
    {
     "name": "stdout",
     "output_type": "stream",
     "text": [
      "+---+------------------------------------------------+---------+\n",
      "|id |name                                            |outDegree|\n",
      "+---+------------------------------------------------+---------+\n",
      "|ATL|Hartsfield Jackson Atlanta International Airport|33837    |\n",
      "|ORD|Chicago O'Hare International Airport            |28338    |\n",
      "|DFW|Dallas Fort Worth International Airport         |23765    |\n",
      "|CLT|Charlotte Douglas International Airport         |20251    |\n",
      "|DEN|Denver International Airport                    |19836    |\n",
      "|LAX|Los Angeles International Airport               |19059    |\n",
      "|PHX|Phoenix Sky Harbor International Airport        |15103    |\n",
      "|SFO|San Francisco International Airport             |14934    |\n",
      "|LGA|La Guardia Airport                              |14709    |\n",
      "|IAH|George Bush Intercontinental Houston Airport    |14407    |\n",
      "+---+------------------------------------------------+---------+\n",
      "only showing top 10 rows\n",
      "\n"
     ]
    }
   ],
   "source": [
    "airports_degree = g.outDegrees.withColumnRenamed(\"id\", \"oId\")\n",
    "full_airports_degree = (airports_degree\n",
    "                        .join(g.vertices, airports_degree.oId == g.vertices.id)\n",
    "                        .sort(\"outDegree\", ascending=False)\n",
    "                        .select(\"id\", \"name\", \"outDegree\"))\n",
    "\n",
    "full_airports_degree.show(n=10, truncate=False)"
   ]
  },
  {
   "cell_type": "markdown",
   "metadata": {},
   "source": [
    "Most large US cities show up on this list - Chicago, Atlanta, Los Angeles, and New York all have popular airports. We can also create a visual representation of the outgoing flights using the following code:"
   ]
  },
  {
   "cell_type": "code",
   "execution_count": 15,
   "metadata": {},
   "outputs": [
    {
     "data": {
      "image/png": "[encoded data removed]",
      "text/plain": [
       "<Figure size 432x288 with 1 Axes>"
      ]
     },
     "metadata": {},
     "output_type": "display_data"
    }
   ],
   "source": [
    "plt.style.use('fivethirtyeight')\n",
    "ax = (full_airports_degree\n",
    "      .toPandas()\n",
    "      .head(10)\n",
    "      .plot(kind='bar', x='id', y='outDegree', legend=None))\n",
    "ax.xaxis.set_label_text(\"\")\n",
    "plt.xticks(rotation=45)\n",
    "plt.tight_layout()"
   ]
  },
  {
   "cell_type": "markdown",
   "metadata": {},
   "source": [
    "It’s quite striking how suddenly the number of flights drops off. Denver International Airport (DEN), the fifth most popular airport, has just over half as many outgoing fights as Hartsfield Jackson Atlanta International Airport (ATL), in first place."
   ]
  },
  {
   "cell_type": "markdown",
   "metadata": {},
   "source": [
    "## Delays from ORD\n",
    "\n",
    "In our scenario, we frequently travel between the west and east coasts and want to see delays through a midpoint hub like Chicago O’Hare International Airport (ORD). This dataset contains flight delay data, so we can dive right in.\n",
    "\n",
    "The following code finds the average delay of flights departing from ORD grouped by the destination airport:"
   ]
  },
  {
   "cell_type": "code",
   "execution_count": 16,
   "metadata": {},
   "outputs": [
    {
     "name": "stdout",
     "output_type": "stream",
     "text": [
      "+---+-------------------------------------------+------------+--------------+\n",
      "|dst|name                                       |averageDelay|numberOfDelays|\n",
      "+---+-------------------------------------------+------------+--------------+\n",
      "|CKB|North Central West Virginia Airport        |145.08      |12            |\n",
      "|OGG|Kahului Airport                            |119.67      |9             |\n",
      "|MQT|Sawyer International Airport               |114.75      |12            |\n",
      "|MOB|Mobile Regional Airport                    |102.2       |10            |\n",
      "|TTN|Trenton Mercer Airport                     |101.18      |17            |\n",
      "|AVL|Asheville Regional Airport                 |98.5        |28            |\n",
      "|ISP|Long Island Mac Arthur Airport             |94.08       |13            |\n",
      "|ANC|Ted Stevens Anchorage International Airport|83.74       |23            |\n",
      "|BTV|Burlington International Airport           |83.2        |25            |\n",
      "|CMX|Houghton County Memorial Airport           |79.18       |17            |\n",
      "+---+-------------------------------------------+------------+--------------+\n",
      "only showing top 10 rows\n",
      "\n"
     ]
    }
   ],
   "source": [
    "delayed_flights = (g.edges\n",
    "                   .filter(\"src = 'ORD' and deptDelay > 0\")\n",
    "                   .groupBy(\"dst\")\n",
    "                   .agg(F.avg(\"deptDelay\"), F.count(\"deptDelay\"))\n",
    "                   .withColumn(\"averageDelay\", F.round(F.col(\"avg(deptDelay)\"), 2))\n",
    "                   .withColumn(\"numberOfDelays\", F.col(\"count(deptDelay)\")))\n",
    "\n",
    "(delayed_flights\n",
    " .join(g.vertices, delayed_flights.dst == g.vertices.id)\n",
    " .sort(F.desc(\"averageDelay\"))\n",
    " .select(\"dst\", \"name\", \"averageDelay\", \"numberOfDelays\")\n",
    " .show(n=10, truncate=False))"
   ]
  },
  {
   "cell_type": "markdown",
   "metadata": {},
   "source": [
    "This is interesting, but one data point really stands out: 12 flights from ORD to CKB have been delayed by more than 2 hours on average! Let’s find the flights between those airports and see what’s going on:"
   ]
  },
  {
   "cell_type": "code",
   "execution_count": 21,
   "metadata": {},
   "outputs": [],
   "source": [
    "from_expr = 'id = \"ORD\"'\n",
    "to_expr = 'id = \"CKB\"'\n",
    "ord_to_ckb = g.bfs(from_expr, to_expr)\n",
    "ord_to_ckb = ord_to_ckb.select(\n",
    "    F.col(\"e0.date\"),\n",
    "    F.col(\"e0.time\"),\n",
    "    F.col(\"e0.flightNumber\"),\n",
    "    F.col(\"e0.deptDelay\"))"
   ]
  },
  {
   "cell_type": "code",
   "execution_count": 22,
   "metadata": {},
   "outputs": [
    {
     "data": {
      "image/png": "[encoded data removed]",
      "text/plain": [
       "<Figure size 432x288 with 1 Axes>"
      ]
     },
     "metadata": {},
     "output_type": "display_data"
    }
   ],
   "source": [
    "ax = (ord_to_ckb\n",
    "      .sort(\"date\")\n",
    "      .toPandas()\n",
    "      .plot(kind='bar', x='date', y='deptDelay', legend=None))\n",
    "ax.xaxis.set_label_text(\"\")\n",
    "plt.tight_layout()\n",
    "plt.show()"
   ]
  },
  {
   "cell_type": "markdown",
   "metadata": {},
   "source": [
    "About half of the flights were delayed, but the delay of more than 14 hours on May 2, 2018, has massively skewed the average.\n",
    "\n",
    "What if we want to find delays coming into and going out of a coastal airport? Those airports are often affected by adverse weather conditions, so we might be able to find some interesting delays."
   ]
  },
  {
   "cell_type": "markdown",
   "metadata": {},
   "source": [
    "## Bad Day at SFO\n",
    "\n",
    "Let’s consider delays at an airport known for fog-related “low ceiling” issues: San Francisco International Airport (SFO).\n",
    "\n",
    "We'll look at [_motifs_](https://github.com/graphframes/graphframes/blob/master/docs/user-guide.md#motif-finding), which are recurrent subgraphs or patterns. Let’s use motifs to find the most-delayed flights going into and out of SFO on May 11, 2018. The following code will find these delays:"
   ]
  },
  {
   "cell_type": "code",
   "execution_count": 30,
   "metadata": {},
   "outputs": [
    {
     "name": "stdout",
     "output_type": "stream",
     "text": [
      "+--------------------+--------------------+--------------------+--------------------+--------------------+\n",
      "|                   a|                  ab|                   b|                  bc|                   c|\n",
      "+--------------------+--------------------+--------------------+--------------------+--------------------+\n",
      "|[Arcata Airport, ...|[ACV, SFO, 2018-0...|[San Francisco In...|[SFO, RDM, 2018-0...|[Roberts Field, R...|\n",
      "|[Bob Hope Airport...|[BUR, SFO, 2018-0...|[San Francisco In...|[SFO, PHX, 2018-0...|[Phoenix Sky Harb...|\n",
      "|[Portland Interna...|[PDX, SFO, 2018-0...|[San Francisco In...|[SFO, BUR, 2018-0...|[Bob Hope Airport...|\n",
      "|[Denver Internati...|[DEN, SFO, 2018-0...|[San Francisco In...|[SFO, BUR, 2018-0...|[Bob Hope Airport...|\n",
      "|[Bob Hope Airport...|[BUR, SFO, 2018-0...|[San Francisco In...|[SFO, PDX, 2018-0...|[Portland Interna...|\n",
      "|[Portland Interna...|[PDX, SFO, 2018-0...|[San Francisco In...|[SFO, DEN, 2018-0...|[Denver Internati...|\n",
      "|[Hartsfield Jacks...|[ATL, SFO, 2018-0...|[San Francisco In...|[SFO, SAN, 2018-0...|[San Diego Intern...|\n",
      "|[Baltimore/Washin...|[BWI, SFO, 2018-0...|[San Francisco In...|[SFO, IAD, 2018-0...|[Washington Dulle...|\n",
      "|[Detroit Metropol...|[DTW, SFO, 2018-0...|[San Francisco In...|[SFO, DTW, 2018-0...|[Detroit Metropol...|\n",
      "+--------------------+--------------------+--------------------+--------------------+--------------------+\n",
      "\n"
     ]
    }
   ],
   "source": [
    "motifs = (g.find(\"(a)-[ab]->(b); (b)-[bc]->(c)\")\n",
    "          .filter(\"\"\"(b.id = 'SFO') and\n",
    "          (ab.date = '2018-05-11' and bc.date = '2018-05-11') and\n",
    "          (ab.arrDelay > 30 or bc.deptDelay > 30) and\n",
    "          (ab.flightNumber = bc.flightNumber) and\n",
    "          (ab.airline = bc.airline) and\n",
    "          (ab.time < bc.time)\"\"\"))\n",
    "motifs.show()"
   ]
  },
  {
   "cell_type": "markdown",
   "metadata": {},
   "source": [
    "We can then take the result and select the columns we’re interested in:"
   ]
  },
  {
   "cell_type": "code",
   "execution_count": 24,
   "metadata": {},
   "outputs": [
    {
     "name": "stdout",
     "output_type": "stream",
     "text": [
      "+---+----------+--------+---+----------+---------+---+-------+------------+-----+\n",
      "| a1|a1DeptTime|arrDelay| a2|a2DeptTime|deptDelay| a3|airline|flightNumber|delta|\n",
      "+---+----------+--------+---+----------+---------+---+-------+------------+-----+\n",
      "|PDX|      1130|   -18.0|SFO|      1350|    178.0|BUR|     WN|        1454|196.0|\n",
      "|ACV|      1755|    -9.0|SFO|      2235|     64.0|RDM|     OO|        5700| 73.0|\n",
      "|BWI|       700|    -3.0|SFO|      1125|     49.0|IAD|     UA|         753| 52.0|\n",
      "|ATL|       740|    40.0|SFO|      1110|     77.0|SAN|     UA|        1900| 37.0|\n",
      "|BUR|      1405|    25.0|SFO|      1600|     39.0|PDX|     WN|         157| 14.0|\n",
      "|DTW|       835|    34.0|SFO|      1135|     44.0|DTW|     DL|         745| 10.0|\n",
      "|DEN|      1830|    25.0|SFO|      2045|     33.0|BUR|     WN|        1783|  8.0|\n",
      "|PDX|      1855|   119.0|SFO|      2120|    117.0|DEN|     WN|        5789| -2.0|\n",
      "|BUR|      2025|    31.0|SFO|      2230|     11.0|PHX|     WN|        1585|-20.0|\n",
      "+---+----------+--------+---+----------+---------+---+-------+------------+-----+\n",
      "\n"
     ]
    }
   ],
   "source": [
    "result = (motifs.withColumn(\"delta\", motifs.bc.deptDelay - motifs.ab.arrDelay)\n",
    "          .select(\"ab\", \"bc\", \"delta\")\n",
    "          .sort(\"delta\", ascending=False))\n",
    "\n",
    "result.select(\n",
    "    F.col(\"ab.src\").alias(\"a1\"),\n",
    "    F.col(\"ab.time\").alias(\"a1DeptTime\"),\n",
    "    F.col(\"ab.arrDelay\"),\n",
    "    F.col(\"ab.dst\").alias(\"a2\"),\n",
    "    F.col(\"bc.time\").alias(\"a2DeptTime\"),\n",
    "    F.col(\"bc.deptDelay\"),\n",
    "    F.col(\"bc.dst\").alias(\"a3\"),\n",
    "    F.col(\"ab.airline\"),\n",
    "    F.col(\"ab.flightNumber\"),\n",
    "    F.col(\"delta\")\n",
    ").show()"
   ]
  },
  {
   "cell_type": "markdown",
   "metadata": {},
   "source": [
    "The worst offender, WN 1454, is shown in the top row; it arrived early but departed almost three hours late. We can also see that there are some negative values in the arrDelay column; this means that the flight into SFO was early.\n",
    "\n",
    "Also notice that some flights, such as WN 5789 and WN 1585, made up time while on the ground in SFO, as shown with a negative delta."
   ]
  },
  {
   "cell_type": "markdown",
   "metadata": {},
   "source": [
    "## Interconnected Airports by Airline\n",
    "\n",
    "Now let’s say we’ve traveled a lot, and those frequent flyer points we’re determined to use to see as many destinations as efficiently as possible are soon to expire. If we start from a specific US airport, how many different airports can we visit and come back to the starting airport using the same airline?\n",
    "\n",
    "Let’s first identify all the airlines and work out how many flights there are on each of them:"
   ]
  },
  {
   "cell_type": "code",
   "execution_count": 31,
   "metadata": {},
   "outputs": [],
   "source": [
    "airlines = (g.edges\n",
    "            .groupBy(\"airline\")\n",
    "            .agg(F.count(\"airline\").alias(\"flights\"))\n",
    "            .sort(\"flights\", ascending=False))\n",
    "\n",
    "full_name_airlines = (airlines_reference\n",
    "                      .join(airlines, airlines.airline == airlines_reference.code)\n",
    "                      .select(\"code\", \"name\", \"flights\"))"
   ]
  },
  {
   "cell_type": "code",
   "execution_count": 32,
   "metadata": {},
   "outputs": [
    {
     "data": {
      "image/png": "[encoded data removed]",
      "text/plain": [
       "<Figure size 432x288 with 1 Axes>"
      ]
     },
     "metadata": {},
     "output_type": "display_data"
    }
   ],
   "source": [
    "ax = (full_name_airlines.toPandas()\n",
    "      .plot(kind='bar', x='name', y='flights', legend=None))\n",
    "ax.xaxis.set_label_text(\"\")\n",
    "plt.tight_layout()\n",
    "plt.show()"
   ]
  },
  {
   "cell_type": "markdown",
   "metadata": {},
   "source": [
    "Now let’s write a function that uses the Strongly Connected Components algorithm to find airport groupings for each airline where all the airports have flights to and from all the other airports in that group:"
   ]
  },
  {
   "cell_type": "code",
   "execution_count": 2,
   "metadata": {},
   "outputs": [],
   "source": [
    "def find_scc_components(g, airline):\n",
    "    # Create a subgraph containing only flights on the provided airline\n",
    "    airline_relationships = g.edges[g.edges.airline == airline]\n",
    "    airline_graph = GraphFrame(g.vertices, airline_relationships)\n",
    "    \n",
    "    # Calculate the Strongly Connected Components\n",
    "    scc = airline_graph.stronglyConnectedComponents(maxIter=10)\n",
    "    \n",
    "    # Find the size of the biggest component and return that\n",
    "    return (scc\n",
    "            .groupBy(\"component\")\n",
    "            .agg(F.count(\"id\").alias(\"size\"))\n",
    "            .sort(\"size\", ascending=False)\n",
    "            .take(1)[0][\"size\"])"
   ]
  },
  {
   "cell_type": "code",
   "execution_count": 34,
   "metadata": {},
   "outputs": [],
   "source": [
    "# Calculate the largest strongly connected component for each airline\n",
    "airline_scc = [(airline, find_scc_components(g, airline))\n",
    "               for airline in airlines.toPandas()[\"airline\"].tolist()]\n",
    "airline_scc_df = spark.createDataFrame(airline_scc, ['id', 'sccCount'])\n",
    "\n",
    "# Join the SCC DataFrame with the airlines DataFrame so that we can show\n",
    "# the number of flights an airline has alongside the number of\n",
    "# airports reachable in its biggest component\n",
    "airline_reach = (airline_scc_df\n",
    "                 .join(full_name_airlines, full_name_airlines.code == airline_scc_df.id)\n",
    "                 .select(\"code\", \"name\", \"flights\", \"sccCount\")\n",
    "                 .sort(\"sccCount\", ascending=False))"
   ]
  },
  {
   "cell_type": "code",
   "execution_count": 35,
   "metadata": {},
   "outputs": [
    {
     "data": {
      "image/png": "[encoded data removed]",
      "text/plain": [
       "<Figure size 432x288 with 1 Axes>"
      ]
     },
     "metadata": {},
     "output_type": "display_data"
    }
   ],
   "source": [
    "ax = (airline_reach.toPandas()\n",
    "      .plot(kind='bar', x='name', y='sccCount', legend=None))\n",
    "ax.xaxis.set_label_text(\"\")\n",
    "plt.tight_layout()\n",
    "plt.show()"
   ]
  },
  {
   "cell_type": "markdown",
   "metadata": {},
   "source": [
    "Now let’s say most of the frequent flyer points we have are with Delta Airlines (DL). Can we find airports that form communities within the network for that particular airline carrier?"
   ]
  },
  {
   "cell_type": "code",
   "execution_count": 36,
   "metadata": {},
   "outputs": [
    {
     "name": "stdout",
     "output_type": "stream",
     "text": [
      "+-------------+----------------------------------------------------------------------+-----+\n",
      "|        label|                                                              airports|count|\n",
      "+-------------+----------------------------------------------------------------------+-----+\n",
      "|1606317768706|[IND, ORF, ATW, RIC, TRI, XNA, ECP, AVL, JAX, SYR, BHM, GSO, MEM, C...|   89|\n",
      "|1219770712067|[GEG, SLC, DTW, LAS, SEA, BOS, MSN, SNA, JFK, TVC, LIH, JAC, FLL, M...|   53|\n",
      "|  42949672960|                                                                 [FOD]|    1|\n",
      "|  42949672963|                                                                 [MIC]|    1|\n",
      "|  42949672962|                                                                 [GTF]|    1|\n",
      "|            0|                                                                 [BGM]|    1|\n",
      "|  42949672964|                                                                 [MRN]|    1|\n",
      "|  42949672965|                                                                 [OPF]|    1|\n",
      "|  51539607552|                                                                 [AIK]|    1|\n",
      "|            1|                                                                 [CNU]|    1|\n",
      "+-------------+----------------------------------------------------------------------+-----+\n",
      "only showing top 10 rows\n",
      "\n"
     ]
    }
   ],
   "source": [
    "airline_relationships = g.edges.filter(\"airline = 'DL'\")\n",
    "airline_graph = GraphFrame(g.vertices, airline_relationships)\n",
    "clusters = airline_graph.labelPropagation(maxIter=10)\n",
    "(clusters\n",
    " .sort(\"label\")\n",
    " .groupby(\"label\")\n",
    " .agg(F.collect_list(\"id\").alias(\"airports\"), F.count(\"id\").alias(\"count\"))\n",
    " .sort(\"count\", ascending=False)\n",
    " .show(truncate=70, n=10))"
   ]
  },
  {
   "cell_type": "markdown",
   "metadata": {},
   "source": [
    "There are too many airports to show here, so we’ll just show the airports with the biggest degree (ingoing and outgoing flights). We can write the following code to calculate airport degree, and then combine that with the airports that belong to the largest cluster:"
   ]
  },
  {
   "cell_type": "code",
   "execution_count": 38,
   "metadata": {},
   "outputs": [
    {
     "name": "stdout",
     "output_type": "stream",
     "text": [
      "+---+------------------------------------------------------------+------+\n",
      "|id |name                                                        |degree|\n",
      "+---+------------------------------------------------------------+------+\n",
      "|DFW|Dallas Fort Worth International Airport                     |47514 |\n",
      "|CLT|Charlotte Douglas International Airport                     |40495 |\n",
      "|IAH|George Bush Intercontinental Houston Airport                |28814 |\n",
      "|EWR|Newark Liberty International Airport                        |25131 |\n",
      "|PHL|Philadelphia International Airport                          |20804 |\n",
      "|BWI|Baltimore/Washington International Thurgood Marshall Airport|18989 |\n",
      "|MDW|Chicago Midway International Airport                        |15178 |\n",
      "|BNA|Nashville International Airport                             |12455 |\n",
      "|DAL|Dallas Love Field                                           |12084 |\n",
      "|IAD|Washington Dulles International Airport                     |11566 |\n",
      "|STL|Lambert St Louis International Airport                      |11439 |\n",
      "|HOU|William P Hobby Airport                                     |9742  |\n",
      "|IND|Indianapolis International Airport                          |8543  |\n",
      "|PIT|Pittsburgh International Airport                            |8410  |\n",
      "|CLE|Cleveland Hopkins International Airport                     |8238  |\n",
      "|CMH|Port Columbus International Airport                         |7640  |\n",
      "|SAT|San Antonio International Airport                           |6532  |\n",
      "|JAX|Jacksonville International Airport                          |5495  |\n",
      "|BDL|Bradley International Airport                               |4866  |\n",
      "|RSW|Southwest Florida International Airport                     |4569  |\n",
      "+---+------------------------------------------------------------+------+\n",
      "only showing top 20 rows\n",
      "\n"
     ]
    }
   ],
   "source": [
    "all_flights = g.degrees.withColumnRenamed(\"id\", \"aId\")\n",
    "\n",
    "(clusters\n",
    " .filter(\"label=1606317768706\")\n",
    " .join(all_flights, all_flights.aId == clusters.id)\n",
    " .sort(\"degree\", ascending=False)\n",
    " .select(\"id\", \"name\", \"degree\")\n",
    " .show(truncate=False))"
   ]
  }
 ],
 "metadata": {
  "kernelspec": {
   "display_name": "Python 3",
   "language": "python",
   "name": "python3"
  },
  "language_info": {
   "codemirror_mode": {
    "name": "ipython",
    "version": 3
   },
   "file_extension": ".py",
   "mimetype": "text/x-python",
   "name": "python",
   "nbconvert_exporter": "python",
   "pygments_lexer": "ipython3",
   "version": "3.7.3"
  }
 },
 "nbformat": 4,
 "nbformat_minor": 2
}
