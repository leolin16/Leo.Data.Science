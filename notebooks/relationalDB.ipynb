{
 "cells": [
  {
   "cell_type": "markdown",
   "metadata": {},
   "source": [
    "# Extracting data from relational databases"
   ]
  },
  {
   "cell_type": "markdown",
   "metadata": {},
   "source": [
    "## SQLite/MySQL/Microsoft SQL Server Database"
   ]
  },
  {
   "cell_type": "markdown",
   "metadata": {},
   "source": [
    "### install package"
   ]
  },
  {
   "cell_type": "code",
   "execution_count": 13,
   "metadata": {},
   "outputs": [
    {
     "name": "stdout",
     "output_type": "stream",
     "text": [
      "Solving environment: ...working... done\n",
      "\n",
      "## Package Plan ##\n",
      "\n",
      "  environment location: /Users/leolin/anaconda3\n",
      "\n",
      "  added / updated specs: \n",
      "    - pymssql\n",
      "\n",
      "\n",
      "The following packages will be downloaded:\n",
      "\n",
      "    package                    |            build\n",
      "    ---------------------------|-----------------\n",
      "    pymssql-2.1.4              |   py36h1de35cc_0         223 KB\n",
      "    freetds-1.00.91            |       hdbc3d79_0         2.4 MB\n",
      "    ------------------------------------------------------------\n",
      "                                           Total:         2.6 MB\n",
      "\n",
      "The following NEW packages will be INSTALLED:\n",
      "\n",
      "    freetds: 1.00.91-hdbc3d79_0  \n",
      "    pymssql: 2.1.4-py36h1de35cc_0\n",
      "\n",
      "Preparing transaction: ...working... done\n",
      "Verifying transaction: ...working... done\n",
      "Executing transaction: ...working... done\n"
     ]
    }
   ],
   "source": [
    "# !conda install -y -q pymysql\n",
    "!conda install -y -q pymssql"
   ]
  },
  {
   "cell_type": "markdown",
   "metadata": {},
   "source": [
    "### prepare"
   ]
  },
  {
   "cell_type": "code",
   "execution_count": null,
   "metadata": {},
   "outputs": [],
   "source": [
    "## start mysql instance locally\n",
    "# docker run --name mysql -v /Users/leolin/Data/docker/mysql:/var/lib/mysql -p 3306:3306 -e MYSQL_ROOT_PASSWORD=root  -d mysql:latest\n",
    "# mysql -e 'create database classroomDB DEFAULT CHARACTER SET utf8 DEFAULT COLLATE utf8_general_ci;'\n",
    "\n",
    "## start mssql instance locally\n",
    "# docker run -e 'ACCEPT_EULA=Y' -e 'SA_PASSWORD=P@ssw0rd' -p 1433:1433 --name python-mssql -d microsoft/mssql-server-linux:latest\n",
    "# create database classroomDB -> go"
   ]
  },
  {
   "cell_type": "markdown",
   "metadata": {},
   "source": [
    "### import package"
   ]
  },
  {
   "cell_type": "code",
   "execution_count": 14,
   "metadata": {},
   "outputs": [],
   "source": [
    "# import relationaldb libs\n",
    "import sqlite3\n",
    "import pymysql\n",
    "import pymssql"
   ]
  },
  {
   "cell_type": "markdown",
   "metadata": {},
   "source": [
    "### connect to database"
   ]
  },
  {
   "cell_type": "code",
   "execution_count": 19,
   "metadata": {},
   "outputs": [],
   "source": [
    "# create a connection to a database : create the database if not available\n",
    "## sqlite\n",
    "# connection = sqlite3.connect(\"classroomDB.db\")\n",
    "\n",
    "## mysql\n",
    "# cnx = {\n",
    "#     'host': '127.0.0.1',\n",
    "#     'username': 'root',\n",
    "#     'password': 'root',\n",
    "#     'db': 'classroomDB'\n",
    "# }\n",
    "# connection = pymysql.connect(cnx['host'], cnx['username'], cnx['password'], cnx['db'])\n",
    "\n",
    "## mssql\n",
    "cnx = {\n",
    "    'host': '127.0.0.1:1433',\n",
    "    'username': 'sa',\n",
    "    'password': 'P@ssw0rd',\n",
    "    'db': 'classroomDB'\n",
    "}\n",
    "connection = pymssql.connect(cnx['host'], cnx['username'], cnx['password'], cnx['db'])\n",
    "connection.close()"
   ]
  },
  {
   "cell_type": "markdown",
   "metadata": {},
   "source": [
    "### create table"
   ]
  },
  {
   "cell_type": "code",
   "execution_count": 20,
   "metadata": {},
   "outputs": [
    {
     "ename": "OperationalError",
     "evalue": "(2714, b\"There is already an object named 'classroom' in the database.DB-Lib error message 20018, severity 16:\\nGeneral SQL Server error: Check messages from the SQL Server\\n\")",
     "output_type": "error",
     "traceback": [
      "\u001b[0;31m---------------------------------------------------------------------------\u001b[0m",
      "\u001b[0;31mMSSQLDatabaseException\u001b[0m                    Traceback (most recent call last)",
      "\u001b[0;32msrc/pymssql.pyx\u001b[0m in \u001b[0;36mpymssql.Cursor.execute\u001b[0;34m()\u001b[0m\n",
      "\u001b[0;32msrc/_mssql.pyx\u001b[0m in \u001b[0;36m_mssql.MSSQLConnection.execute_query\u001b[0;34m()\u001b[0m\n",
      "\u001b[0;32msrc/_mssql.pyx\u001b[0m in \u001b[0;36m_mssql.MSSQLConnection.execute_query\u001b[0;34m()\u001b[0m\n",
      "\u001b[0;32msrc/_mssql.pyx\u001b[0m in \u001b[0;36m_mssql.MSSQLConnection.format_and_run_query\u001b[0;34m()\u001b[0m\n",
      "\u001b[0;32msrc/_mssql.pyx\u001b[0m in \u001b[0;36m_mssql.check_cancel_and_raise\u001b[0;34m()\u001b[0m\n",
      "\u001b[0;32msrc/_mssql.pyx\u001b[0m in \u001b[0;36m_mssql.maybe_raise_MSSQLDatabaseException\u001b[0;34m()\u001b[0m\n",
      "\u001b[0;31mMSSQLDatabaseException\u001b[0m: (2714, b\"There is already an object named 'classroom' in the database.DB-Lib error message 20018, severity 16:\\nGeneral SQL Server error: Check messages from the SQL Server\\n\")",
      "\nDuring handling of the above exception, another exception occurred:\n",
      "\u001b[0;31mOperationalError\u001b[0m                          Traceback (most recent call last)",
      "\u001b[0;32m<ipython-input-20-09bdd03acedf>\u001b[0m in \u001b[0;36m<module>\u001b[0;34m()\u001b[0m\n\u001b[1;32m     20\u001b[0m \u001b[0;34m\u001b[0m\u001b[0m\n\u001b[1;32m     21\u001b[0m \u001b[0;31m# execute query\u001b[0m\u001b[0;34m\u001b[0m\u001b[0;34m\u001b[0m\u001b[0m\n\u001b[0;32m---> 22\u001b[0;31m \u001b[0mcursor\u001b[0m\u001b[0;34m.\u001b[0m\u001b[0mexecute\u001b[0m\u001b[0;34m(\u001b[0m\u001b[0mcreate_table\u001b[0m\u001b[0;34m)\u001b[0m\u001b[0;34m\u001b[0m\u001b[0m\n\u001b[0m\u001b[1;32m     23\u001b[0m \u001b[0;34m\u001b[0m\u001b[0m\n\u001b[1;32m     24\u001b[0m \u001b[0;31m# commit changes\u001b[0m\u001b[0;34m\u001b[0m\u001b[0;34m\u001b[0m\u001b[0m\n",
      "\u001b[0;32msrc/pymssql.pyx\u001b[0m in \u001b[0;36mpymssql.Cursor.execute\u001b[0;34m()\u001b[0m\n",
      "\u001b[0;31mOperationalError\u001b[0m: (2714, b\"There is already an object named 'classroom' in the database.DB-Lib error message 20018, severity 16:\\nGeneral SQL Server error: Check messages from the SQL Server\\n\")"
     ]
    }
   ],
   "source": [
    "## open connection\n",
    "# connection = sqlite3.connect(\"classroomDB.db\")\n",
    "# connection = pymysql.connect(cnx['host'], cnx['username'], cnx['password'], cnx['db'])\n",
    "connection = pymssql.connect(cnx['host'], cnx['username'], cnx['password'], cnx['db'])\n",
    "\n",
    "# open cursor\n",
    "cursor = connection.cursor()\n",
    "\n",
    "# query for creating table\n",
    "create_table = \"\"\"\n",
    "                CREATE TABLE classroom (\n",
    "                student_id INTEGER PRIMARY KEY,\n",
    "                name VARCHAR(20),\n",
    "                gender CHAR(1),\n",
    "                physics_marks INTEGER,\n",
    "                chemistry_marks INTEGER,\n",
    "                mathematics_marks INTEGER\n",
    "                );\n",
    "                \"\"\"\n",
    "\n",
    "# execute query\n",
    "cursor.execute(create_table)\n",
    "\n",
    "# commit changes\n",
    "connection.commit()\n",
    "\n",
    "#close connection\n",
    "connection.close()\n"
   ]
  },
  {
   "cell_type": "markdown",
   "metadata": {},
   "source": [
    "### insert data"
   ]
  },
  {
   "cell_type": "code",
   "execution_count": 27,
   "metadata": {},
   "outputs": [
    {
     "name": "stdout",
     "output_type": "stream",
     "text": [
      "INSERT INTO classroom(student_id, name, gender, physics_marks, chemistry_marks, mathematics_marks)\n",
      "                            VALUES(%s, %s, %s, %s, %s, %s);\n"
     ]
    },
    {
     "ename": "IntegrityError",
     "evalue": "(2627, b\"Violation of PRIMARY KEY constraint 'PK__classroo__2A33069A5207676A'. Cannot insert duplicate key in object 'dbo.classroom'. The duplicate key value is (1).DB-Lib error message 20018, severity 14:\\nGeneral SQL Server error: Check messages from the SQL Server\\n\")",
     "output_type": "error",
     "traceback": [
      "\u001b[0;31m---------------------------------------------------------------------------\u001b[0m",
      "\u001b[0;31mMSSQLDatabaseException\u001b[0m                    Traceback (most recent call last)",
      "\u001b[0;32msrc/pymssql.pyx\u001b[0m in \u001b[0;36mpymssql.Cursor.execute\u001b[0;34m()\u001b[0m\n",
      "\u001b[0;32msrc/_mssql.pyx\u001b[0m in \u001b[0;36m_mssql.MSSQLConnection.execute_query\u001b[0;34m()\u001b[0m\n",
      "\u001b[0;32msrc/_mssql.pyx\u001b[0m in \u001b[0;36m_mssql.MSSQLConnection.execute_query\u001b[0;34m()\u001b[0m\n",
      "\u001b[0;32msrc/_mssql.pyx\u001b[0m in \u001b[0;36m_mssql.MSSQLConnection.format_and_run_query\u001b[0;34m()\u001b[0m\n",
      "\u001b[0;32msrc/_mssql.pyx\u001b[0m in \u001b[0;36m_mssql.check_cancel_and_raise\u001b[0;34m()\u001b[0m\n",
      "\u001b[0;32msrc/_mssql.pyx\u001b[0m in \u001b[0;36m_mssql.maybe_raise_MSSQLDatabaseException\u001b[0;34m()\u001b[0m\n",
      "\u001b[0;31mMSSQLDatabaseException\u001b[0m: (2627, b\"Violation of PRIMARY KEY constraint 'PK__classroo__2A33069A5207676A'. Cannot insert duplicate key in object 'dbo.classroom'. The duplicate key value is (1).DB-Lib error message 20018, severity 14:\\nGeneral SQL Server error: Check messages from the SQL Server\\n\")",
      "\nDuring handling of the above exception, another exception occurred:\n",
      "\u001b[0;31mIntegrityError\u001b[0m                            Traceback (most recent call last)",
      "\u001b[0;32m<ipython-input-27-6af897ef9043>\u001b[0m in \u001b[0;36m<module>\u001b[0;34m()\u001b[0m\n\u001b[1;32m     21\u001b[0m \u001b[0;31m#     query = (\"INSERT INTO  billed_items(item_name,billed_qty,price,item_bill_series) VALUES(%s,%s,%s,%s)\")\u001b[0m\u001b[0;34m\u001b[0m\u001b[0;34m\u001b[0m\u001b[0m\n\u001b[1;32m     22\u001b[0m \u001b[0;31m# c.execute(query,((name),(no),(price),(series)))\u001b[0m\u001b[0;34m\u001b[0m\u001b[0;34m\u001b[0m\u001b[0m\n\u001b[0;32m---> 23\u001b[0;31m     \u001b[0mcursor\u001b[0m\u001b[0;34m.\u001b[0m\u001b[0mexecute\u001b[0m\u001b[0;34m(\u001b[0m\u001b[0minsert_statement\u001b[0m\u001b[0;34m,\u001b[0m \u001b[0;34m(\u001b[0m\u001b[0;34m(\u001b[0m\u001b[0mstudent\u001b[0m\u001b[0;34m[\u001b[0m\u001b[0;36m0\u001b[0m\u001b[0;34m]\u001b[0m\u001b[0;34m)\u001b[0m\u001b[0;34m,\u001b[0m \u001b[0;34m(\u001b[0m\u001b[0mstudent\u001b[0m\u001b[0;34m[\u001b[0m\u001b[0;36m1\u001b[0m\u001b[0;34m]\u001b[0m\u001b[0;34m)\u001b[0m\u001b[0;34m,\u001b[0m \u001b[0;34m(\u001b[0m\u001b[0mstudent\u001b[0m\u001b[0;34m[\u001b[0m\u001b[0;36m2\u001b[0m\u001b[0;34m]\u001b[0m\u001b[0;34m)\u001b[0m\u001b[0;34m,\u001b[0m \u001b[0;34m(\u001b[0m\u001b[0mstudent\u001b[0m\u001b[0;34m[\u001b[0m\u001b[0;36m3\u001b[0m\u001b[0;34m]\u001b[0m\u001b[0;34m)\u001b[0m\u001b[0;34m,\u001b[0m \u001b[0;34m(\u001b[0m\u001b[0mstudent\u001b[0m\u001b[0;34m[\u001b[0m\u001b[0;36m4\u001b[0m\u001b[0;34m]\u001b[0m\u001b[0;34m)\u001b[0m\u001b[0;34m,\u001b[0m \u001b[0;34m(\u001b[0m\u001b[0mstudent\u001b[0m\u001b[0;34m[\u001b[0m\u001b[0;36m5\u001b[0m\u001b[0;34m]\u001b[0m\u001b[0;34m)\u001b[0m\u001b[0;34m)\u001b[0m\u001b[0;34m)\u001b[0m\u001b[0;34m\u001b[0m\u001b[0m\n\u001b[0m\u001b[1;32m     24\u001b[0m \u001b[0;34m\u001b[0m\u001b[0m\n\u001b[1;32m     25\u001b[0m \u001b[0mconnection\u001b[0m\u001b[0;34m.\u001b[0m\u001b[0mcommit\u001b[0m\u001b[0;34m(\u001b[0m\u001b[0;34m)\u001b[0m\u001b[0;34m\u001b[0m\u001b[0m\n",
      "\u001b[0;32msrc/pymssql.pyx\u001b[0m in \u001b[0;36mpymssql.Cursor.execute\u001b[0;34m()\u001b[0m\n",
      "\u001b[0;31mIntegrityError\u001b[0m: (2627, b\"Violation of PRIMARY KEY constraint 'PK__classroo__2A33069A5207676A'. Cannot insert duplicate key in object 'dbo.classroom'. The duplicate key value is (1).DB-Lib error message 20018, severity 14:\\nGeneral SQL Server error: Check messages from the SQL Server\\n\")"
     ]
    }
   ],
   "source": [
    "## sample data\n",
    "classroom_data = [(1, \"Raj\", \"M\", 70, 84, 92),\n",
    "                  (2, \"Poonam\", \"F\", 87, 69, 93),\n",
    "                  (3, \"Nik\", \"M\", 65, 83, 90),\n",
    "                  (4, \"Rahul\", \"F\", 83, 76, 89)]\n",
    "\n",
    "# connection = sqlite3.connect(\"classroomDB.db\")\n",
    "# connection = pymysql.connect(cnx['host'], cnx['username'], cnx['password'], cnx['db'])\n",
    "connection = pymssql.connect(cnx['host'], cnx['username'], cnx['password'], cnx['db'])\n",
    "cursor = connection.cursor()\n",
    "\n",
    "## insert each student record\n",
    "for student in classroom_data:\n",
    "## for sqlite/mysql\n",
    "#     insert_statement = \"\"\"INSERT INTO classroom(student_id, name, gender, physics_marks, chemistry_marks, mathematics_marks)\n",
    "#                             VALUES({0}, \"{1}\", \"{2}\", {3}, {4}, {5});\"\"\".format(student[0], student[1], student[2],\n",
    "#                                                                           student[3], student[4], student[5])\n",
    "#     cursor.execute(insert_statement)\n",
    "## for mssql\n",
    "    insert_statement = (\"\"\"INSERT INTO classroom(student_id, name, gender, physics_marks, chemistry_marks, mathematics_marks)\n",
    "                            VALUES(%s, %s, %s, %s, %s, %s);\"\"\".format(student[0], student[1], student[2],\n",
    "                                                                          student[3], student[4], student[5]))\n",
    "    cursor.execute(insert_statement, ((student[0]), (student[1]), (student[2]), (student[3]), (student[4]), (student[5])))\n",
    "\n",
    "connection.commit()\n",
    "connection.close()\n"
   ]
  },
  {
   "cell_type": "markdown",
   "metadata": {},
   "source": [
    "### extract data"
   ]
  },
  {
   "cell_type": "code",
   "execution_count": 26,
   "metadata": {},
   "outputs": [
    {
     "name": "stdout",
     "output_type": "stream",
     "text": [
      "(1, 'Raj', 'M', 70, 84, 92)\n",
      "(2, 'Poonam', 'F', 87, 69, 93)\n",
      "(3, 'Nik', 'M', 65, 83, 90)\n",
      "(4, 'Rahul', 'F', 83, 76, 89)\n"
     ]
    }
   ],
   "source": [
    "# connection = sqlite3.connect(\"classroomDB.db\")\n",
    "# connection = pymysql.connect(cnx['host'], cnx['username'], cnx['password'], cnx['db'])\n",
    "connection = pymssql.connect(cnx['host'], cnx['username'], cnx['password'], cnx['db'])\n",
    "cursor = connection.cursor()\n",
    "query = \"SELECT * FROM classroom\"\n",
    "cursor.execute(query)\n",
    "\n",
    "#fetch results\n",
    "result = cursor.fetchall()\n",
    "#print results\n",
    "for row in result:\n",
    "    print(row)\n",
    "\n",
    "connection.close()"
   ]
  }
 ],
 "metadata": {
  "kernelspec": {
   "display_name": "Python 3",
   "language": "python",
   "name": "python3"
  },
  "language_info": {
   "codemirror_mode": {
    "name": "ipython",
    "version": 3
   },
   "file_extension": ".py",
   "mimetype": "text/x-python",
   "name": "python",
   "nbconvert_exporter": "python",
   "pygments_lexer": "ipython3",
   "version": "3.6.5"
  }
 },
 "nbformat": 4,
 "nbformat_minor": 2
}
