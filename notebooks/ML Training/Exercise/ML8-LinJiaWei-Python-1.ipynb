{
 "cells": [
  {
   "cell_type": "markdown",
   "metadata": {},
   "source": [
    "## Python第一课作业 - Answered by ML8-LinJiaWei\n",
    "\n",
    "####  作业提交说明：\n",
    "- 位置：作业文件统一放置于/0.Teacher/Exercise/Python/python1下面\n",
    "- 文件名：请先复制该notebook文件，并重新命名为(课程名)+(您姓名的全拼)，并按要求完成后保存\n",
    "- 时间：课程结束后的第二天前提交。\n",
    "- 注意：请勿抄袭，移动，修改，删除其他同学和原始空白的练习文件。\n",
    "***"
   ]
  },
  {
   "cell_type": "markdown",
   "metadata": {},
   "source": [
    "## 作业"
   ]
  },
  {
   "cell_type": "markdown",
   "metadata": {},
   "source": [
    "#### 简答题"
   ]
  },
  {
   "cell_type": "markdown",
   "metadata": {},
   "source": [
    "- 1.你常用Jupyter notebook中的magic函数都有哪些？"
   ]
  },
  {
   "cell_type": "markdown",
   "metadata": {},
   "source": [
    "> answer: %time, %ls, %%latex, %lsmagic"
   ]
  },
  {
   "cell_type": "markdown",
   "metadata": {
    "collapsed": true
   },
   "source": [
    "- 2.简述Python文件运行的流程"
   ]
  },
  {
   "cell_type": "markdown",
   "metadata": {},
   "source": [
    ">  answer: .py -->编译-->.pyc(字节码文件)-->解释(虚拟机)-->返回结果"
   ]
  },
  {
   "cell_type": "markdown",
   "metadata": {},
   "source": [
    "- 3.简述标识符的定义和规则？"
   ]
  },
  {
   "cell_type": "markdown",
   "metadata": {},
   "source": [
    "> answer: \n",
    ">         定义：程序员自定义的符号或名称，如函数名，变量名，类名等\n",
    ">         规则：必须由字母/下划线/数字组成，数字不可以做第一个字符；比较推荐的由CamelCase以及由下划线连接语义单词"
   ]
  },
  {
   "cell_type": "markdown",
   "metadata": {},
   "source": [
    "- 4.定义两个变量 a = 50 b = 30  求 :\n",
    "\n",
    "     1.a & b\n",
    "     \n",
    "     2.a | b\n",
    "     \n",
    "     3.a ^ b"
   ]
  },
  {
   "cell_type": "code",
   "execution_count": 7,
   "metadata": {},
   "outputs": [
    {
     "name": "stdout",
     "output_type": "stream",
     "text": [
      "18\n",
      "62\n",
      "44\n"
     ]
    }
   ],
   "source": [
    "a = 50; b = 30 # 50 == 0011 0010, 30 == 0001 1110\n",
    "print(a&b) # bit-wise and: 0001 0010 == 18\n",
    "print(a|b) # bit-wise or:  0011 1110 == 62\n",
    "print(a^b) # bit-wise xor: 0010 1100 == 44"
   ]
  },
  {
   "cell_type": "markdown",
   "metadata": {},
   "source": [
    "#### 编程题"
   ]
  },
  {
   "cell_type": "markdown",
   "metadata": {},
   "source": [
    "- 5.从控制台输入一个年份，判断是否是闰年"
   ]
  },
  {
   "cell_type": "code",
   "execution_count": 24,
   "metadata": {},
   "outputs": [
    {
     "name": "stdout",
     "output_type": "stream",
     "text": [
      "enter year number with 4 digits & press enter when finished: 1900\n",
      "1900  is not leap year, calculated via calendar's isleap method\n",
      "1900  is not leap year, calculated via custom method\n"
     ]
    }
   ],
   "source": [
    "import calendar\n",
    "\n",
    "def is_leap_year(year):\n",
    "    return year % 4 == 0 and (year % 100 != 0 or year % 400 == 0)\n",
    "\n",
    "leapYearCandidate = input('enter year number with 4 digits & press enter when finished: ')\n",
    "if calendar.isleap(int(leapYearCandidate)):\n",
    "    print(leapYearCandidate, \" is leap year, calculated via calendar's isleap method\")\n",
    "else:\n",
    "    print(leapYearCandidate, \" is not leap year, calculated via calendar's isleap method\")\n",
    "    \n",
    "if is_leap_year(int(leapYearCandidate)):\n",
    "    print(leapYearCandidate, \" is leap year, calculated via custom method\")\n",
    "else:\n",
    "    print(leapYearCandidate, \" is not leap year, calculated via custom method\")"
   ]
  },
  {
   "cell_type": "markdown",
   "metadata": {},
   "source": [
    "- 6.请对输入三个整数a,b,c,判断能否以它们为三个边长构成三角形。若能，输出YES和面积，否则输出NO"
   ]
  },
  {
   "cell_type": "code",
   "execution_count": 3,
   "metadata": {},
   "outputs": [
    {
     "name": "stdout",
     "output_type": "stream",
     "text": [
      "Please enter the length of 3 sides that you wannna construct as a triangle: \n",
      "a = 3\n",
      "b = 4\n",
      "c = 7\n",
      "NO\n"
     ]
    }
   ],
   "source": [
    "import math\n",
    "\n",
    "def calculate_triangle_area(edge1, edge2, edge3):\n",
    "    if edge1 + edge2 > edge3 and edge1 + edge3 > edge2 and edge2 + edge3 > edge1:\n",
    "        tempEdge = (edge1 + edge2 + edge3) / 2\n",
    "        area = math.sqrt(tempEdge * (tempEdge - edge1) * (tempEdge - edge2) * (tempEdge - edge3))\n",
    "        print('YES, 面积: %f' % (area))\n",
    "    else:\n",
    "        print('NO')\n",
    "        \n",
    "print('Please enter the length of 3 sides that you wannna construct as a triangle: ')\n",
    "edge1 = float(input('a = '))\n",
    "edge2 = float(input('b = '))\n",
    "edge3 = float(input('c = '))\n",
    "calculate_triangle_area(edge1, edge2, edge3)"
   ]
  },
  {
   "cell_type": "markdown",
   "metadata": {},
   "source": [
    "- 7.可逆素数是将某素数的各位数字顺序颠倒后仍为素数的数，请编程并输出200以内的可逆素数"
   ]
  },
  {
   "cell_type": "code",
   "execution_count": 34,
   "metadata": {},
   "outputs": [
    {
     "name": "stdout",
     "output_type": "stream",
     "text": [
      "please enter the start number you wanna check for available reversable prime numbers: 1\n",
      "please enter the end number you wanna check for available reversable prime numbers: 1000\n",
      "prime number list between 1 and 1000 is: \n",
      " 1, 2, 3, 4, 5, 7, 11, 13, 17, 31, 37, 71, 73, 79, 97, 101, 107, 113, 131, 149, 151, 157, 167, 179, 181, 191, 199, 311, 313, 337, 347, 353, 359, 373, 383, 389, 701, 709, 727, 733, 739, 743, 751, 757, 761, 769, 787, 797, 907, 919, 929, 937, 941, 953, 967, 971, 983, 991\n"
     ]
    }
   ],
   "source": [
    "def judge_prime(intPrime):\n",
    "    for i in range (2,intPrime//2):\n",
    "        if intPrime%i==0:\n",
    "            return False\n",
    "    return True\n",
    "\n",
    "def judge_reversable_prime(intPrime):\n",
    "    if judge_prime(intPrime) and judge_prime(int(str(intPrime)[::-1])):\n",
    "        return True\n",
    "    else:\n",
    "        return False\n",
    "\n",
    "def list_reversable_prime(startNo, endNo):\n",
    "    prime_list = []\n",
    "    for number in range(int(startNo), int(endNo)+1):\n",
    "        if judge_reversable_prime(number):\n",
    "            prime_list.append(number)\n",
    "    print('prime number list between {0} and {1} is: \\n'.format(startNo, endNo), str(prime_list).strip('[]'))\n",
    "    \n",
    "    \n",
    "startNo = input('please enter the start number you wanna check for available reversable prime numbers: ')\n",
    "endNo = input('please enter the end number you wanna check for available reversable prime numbers: ')\n",
    "list_reversable_prime(startNo, endNo)"
   ]
  },
  {
   "cell_type": "markdown",
   "metadata": {},
   "source": [
    "- 8.编写程序，完成以下要求：\n",
    "\n",
    "    统计字符串中，各个字符的个数\n",
    "    \n",
    "    比如：\"hello world\" 字符串统计的结果为： h:1 e:1 l:3 o:2 d:1 r:1 w:1"
   ]
  },
  {
   "cell_type": "code",
   "execution_count": 37,
   "metadata": {},
   "outputs": [
    {
     "name": "stdout",
     "output_type": "stream",
     "text": [
      "Please enter a string: abcddef\n",
      "result set:  a: 1, b: 1, c: 1, d: 2, e: 1, f: 1\n"
     ]
    }
   ],
   "source": [
    "str1=input(\"Please enter a string: \")\n",
    "resultSet={}\n",
    "emptyString = ''\n",
    "for i in str1:\n",
    "    resultSet[i]=str1.count(i)\n",
    "print('result set: ', str(resultSet).strip('{}').replace(\"'\",\"\"))"
   ]
  }
 ],
 "metadata": {
  "kernelspec": {
   "display_name": "Python 3",
   "language": "python",
   "name": "python3"
  },
  "language_info": {
   "codemirror_mode": {
    "name": "ipython",
    "version": 3
   },
   "file_extension": ".py",
   "mimetype": "text/x-python",
   "name": "python",
   "nbconvert_exporter": "python",
   "pygments_lexer": "ipython3",
   "version": "3.7.2"
  },
  "toc": {
   "base_numbering": 1,
   "nav_menu": {},
   "number_sections": true,
   "sideBar": true,
   "skip_h1_title": false,
   "title_cell": "Table of Contents",
   "title_sidebar": "Contents",
   "toc_cell": false,
   "toc_position": {},
   "toc_section_display": true,
   "toc_window_display": false
  }
 },
 "nbformat": 4,
 "nbformat_minor": 2
}
