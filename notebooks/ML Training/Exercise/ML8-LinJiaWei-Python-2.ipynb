{
 "cells": [
  {
   "cell_type": "markdown",
   "metadata": {},
   "source": [
    "## Python第二课作业\n",
    "\n",
    "####  作业提交说明：\n",
    "- 位置：作业文件统一放置于/0.Teacher/Exercise/Python/python2下面\n",
    "- 文件名：请先下载该notebook文件到本地，并重新命名为(课程名)+(您姓名的全拼)，并按要求完成后保存\n",
    "- 时间：课程结束后的第二天前提交。\n",
    "- 注意：请勿抄袭，移动，修改，删除其他同学和原始空白的练习文件。\n",
    "***"
   ]
  },
  {
   "cell_type": "markdown",
   "metadata": {},
   "source": [
    "## 作业"
   ]
  },
  {
   "cell_type": "markdown",
   "metadata": {},
   "source": [
    "#### 简答题"
   ]
  },
  {
   "cell_type": "markdown",
   "metadata": {},
   "source": [
    "- 1.简述继承的理解，继承的方式以及注意事项?"
   ]
  },
  {
   "cell_type": "markdown",
   "metadata": {},
   "source": [
    "> Answer: 子类可以继承父类，以便继承父类定义过的属性和方法。定义子类的时候，类名后的小括号内填入想要继承的父类的类名。需要注意的是私有属性和私有方法在被继承的子类中，同样无法直接使用。"
   ]
  },
  {
   "cell_type": "markdown",
   "metadata": {
    "collapsed": true
   },
   "source": [
    "- 2.简述类对象和实例对象？"
   ]
  },
  {
   "cell_type": "markdown",
   "metadata": {},
   "source": [
    "> Answered by LinJiaWei: 类对象相当于全局的对象，运行时，一个类的类对象只有一个，实例对象则是拥有特定值的属性的基于类对象的生成对象，可以在一个运行时里，针对一个类拥有许多实例对象。类方法，实例方法也有区别。"
   ]
  },
  {
   "cell_type": "markdown",
   "metadata": {},
   "source": [
    "- 3.如何理解闭包？"
   ]
  },
  {
   "cell_type": "markdown",
   "metadata": {},
   "source": [
    "> Answer by LinJiaWei: 闭包可以认为是用来返回另一个函数地址的函数"
   ]
  },
  {
   "cell_type": "markdown",
   "metadata": {},
   "source": [
    "- 4.简述生成器和迭代器之间的关系"
   ]
  },
  {
   "cell_type": "markdown",
   "metadata": {},
   "source": [
    "> answered by LinJiaWei: 生成器 -> 针对列表等，一边循环一边计算后续元素\n",
    ">         迭代器 -> 只往前不往后，遍历集合元素并记住遍历时所在位置的对象\n",
    ">         关系 -> 生成器是可迭代对象的一种"
   ]
  },
  {
   "cell_type": "markdown",
   "metadata": {},
   "source": [
    "#### 编程题"
   ]
  },
  {
   "cell_type": "markdown",
   "metadata": {},
   "source": [
    "- 5.读取一个文件，显示除了以井号(#)开头的行以外的所有行"
   ]
  },
  {
   "cell_type": "code",
   "execution_count": 76,
   "metadata": {
    "ExecuteTime": {
     "end_time": "2019-05-09T05:47:17.371240Z",
     "start_time": "2019-05-09T05:47:17.240244Z"
    }
   },
   "outputs": [
    {
     "name": "stdout",
     "output_type": "stream",
     "text": [
      "following is the original lines with # comment: \n",
      "\n",
      "# are you kidding\r\n",
      "\n",
      "a = b + c\r\n",
      "\n",
      "My Name is leo\r\n",
      "\n",
      "\n",
      "# will the blank line be displayed before this line?\r\n",
      "\n",
      "output = \"Thanks indeed\"\n",
      "\n",
      "---------------------\n",
      "\n",
      "following is the filtered lines with no # comment: \n",
      "\n",
      "a = b + c\r\n",
      "\n",
      "My Name is leo\r\n",
      "\n",
      "\n",
      "output = \"Thanks indeed\"\n"
     ]
    }
   ],
   "source": [
    "# this is created by LinJiaWei\n",
    "import urllib.request as request\n",
    "\n",
    "target_url = 'https://muses.live/demo.txt'\n",
    "\n",
    "# for cloud file\n",
    "content = request.urlopen(target_url)\n",
    "# display original lines\n",
    "print(\"following is the original lines with # comment: \\n\")\n",
    "for line in request.urlopen(target_url):\n",
    "    line = line.decode('utf-8').lstrip()\n",
    "    print(line)\n",
    "# display filtered lines\n",
    "print(\"\\n---------------------\\n\")\n",
    "print(\"following is the filtered lines with no # comment: \\n\")\n",
    "for line in request.urlopen(target_url):\n",
    "    line = line.decode('utf-8').lstrip()\n",
    "    if not (len(line) and line.startswith('#')):    #过滤注释行但不过滤空行  \n",
    "        print(line)\n",
    "\n",
    "# # for local file\n",
    "# with open('demo.txt','r') as f:\n",
    "#     for line in f.readlines():\n",
    "#         line = line.lstrip()\n",
    "#         if not (len(line) and line.startswith('#')):    #过滤注释行但不过滤空行  \n",
    "#             print(line)"
   ]
  },
  {
   "cell_type": "markdown",
   "metadata": {},
   "source": [
    "- 6.模拟斗地主，有3个玩家，一付扑克牌，留3张底牌，\n",
    "将扑克牌随机分配给3个玩家并显示（注意有四种花色和两个王）"
   ]
  },
  {
   "cell_type": "code",
   "execution_count": 53,
   "metadata": {
    "ExecuteTime": {
     "end_time": "2019-05-09T05:13:28.433649Z",
     "start_time": "2019-05-09T05:13:28.352649Z"
    }
   },
   "outputs": [
    {
     "name": "stdout",
     "output_type": "stream",
     "text": [
      "Below is the members of a poker: \n",
      " ['红桃2', '红桃3', '红桃4', '红桃5', '红桃6', '红桃7', '红桃8', '红桃9', '红桃10', '红桃A', '红桃J', '红桃Q', '红桃K', '黑桃2', '黑桃3', '黑桃4', '黑桃5', '黑桃6', '黑桃7', '黑桃8', '黑桃9', '黑桃10', '黑桃A', '黑桃J', '黑桃Q', '黑桃K', '方块2', '方块3', '方块4', '方块5', '方块6', '方块7', '方块8', '方块9', '方块10', '方块A', '方块J', '方块Q', '方块K', '梅花2', '梅花3', '梅花4', '梅花5', '梅花6', '梅花7', '梅花8', '梅花9', '梅花10', '梅花A', '梅花J', '梅花Q', '梅花K', '大王', '小王']\n",
      "\n",
      "Below is the shuffled poker: \n",
      " ['梅花3', '梅花Q', '方块10', '梅花10', '方块A', '方块9', '黑桃Q', '红桃A', '红桃7', '黑桃3', '红桃5', '方块4', '黑桃4', '方块2', '方块Q', '黑桃7', '黑桃5', '红桃3', '梅花J', '方块8', '黑桃9', '梅花A', '黑桃8', '黑桃A', '红桃Q', '红桃4', '梅花5', '黑桃2', '梅花2', '黑桃10', '红桃J', '方块6', '红桃10', '梅花6', '红桃K', '黑桃J', '梅花K', '方块3', '方块J', '梅花4', '红桃8', '方块K', '方块5', '红桃2', '梅花7', '小王', '黑桃K', '大王', '梅花9', '黑桃6', '红桃9', '方块7', '红桃6', '梅花8']\n",
      "\n",
      "Below is the sent-out poker for all 3 players and 3 cards for retaining: \n",
      "\n",
      "first Person got 17 cards:  ['梅花3', '梅花10', '黑桃Q', '黑桃3', '黑桃4', '黑桃7', '梅花J', '梅花A', '红桃Q', '黑桃2', '红桃J', '梅花6', '梅花K', '梅花4', '方块5', '小王', '梅花9']\n",
      "second Person got 17 cards:  ['梅花Q', '方块A', '红桃A', '红桃5', '方块2', '黑桃5', '方块8', '黑桃8', '红桃4', '梅花2', '方块6', '红桃K', '方块3', '红桃8', '红桃2', '黑桃K', '黑桃6']\n",
      "third Person got 17 cards:  ['方块10', '方块9', '红桃7', '方块4', '方块Q', '红桃3', '黑桃9', '黑桃A', '梅花5', '黑桃10', '红桃10', '黑桃J', '方块J', '方块K', '梅花7', '大王', '红桃9']\n",
      "retained 3 cards:  ['方块7', '红桃6', '梅花8']\n"
     ]
    }
   ],
   "source": [
    "# this is created by LinJiaWei\n",
    "import random\n",
    "# define poker members\n",
    "poker_num = [str(i) for i in range(2,11)]\n",
    "poker_str = ['A','J','Q','K']\n",
    "poker_king = ['大王','小王']\n",
    "poker_color = ['红桃','黑桃','方块','梅花']\n",
    "# pokers = ['%s%s'%(i,j) for i in poker_color for j in poker_num+poker_str]+poker_king\n",
    "pokers = ['{0}{1}'.format(i,j) for i in poker_color for j in poker_num+poker_str]+poker_king\n",
    "print(\"Below is the members of a poker: \\n\", pokers)\n",
    "\n",
    "# wash the cards in random order\n",
    "random.shuffle(pokers)\n",
    "print(\"\\nBelow is the shuffled poker: \\n\", pokers)\n",
    "\n",
    "# send out\n",
    "landownerRetained = []\n",
    "for i in range(1,4):\n",
    "    landownerRetained.append(pokers.pop(-1))\n",
    "landownerRetained.reverse()\n",
    "person_1st = pokers[::3]\n",
    "person_2nd = pokers[1::3]\n",
    "person_3rd = pokers[2::3]\n",
    "\n",
    "# print out cards\n",
    "print(\"\\nBelow is the sent-out poker for all 3 players and 3 cards for retaining: \\n\", )\n",
    "print(\"first Person got\", len(person_1st), \"cards: \", person_1st)\n",
    "print(\"second Person got\", len(person_2nd), \"cards: \", person_2nd)\n",
    "print(\"third Person got\", len(person_3rd), \"cards: \", person_3rd)\n",
    "print(\"retained\", len(landownerRetained), \"cards: \", landownerRetained)"
   ]
  }
 ],
 "metadata": {
  "kernelspec": {
   "display_name": "Python 3",
   "language": "python",
   "name": "python3"
  },
  "language_info": {
   "codemirror_mode": {
    "name": "ipython",
    "version": 3
   },
   "file_extension": ".py",
   "mimetype": "text/x-python",
   "name": "python",
   "nbconvert_exporter": "python",
   "pygments_lexer": "ipython3",
   "version": "3.7.2"
  },
  "toc": {
   "base_numbering": 1,
   "nav_menu": {},
   "number_sections": true,
   "sideBar": true,
   "skip_h1_title": false,
   "title_cell": "Table of Contents",
   "title_sidebar": "Contents",
   "toc_cell": false,
   "toc_position": {},
   "toc_section_display": true,
   "toc_window_display": false
  },
  "varInspector": {
   "cols": {
    "lenName": 16,
    "lenType": 16,
    "lenVar": 40
   },
   "kernels_config": {
    "python": {
     "delete_cmd_postfix": "",
     "delete_cmd_prefix": "del ",
     "library": "var_list.py",
     "varRefreshCmd": "print(var_dic_list())"
    },
    "r": {
     "delete_cmd_postfix": ") ",
     "delete_cmd_prefix": "rm(",
     "library": "var_list.r",
     "varRefreshCmd": "cat(var_dic_list()) "
    }
   },
   "types_to_exclude": [
    "module",
    "function",
    "builtin_function_or_method",
    "instance",
    "_Feature"
   ],
   "window_display": false
  }
 },
 "nbformat": 4,
 "nbformat_minor": 2
}
