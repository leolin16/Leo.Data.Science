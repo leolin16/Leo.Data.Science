{
 "cells": [
  {
   "cell_type": "code",
   "execution_count": 3,
   "metadata": {
    "ExecuteTime": {
     "end_time": "2019-05-11T13:51:34.740899Z",
     "start_time": "2019-05-11T13:51:34.727895Z"
    }
   },
   "outputs": [],
   "source": [
    "%config ZMQInteractiveShell.ast_node_interactivity='all' "
   ]
  },
  {
   "cell_type": "markdown",
   "metadata": {},
   "source": [
    "## 七月在线机器学习集训营八期第一周(Python基础)考试\n",
    "#### 考试说明:\n",
    "- 起止时间：请同学在2019年05月10日至05月13日期间完成，最晚提交时间下周一（05月13日12：00时之前）结束，<b>逾期不接受补考,该考试分数计入平时成绩</b>\n",
    "- 考试提交方式：请同学<font color=red><b>拷贝</b></font>该试卷后，将文件更名为同学姓名拼音-exam1（例如wangwei-exam1）后，移动至/0.Teacher/Exam/1/目录下进行作答。\n",
    "- 注意事项：为确保同学们真正了解自身对本周课程的掌握程度，<font color=red><b>请勿翻阅，移动，更改</b></font>其它同学试卷。如发现按0分处理\n",
    "- 请同学在下方同学姓名处填写自己的姓名，批改人和最终得分处不用填写"
   ]
  },
  {
   "cell_type": "markdown",
   "metadata": {},
   "source": [
    "- 同学姓名：林佳伟\n",
    "- 批改人：   \n",
    "- 最终得分:"
   ]
  },
  {
   "cell_type": "markdown",
   "metadata": {},
   "source": [
    "<center><h1>####答卷开始####</h1></center>"
   ]
  },
  {
   "cell_type": "markdown",
   "metadata": {},
   "source": [
    "***"
   ]
  },
  {
   "cell_type": "markdown",
   "metadata": {},
   "source": [
    "### 简答题 (共十题，每题4分，共40分)"
   ]
  },
  {
   "cell_type": "markdown",
   "metadata": {},
   "source": [
    "#### 1.请谈谈Python中is 和 == 的区别(代码演示)\n",
    "\n",
    "\n"
   ]
  },
  {
   "cell_type": "code",
   "execution_count": 8,
   "metadata": {
    "ExecuteTime": {
     "end_time": "2019-05-11T13:55:31.192854Z",
     "start_time": "2019-05-11T13:55:31.181854Z"
    }
   },
   "outputs": [
    {
     "name": "stdout",
     "output_type": "stream",
     "text": [
      "value compare:  True\n",
      "object identity compare with not identical result:  False\n",
      "object identity compare again:  True\n",
      "id of a is:  2739811259448 , while id of b is:  2739811210152 and the id of c is same as b:  2739811210152\n"
     ]
    }
   ],
   "source": [
    "# is 比较指向的内存地址是否相同，即是否是同一个对象。 == 则比较值是否相同\n",
    "# 对象比较：\n",
    "a = {'a':1 }\n",
    "b = {'a':1 }\n",
    "print(\"value compare: \", a == b)\n",
    "print(\"object identity compare with not identical result: \", a is b)\n",
    "c = b\n",
    "print(\"object identity compare again: \", b is c)\n",
    "print(\"id of a is: \", id(a), \", while id of b is: \", id(b), \"and the id of c is same as b: \", id(c))"
   ]
  },
  {
   "cell_type": "markdown",
   "metadata": {},
   "source": [
    "2.什么是Python中的自省？"
   ]
  },
  {
   "cell_type": "markdown",
   "metadata": {},
   "source": [
    "> 对运行中的实例的各种查看功能，可用于对于实例的动态添加属性等"
   ]
  },
  {
   "cell_type": "markdown",
   "metadata": {},
   "source": [
    "#### 3.Python中的高阶函数是指什么？"
   ]
  },
  {
   "cell_type": "markdown",
   "metadata": {},
   "source": [
    "> 若函数允许将另一个函数作为参数传入，则该函数可认为是高阶函数。常用于函数式编程，以及指map/reduce/filter这些可传入函数作为参数的函数"
   ]
  },
  {
   "cell_type": "markdown",
   "metadata": {},
   "source": [
    "#### 4. Python类中有哪些的成员，如何分类他们，他们各自又有哪些用途？"
   ]
  },
  {
   "cell_type": "markdown",
   "metadata": {},
   "source": [
    "> 1) 字段(属性)， 包括静态（类中定义）和普通（实例中使用，如在__init__中定义的self.??）\n",
    "\n",
    "> 2) 方法，包括普通（带self参数，可引用到实例中的对象），静态（使用@staticmethod，属于类方法）和类方法（使用@classmethod，也属于类方法）\n",
    "\n",
    "> 3) 属性（特性），使用@property以及@{propName}.setter，用来将方法转为变量，可以方便的使得对形似变量的操作带上各种复杂检查逻辑\n"
   ]
  },
  {
   "cell_type": "markdown",
   "metadata": {},
   "source": [
    "#### 5 Python中列表，元组的相同之处及区别都有哪些？集合与字典呢？"
   ]
  },
  {
   "cell_type": "markdown",
   "metadata": {},
   "source": [
    "> 列表中，值可重复，类型可以不同\n",
    "\n",
    "> 元组是不可变的列表\n",
    "\n",
    "> 集合没有重复元素，可用于将列表或元组去重\n",
    "\n",
    "> 字典是键值对，键不可重复，方便查询"
   ]
  },
  {
   "cell_type": "markdown",
   "metadata": {},
   "source": [
    "#### 6.尝试简述一下什么是Python类中的数据封装，以及封装的意义？ "
   ]
  },
  {
   "cell_type": "markdown",
   "metadata": {
    "ExecuteTime": {
     "end_time": "2019-05-12T14:22:35.347163Z",
     "start_time": "2019-05-12T14:22:35.341170Z"
    }
   },
   "source": [
    "> 让外部调用者不用考虑如何增删改查类的实例中的属性。数据封装还包括定义私有属性，这样即使外部调用知道属性名称也无法直接获取，增加了安全性。"
   ]
  },
  {
   "cell_type": "markdown",
   "metadata": {},
   "source": [
    "#### 7.解释下Python中的LEGB规则 ？ "
   ]
  },
  {
   "cell_type": "markdown",
   "metadata": {},
   "source": [
    "> 规定了变量名/命名在各种作用于下的匹配顺序。\n",
    "\n",
    "> Local -> Enclosed -> Global -> Built-in\n",
    "\n",
    "> 如果某个变量名/明明在local命名空间(函数体内)中没有找到，就会在闭包作用域(enclosed)(嵌套函数内的各种变量等上下文)进行查找，如果也没有找到，就会到全局(global)命名空间中进行查找，若还是未找到，则会在内建(built-in)命名空间查找。"
   ]
  },
  {
   "cell_type": "markdown",
   "metadata": {},
   "source": [
    "#### 8.谈谈您对Python中闭包的理解？"
   ]
  },
  {
   "cell_type": "markdown",
   "metadata": {},
   "source": [
    "> 函数体内定义了内部函数并返回此内部函数，若内部函数使用了外部函数中的变量等，则所返回的内部函数同时会附带所使用的外部函数的变量，这种打包的形式，我认为是闭包的含义。"
   ]
  },
  {
   "cell_type": "markdown",
   "metadata": {},
   "source": [
    "#### 9\t简述你理解 的Python中的数据描述符"
   ]
  },
  {
   "cell_type": "markdown",
   "metadata": {
    "ExecuteTime": {
     "end_time": "2019-05-12T13:58:13.613655Z",
     "start_time": "2019-05-12T13:58:13.607642Z"
    }
   },
   "source": [
    "> 是一种新式类，用来代理类的属性，数据描述符必须实现__get__()和\n",
    "__set__()"
   ]
  },
  {
   "cell_type": "markdown",
   "metadata": {},
   "source": [
    "#### 10.Python中的模块和包是什么，如何自定义并使用？"
   ]
  },
  {
   "cell_type": "markdown",
   "metadata": {},
   "source": [
    "> 模块是指打包的程序， 自定义模块的方法是，自己写.py文件，可以在另一个文件内用import来引用"
   ]
  },
  {
   "cell_type": "markdown",
   "metadata": {},
   "source": [
    "### 代码题(共十题，每题6分,共60分)"
   ]
  },
  {
   "cell_type": "markdown",
   "metadata": {},
   "source": [
    "#### 1. 创建一个函数，接收一个字符串参数，判断其做为Python标识符是否合法。\n",
    "\n",
    "具体要求： \n",
    "- 如果合法则输出 True，否则输出 False。\n",
    "- 如果该字符串与Python内置的关键字，或Bifs冲突，则打印'conflict'\n",
    "- 注:Python标识符的规则，关键字和Bifs可搜索得到"
   ]
  },
  {
   "cell_type": "code",
   "execution_count": 56,
   "metadata": {
    "ExecuteTime": {
     "end_time": "2019-05-11T15:36:38.243247Z",
     "start_time": "2019-05-11T15:36:33.041957Z"
    },
    "scrolled": true
   },
   "outputs": [
    {
     "name": "stdout",
     "output_type": "stream",
     "text": [
      "Hello, please enter the symbol you wanna use: 1a_2-\n"
     ]
    },
    {
     "data": {
      "text/plain": [
       "False"
      ]
     },
     "execution_count": 56,
     "metadata": {},
     "output_type": "execute_result"
    }
   ],
   "source": [
    "import keyword\n",
    "def isLegal(someKeyWord):\n",
    "    #判断字符串第一个变量是否满足条件\n",
    "    if someKeyWord[0].isalpha() or someKeyWord[0] == '_':\n",
    "        for digit in someKeyWord[1:]:\n",
    "          #判断字符串以后的变量是否满足条件\n",
    "            if not(digit.isalnum() or digit == '_'):\n",
    "                return False\n",
    "        return True\n",
    "    else:\n",
    "        return False\n",
    "\n",
    "keyWord = input(\"Hello, please enter the symbol you wanna use: \")\n",
    "keywords = keyword.kwlist\n",
    "keywords.extend(dir(__builtins__))\n",
    "keywords = list(set(keywords))\n",
    "if(keyWord in keywords):\n",
    "    print(\"conflict\")\n",
    "elif(isLegal(keyWord)):\n",
    "    True\n",
    "else:\n",
    "    False\n",
    "# print(keywords)"
   ]
  },
  {
   "cell_type": "markdown",
   "metadata": {},
   "source": [
    "#### 2.编写一个函数，能生成包含20个范围在0-999之间的随机整数的列表，然后将前10个元素升序排列，后10个元素降序排列，并分别打印输出"
   ]
  },
  {
   "cell_type": "code",
   "execution_count": 18,
   "metadata": {
    "ExecuteTime": {
     "end_time": "2019-05-12T13:29:28.886534Z",
     "start_time": "2019-05-12T13:29:28.876534Z"
    }
   },
   "outputs": [
    {
     "name": "stdout",
     "output_type": "stream",
     "text": [
      "first 10 elements in ascending order:  [36, 135, 199, 291, 312, 356, 369, 840, 893, 895]\n",
      "last 10 elements in descending order:  [866, 756, 746, 675, 662, 630, 565, 135, 101, 34]\n"
     ]
    }
   ],
   "source": [
    "import random\n",
    "import numpy as np\n",
    "random20 = np.random.randint(0,1000,size=20).tolist()\n",
    "random_first_10 = random20[:10]\n",
    "random_last_10 = random20[10:]\n",
    "print(\"first 10 elements in ascending order: \", sorted(random_first_10))\n",
    "print(\"last 10 elements in descending order: \", sorted(random_last_10, reverse=True))"
   ]
  },
  {
   "cell_type": "markdown",
   "metadata": {},
   "source": [
    "#### 3.有一分数序列为：2/1，3/2，5/3，8/5，13/8，21/13,请使用Python代码生成这种规则的数列，并打印该数列的前30项的和"
   ]
  },
  {
   "cell_type": "code",
   "execution_count": 1,
   "metadata": {
    "ExecuteTime": {
     "end_time": "2019-05-13T00:15:25.238917Z",
     "start_time": "2019-05-13T00:15:25.229911Z"
    }
   },
   "outputs": [
    {
     "name": "stdout",
     "output_type": "stream",
     "text": [
      "[2.0, 1.5, 1.6666666666666667, 1.6, 1.625, 1.6153846153846154, 1.619047619047619, 1.6176470588235294, 1.6181818181818182, 1.6179775280898876, 1.6180555555555556, 1.6180257510729614, 1.6180371352785146, 1.618032786885246, 1.618034447821682, 1.6180338134001253, 1.618034055727554, 1.6180339631667064, 1.6180339985218033, 1.618033985017358, 1.6180339901755971, 1.618033988205325, 1.618033988957902, 1.6180339886704431, 1.6180339887802426, 1.618033988738303, 1.6180339887543225, 1.6180339887482036, 1.6180339887505408, 1.6180339887496482]\n",
      "fibonacci's sum for the first 30 elements:  48.84060068717216\n"
     ]
    }
   ],
   "source": [
    "# 生成分子\n",
    "def fib_gen(max):\n",
    "    a, b = 1, 1\n",
    "    while max > 0:\n",
    "        a, b = b, a+b\n",
    "        max -= 1\n",
    "        yield a, b\n",
    "\n",
    "fib_list = []\n",
    "fib_sum = 0\n",
    "for a,b in fib_gen(30):\n",
    "    fib_list.append(b/a)\n",
    "    fib_sum += (b/a)\n",
    "print(fib_list)\n",
    "print(\"fibonacci's sum for the first 30 elements: \", fib_sum)"
   ]
  },
  {
   "cell_type": "markdown",
   "metadata": {},
   "source": [
    "#### 4. BMI编写\n",
    "身体质量指数（BMI）是根据人的体重和身高计算得出的一个数字，BMI是可靠的身体肥胖指标，其计算公式：BMI=Weight/High2，其中体重单位为公斤，身高单位为米。\n",
    "\n",
    "- 计算公式为：$BMI=体重（kg）÷身高^2（m）$\n",
    "\n",
    "- 提示用户输入体重（kg）和身高的数字(m)(注意单位），然后计算BMI。\n",
    "\n",
    "- 根据BMI指数范围，定义当前健康状态。BMI指数在18至25之间定义为健康的标准体重,小于该范围定义为偏瘦，超过该范围定义为偏重。\n",
    "\n",
    "- 将BMI指数和其所代表状态输出 \n",
    "\n",
    "\n"
   ]
  },
  {
   "cell_type": "code",
   "execution_count": 16,
   "metadata": {
    "ExecuteTime": {
     "end_time": "2019-05-11T14:20:59.250227Z",
     "start_time": "2019-05-11T14:20:50.571375Z"
    }
   },
   "outputs": [
    {
     "name": "stdout",
     "output_type": "stream",
     "text": [
      "Please enter your weight for calculating BMI Index (in kg, eg: 60): 71\n",
      "Please enter your height for calculating BMI Index (in m, eg: 1.8): 1.78\n",
      "your BMI Index is:  22.408786769347305\n",
      "you have a normal weight, keep up.\n"
     ]
    }
   ],
   "source": [
    "import math\n",
    "weight = input(\"Please enter your weight for calculating BMI Index (in kg, eg: 60): \")\n",
    "height = input(\"Please enter your height for calculating BMI Index (in m, eg: 1.8): \")\n",
    "bmi = float(weight)/float(height)**2\n",
    "print(\"your BMI Index is: \", bmi)\n",
    "if bmi < 18:\n",
    "    print(\"you are too thin!\")\n",
    "elif bmi >= 18 and bmi <= 25:\n",
    "    print(\"you have a normal weight, keep up.\")\n",
    "else:\n",
    "    print(\"you are too heavy!\")"
   ]
  },
  {
   "cell_type": "markdown",
   "metadata": {},
   "source": [
    "#### 5.字符统计\n",
    "- 创建一个函数，接收字符串输入，分别统计出其中英文字母、空格、数字和其它字符的个数后打印。\n",
    "- 提示：\n",
    "  - ord('a') 能将字符 'a' 转化为 ASCII 码表上对应的数值，\n",
    "  - 例如，空格为32  \n",
    "  - 数字 0-9 对应的码值为 48-57\n",
    "  - 大写字母 A-Z 对应 65-90\n",
    "  - 小写字母 a-z 对应 97-122\n",
    "  - 比122高的都是其它。"
   ]
  },
  {
   "cell_type": "code",
   "execution_count": 2,
   "metadata": {
    "ExecuteTime": {
     "end_time": "2019-05-13T00:29:50.168797Z",
     "start_time": "2019-05-13T00:29:35.852690Z"
    }
   },
   "outputs": [
    {
     "name": "stdout",
     "output_type": "stream",
     "text": [
      "Please enter a string: abcdEFG123 # !\n",
      "空格=2,数字=3,大些英文=3,小些英文=4,其他字符=0,无法识别=2\n"
     ]
    }
   ],
   "source": [
    "s=input('Please enter a string: ')\n",
    "def calcFreq(s):\n",
    "    num_space=0\n",
    "    num_digits=0\n",
    "    num_upperAlpha=0\n",
    "    num_lowerAlpha=0\n",
    "    num_others=0\n",
    "    num_unidentified=0\n",
    "    for c in s:\n",
    "        if ord(c)==32:\n",
    "            num_space+=1\n",
    "        elif ord(c)>=48 and ord(c)<=57:\n",
    "            num_digits+=1\n",
    "        elif ord(c)>=65 and ord(c)<=90:\n",
    "            num_upperAlpha+=1\n",
    "        elif ord(c)>=97 and ord(c)<=122:\n",
    "            num_lowerAlpha+=1\n",
    "        elif ord(c)>122:\n",
    "            num_others+=1\n",
    "        else:\n",
    "            num_unidentified+=1\n",
    "    print('空格=%d,数字=%d,大些英文=%d,小些英文=%d,其他字符=%d,无法识别=%d'%(num_space,num_digits,num_upperAlpha,num_lowerAlpha,num_others,num_unidentified))\n",
    "calcFreq(s)\n"
   ]
  },
  {
   "cell_type": "markdown",
   "metadata": {
    "collapsed": true
   },
   "source": [
    "#### 6.创建一个函数，可以将去除给定列表中中相邻且重复的元素(只保留一个)后，打印输出结果。\n",
    "- 说明\n",
    "  - 输入参数为 l1=[1,2,3,4,4,4,4,4,4,5,6,6,8,8,12,12,12,12,13]\n",
    "  - 操作后，保证原有整体排序不变，仅处理相邻且重复的元素\n",
    "  - 请勿使用set，否则该题不计分。"
   ]
  },
  {
   "cell_type": "code",
   "execution_count": 67,
   "metadata": {
    "ExecuteTime": {
     "end_time": "2019-05-12T02:39:53.837463Z",
     "start_time": "2019-05-12T02:39:53.814453Z"
    }
   },
   "outputs": [
    {
     "name": "stdout",
     "output_type": "stream",
     "text": [
      "[1, 2, 3, 4, 5, 6, 8, 12, 13]\n",
      "[1, 2, 3, 4, 5, 6, 8, 12, 13]\n",
      "[1, 2, 3, 4, 5, 6, 8, 12, 13]\n",
      "[1, 2, 3, 4, 5, 6, 8, 12, 13]\n",
      "[1, 2, 3, 4, 5, 6, 8, 12, 13]\n"
     ]
    }
   ],
   "source": [
    "# I've implemented two methods, both lead to the correct result I think\n",
    "l1=[1,2,3,4,4,4,4,4,4,5,6,6,8,8,12,12,12,12,13]\n",
    "l2=[1,2,3,4,4,4,4,4,4,5,6,6,8,8,12,12,12,12,13]\n",
    "l3=[1,2,3,4,4,4,4,4,4,5,6,6,8,8,12,12,12,12,13]\n",
    "# l1.pop(2)\n",
    "def cleanDup(someList):\n",
    "    pos = 0; l1Len = len(someList)\n",
    "    while pos < l1Len - 1:\n",
    "        for i,v in enumerate(someList):\n",
    "            if pos >= l1Len - 1:\n",
    "                break\n",
    "            elif someList[i+1] == v:\n",
    "                del someList[i+1]\n",
    "                l1Len -= 1\n",
    "                pos = 0\n",
    "                break\n",
    "            else:\n",
    "                pos += 1\n",
    "def cleanDup2(someList):\n",
    "    returnList = []\n",
    "    for i,v in enumerate(someList):\n",
    "        if i==0 or v!=someList[i-1]:\n",
    "            returnList.append(v)\n",
    "    return returnList\n",
    "def cleanDup3(someList):\n",
    "    returnList = []\n",
    "    for num in someList:\n",
    "        if len(returnList)==0 or num!=returnList[-1]:\n",
    "            returnList.append(num)\n",
    "    return returnList\n",
    "def cleanDup4(someList): # on condition that no reordering happened\n",
    "    return list(set(someList))\n",
    "def cleanDup5(someList):\n",
    "    resultList = []\n",
    "    resultDict = {}\n",
    "    for num in someList:\n",
    "        if num not in resultDict:\n",
    "            resultDict[num] = True\n",
    "    for k in resultDict.keys():\n",
    "        resultList.append(k)\n",
    "    return resultList\n",
    "\n",
    "cleanDup(l1)\n",
    "print(l1)\n",
    "\n",
    "resultList = cleanDup2(l2)\n",
    "print(resultList)\n",
    "\n",
    "resultList = cleanDup3(l2)\n",
    "print(resultList)\n",
    "\n",
    "resultList = cleanDup4(l2)\n",
    "print(resultList)\n",
    "\n",
    "resultList = cleanDup5(l2)\n",
    "print(resultList)"
   ]
  },
  {
   "cell_type": "markdown",
   "metadata": {},
   "source": [
    "#### 7 \t创建一个函数，接收一个由整数组成的列表（需对输入列表做检查，长度最少为2,数据类型为整型），并检验后下列条件后输出：\n",
    "- 如列表是升序排列的,则输出\"ASC\";   \n",
    "- 如列表是降序排列的,则输出\"DESC\";   \n",
    "- 如列表无序或对象全部相等，则输出\"WRONG\""
   ]
  },
  {
   "cell_type": "code",
   "execution_count": 4,
   "metadata": {
    "ExecuteTime": {
     "end_time": "2019-05-12T04:52:42.213902Z",
     "start_time": "2019-05-12T04:52:36.941012Z"
    }
   },
   "outputs": [
    {
     "name": "stdout",
     "output_type": "stream",
     "text": [
      "Please enter a int list like: [10,20,30,0]: [30,20,10]\n",
      "DESC\n"
     ]
    }
   ],
   "source": [
    "intList = []\n",
    "intListStr = input('Please enter a int list like: [10,20,30,0]: ')\n",
    "intList = eval(intListStr)\n",
    "while len(intList)<2:\n",
    "    intListStr = input('Sorry, please enter a int list with members greater than or equal to 2, like: [10,20,30,0] or input exit in lower case to exit: ')\n",
    "    if intListStr == 'exit':\n",
    "        break\n",
    "    intList = eval(intListStr)\n",
    "    \n",
    "def determineOrder(intList):\n",
    "    flag_asc = False\n",
    "    flag_dsc = False\n",
    "    initial_value = intList[0]\n",
    "    for i,v in enumerate(intList):\n",
    "        if i > 0:\n",
    "            if v > intList[i-1]:\n",
    "                flag_asc = True\n",
    "            elif v < intList[i-1]:\n",
    "                flag_dsc = True\n",
    "    if (flag_asc and flag_dsc) or not(flag_asc or flag_dsc):\n",
    "        print(\"WRONG\")\n",
    "    elif flag_asc:\n",
    "        print(\"ASC\")\n",
    "    else:\n",
    "        print(\"DESC\")\n",
    "determineOrder(intList)"
   ]
  },
  {
   "cell_type": "markdown",
   "metadata": {},
   "source": [
    "#### 8.高阶函数综合运用\n",
    "\n",
    "l1=[1,3,6,8,10,11,17]\n",
    "\n",
    "请仅使用map,reduce,filter对上方数组依次进行如下三次操作：\n",
    "\n",
    "\n",
    "- 剔除掉所有的偶数后打印\n",
    "\n",
    "- 对剩下的数字每个数字进行平方后打印\n",
    "\n",
    "- 对数组求和后打印"
   ]
  },
  {
   "cell_type": "code",
   "execution_count": 27,
   "metadata": {
    "ExecuteTime": {
     "end_time": "2019-05-12T13:45:58.033660Z",
     "start_time": "2019-05-12T13:45:58.027674Z"
    }
   },
   "outputs": [
    {
     "name": "stdout",
     "output_type": "stream",
     "text": [
      "[1, 3, 11, 17]\n"
     ]
    }
   ],
   "source": [
    "#剔除掉所有的偶数后打印\n",
    "l1=[1,3,6,8,10,11,17]\n",
    "def is_odd(x):\n",
    "    return x&1\n",
    "l2 = filter(is_odd, l1) # 算子\n",
    "print(list(l2))\n"
   ]
  },
  {
   "cell_type": "code",
   "execution_count": 31,
   "metadata": {
    "ExecuteTime": {
     "end_time": "2019-05-12T13:46:48.206688Z",
     "start_time": "2019-05-12T13:46:48.198686Z"
    }
   },
   "outputs": [
    {
     "name": "stdout",
     "output_type": "stream",
     "text": [
      "[1, 9, 121, 289]\n"
     ]
    }
   ],
   "source": [
    "#对剩下的数字每个数字进行平方后打印\n",
    "l2 = [1, 3, 11, 17]\n",
    "def square(x): return x * x\n",
    "l3 = map(square, l2) # 算子\n",
    "print(list(l3))\n"
   ]
  },
  {
   "cell_type": "code",
   "execution_count": 33,
   "metadata": {
    "ExecuteTime": {
     "end_time": "2019-05-12T13:48:06.357012Z",
     "start_time": "2019-05-12T13:48:06.350984Z"
    }
   },
   "outputs": [
    {
     "data": {
      "text/plain": [
       "420"
      ]
     },
     "execution_count": 33,
     "metadata": {},
     "output_type": "execute_result"
    }
   ],
   "source": [
    "#对数组求和后打印\n",
    "l3 = [1, 9, 121, 289]\n",
    "from functools import reduce\n",
    "l4 = reduce(lambda x,y: x+y, l3)\n",
    "l4\n",
    "\n"
   ]
  },
  {
   "cell_type": "markdown",
   "metadata": {},
   "source": [
    "#### 9.Python类设计\n",
    "设计一个公司类，完成以下要求，<font color=red>并实例化不同对象进行验证</font>\n",
    "\n",
    "类变量\n",
    " - 类下公司的总个数，类下实例的名称列表\n",
    "\n",
    "类方法\n",
    " - 返回公司类共有多少个公司实例\n",
    " - 返回公司类的公司实例有名称列表\n",
    "\n",
    "实例变量\n",
    "- 公司名，简介，利润，销售额，总成本，雇员姓名\n",
    "\n",
    "实例方法：\n",
    "- 招聘人才（每招一个人会有成本产生，影响该实例雇员列表，人数，总成本）\n",
    "- 解雇人员（每解雇一个人会有成本产生，影响该实例雇员列表，人数 ，总成本）\n",
    "- 公司广告推广(影响该实例总成本)\n",
    "- 交社保(按公司雇员总人数计算，影响该实例总成本)\n",
    "- 交税(按公司雇员总人数计算，影响该实例总成本)\n",
    "- 销售（按销售件数*价格计算销售额，利润按销售额*利润率进行计算利润。）\n",
    "- 获取公司雇员列表\n",
    "- 获取公司净利润"
   ]
  },
  {
   "cell_type": "code",
   "execution_count": null,
   "metadata": {},
   "outputs": [],
   "source": [
    "# 来不及做了"
   ]
  },
  {
   "cell_type": "markdown",
   "metadata": {
    "collapsed": true
   },
   "source": [
    "#### 10.结合PIL库，制作一个能生成4位随机数验证码图片的函数。"
   ]
  },
  {
   "cell_type": "code",
   "execution_count": 21,
   "metadata": {
    "ExecuteTime": {
     "end_time": "2019-05-13T04:46:53.311109Z",
     "start_time": "2019-05-13T04:46:49.608371Z"
    },
    "scrolled": false
   },
   "outputs": [
    {
     "name": "stdout",
     "output_type": "stream",
     "text": [
      "Please input the digits count you wanna generate(eg: 4): 8\n",
      "valid string is:  WYvRm6f8\n"
     ]
    },
    {
     "data": {
      "image/png": "[encoded data removed]",
      "text/plain": [
       "<Figure size 432x288 with 1 Axes>"
      ]
     },
     "metadata": {
      "needs_background": "light"
     },
     "output_type": "display_data"
    }
   ],
   "source": [
    "# 以下代码参考了网上的一篇文章，并修改为从web获取字体文件以及可以inline显示图片 - by Leo\n",
    "# 由于加入了按需生成位数的功能，运行后需要先输入想要生成的位数，如果输入0或者非数字，则会默认输出4位的验证码图片\n",
    "from PIL import Image\n",
    "from PIL import ImageDraw\n",
    "from PIL import ImageFont\n",
    "import random\n",
    "import urllib.request as request\n",
    "\n",
    "from matplotlib.pyplot import imshow\n",
    "import numpy as np\n",
    "\n",
    "target_url = 'https://muses.live/kumo.ttf'\n",
    "\n",
    "# for cloud file\n",
    "content = request.urlopen(target_url)\n",
    " \n",
    "class ValidCodeImg:\n",
    "    def __init__(self,width=120,height=30,code_count=4,font_size=32,point_count=20,line_count=3,img_format='png'):\n",
    "        self.width = width\n",
    "        self.height = height\n",
    "        self.code_count = code_count\n",
    "        self.font_size = font_size\n",
    "        self.point_count = point_count\n",
    "        self.line_count = line_count\n",
    "        self.img_format = img_format\n",
    " \n",
    "    @staticmethod\n",
    "    def getRandomColor():\n",
    "        '''return: random generated color in (r,g,b) format'''\n",
    "        c1 = random.randint(0,255)\n",
    "        c2 = random.randint(0,255)\n",
    "        c3 = random.randint(0,255)\n",
    "        return (c1,c2,c3)\n",
    " \n",
    "    @staticmethod\n",
    "    def getRandomStr():\n",
    "        '''return: random char among number + lowercase + uppercase'''\n",
    "        random_num = str(random.randint(0, 9))\n",
    "        random_low_alpha = chr(random.randint(97, 122))\n",
    "        random_upper_alpha = chr(random.randint(65, 90))\n",
    "        random_char = random.choice([random_num, random_low_alpha, random_upper_alpha])\n",
    "        return random_char\n",
    " \n",
    " \n",
    "    def getValidCodeImg(self):\n",
    "        '''\n",
    "        :return: data of bytes for generated image\n",
    "        '''\n",
    "        # create an image object with parameters like: RGB, Width, Height, background Color\n",
    "        image = Image.new('RGB',(self.width,self.height),self.getRandomColor())\n",
    " \n",
    "        # get a draw object and pass it with the image object\n",
    "        draw = ImageDraw.Draw(image)\n",
    " \n",
    "        # get a fontobject, with ttf path/content and font size as parameters\n",
    "        font=ImageFont.truetype(content,size=self.font_size)\n",
    " \n",
    "        temp = []\n",
    "        for i in range(self.code_count):\n",
    "            # get random char in specified rounds\n",
    "            random_char = self.getRandomStr()\n",
    " \n",
    "            # draw the char in the image with parameters:position,char,color,font\n",
    "            draw.text((10+i*30, -2),random_char , self.getRandomColor(), font=font)\n",
    " \n",
    "            # save the generated char image's verification char\n",
    "            temp.append(random_char)\n",
    "        valid_str = \"\".join(temp)\n",
    " \n",
    "        # draw distractive lines\n",
    "        for i in range(self.line_count):\n",
    "            x1=random.randint(0,self.width)\n",
    "            x2=random.randint(0,self.width)\n",
    "            y1=random.randint(0,self.height)\n",
    "            y2=random.randint(0,self.height)\n",
    "            draw.line((x1,y1,x2,y2),fill=self.getRandomColor())\n",
    " \n",
    "        # draw distractive points\n",
    "        for i in range(self.point_count):\n",
    "            draw.point([random.randint(0, self.width), random.randint(0, self.height)], fill=self.getRandomColor())\n",
    "            x = random.randint(0, self.width)\n",
    "            y = random.randint(0, self.height)\n",
    "            draw.arc((x, y, x + 4, y + 4), 0, 90, fill=self.getRandomColor())\n",
    " \n",
    "        # generate image in memory\n",
    "        from io import BytesIO\n",
    "        f = BytesIO()\n",
    "        image.save(f, self.img_format)\n",
    "        data = f.getvalue()\n",
    "        \n",
    "        # inline display the image in memory\n",
    "        %matplotlib inline\n",
    "        pil_image = Image.open(f, 'r')\n",
    "        imshow(np.asarray(pil_image))\n",
    "        \n",
    "        f.close()\n",
    "        return data,valid_str\n",
    "\n",
    "code_count = 4\n",
    "code_count_tmp = input('Please input the digits count you wanna generate(eg: 4): ')\n",
    "if code_count_tmp.isdigit() and int(code_count_tmp) > 0:\n",
    "    code_count = int(code_count_tmp)\n",
    "width = code_count * 30\n",
    "img = ValidCodeImg(width=width,code_count=code_count)\n",
    "data, valid_str = img.getValidCodeImg()\n",
    "print(\"valid string is: \",valid_str)\n",
    "\n",
    "# you can check the generated image as leo-test.png file in the same folder as this notebook\n",
    "f = open('leo-test.png', 'wb')\n",
    "f.write(data)\n",
    "f.close()\n"
   ]
  },
  {
   "cell_type": "markdown",
   "metadata": {},
   "source": [
    "***\n",
    "<center><h1>####答卷结束####</h1></center>"
   ]
  },
  {
   "cell_type": "markdown",
   "metadata": {
    "collapsed": true
   },
   "source": [
    "### 本周课程意见反馈(非必答)\n",
    "请同学围绕以下两点进行回答：\n",
    "- 自身总结：您自己在本周课程的学习，收获，技能掌握等方面进行总结，包括自身在哪些方面存在哪些不足，欠缺，困惑。作为将来回顾学习路径时的依据。\n",
    "- 课程反馈：也可以就知识点，进度，难易度，教学方式，考试方式等等进行意见反馈，督促我们进行更有效的改进，为大家提供更优质的服务。\n"
   ]
  },
  {
   "cell_type": "code",
   "execution_count": null,
   "metadata": {},
   "outputs": [],
   "source": []
  },
  {
   "cell_type": "markdown",
   "metadata": {
    "ExecuteTime": {
     "end_time": "2019-05-11T02:02:35.145572Z",
     "start_time": "2019-05-11T02:02:35.140469Z"
    }
   },
   "source": []
  }
 ],
 "metadata": {
  "kernelspec": {
   "display_name": "Python 3",
   "language": "python",
   "name": "python3"
  },
  "language_info": {
   "codemirror_mode": {
    "name": "ipython",
    "version": 3
   },
   "file_extension": ".py",
   "mimetype": "text/x-python",
   "name": "python",
   "nbconvert_exporter": "python",
   "pygments_lexer": "ipython3",
   "version": "3.7.3"
  },
  "toc": {
   "base_numbering": 1,
   "nav_menu": {},
   "number_sections": true,
   "sideBar": true,
   "skip_h1_title": false,
   "title_cell": "Table of Contents",
   "title_sidebar": "Contents",
   "toc_cell": false,
   "toc_position": {},
   "toc_section_display": true,
   "toc_window_display": false
  },
  "varInspector": {
   "cols": {
    "lenName": 16,
    "lenType": 16,
    "lenVar": 40
   },
   "kernels_config": {
    "python": {
     "delete_cmd_postfix": "",
     "delete_cmd_prefix": "del ",
     "library": "var_list.py",
     "varRefreshCmd": "print(var_dic_list())"
    },
    "r": {
     "delete_cmd_postfix": ") ",
     "delete_cmd_prefix": "rm(",
     "library": "var_list.r",
     "varRefreshCmd": "cat(var_dic_list()) "
    }
   },
   "types_to_exclude": [
    "module",
    "function",
    "builtin_function_or_method",
    "instance",
    "_Feature"
   ],
   "window_display": false
  }
 },
 "nbformat": 4,
 "nbformat_minor": 2
}
