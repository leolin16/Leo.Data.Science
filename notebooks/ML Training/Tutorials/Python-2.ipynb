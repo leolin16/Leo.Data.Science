{
 "cells": [
  {
   "cell_type": "markdown",
   "metadata": {},
   "source": [
    "<img src='data:image/png;base64,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'>"
   ]
  },
  {
   "cell_type": "markdown",
   "metadata": {},
   "source": [
    "\n",
    "# 机器学习集训营第八期 [@Julyedu.com七月在线 ](http://www.julyedu.com)\n",
    "## 第一阶段：零基础快速上手编程\n",
    "### 第二课  Python函数、面向对象、文件操作和异常处理等\n",
    "\n",
    "孙小磊@七月在线 2019-05-08"
   ]
  },
  {
   "cell_type": "markdown",
   "metadata": {},
   "source": [
    "第一阶段主要以Python基础为主，让同学们能够更好的掌握Python语言的基本使用"
   ]
  },
  {
   "cell_type": "markdown",
   "metadata": {},
   "source": [
    "### 本节课程目标\n",
    "\n",
    "#### Python基础\n",
    "- 函数\n",
    "- 面向对象\n",
    "- 文件操作和异常处理\n",
    "- 模块的使用\n",
    "- 装饰器、迭代器、生成器\n",
    "\n",
    "#### 作业\n",
    "1. 完成本节课程的练习"
   ]
  },
  {
   "cell_type": "markdown",
   "metadata": {},
   "source": [
    "### 函数\n",
    "#### 函数概述\n",
    "\n",
    "例如：现在有这样一段代码\n",
    "\n",
    "print（\"天王盖地虎\"）\n",
    "\n",
    "print(\"小鸡炖蘑菇\")\n",
    " \n",
    "再来一段代码：在不同的地方相同的代码，那么这样的程序改如何设计\n",
    "\n",
    "if 条件1：\n",
    "\n",
    "    print（\"天王盖地虎\"）\n",
    "    \n",
    "    print(\"小鸡炖蘑菇\")\n",
    "    \n",
    "elif 条件2：\n",
    "\n",
    "    print（\"天王盖地虎\"）\n",
    "    \n",
    "    print(\"小鸡炖蘑菇\")\n",
    "    \n",
    "elif 条件3：\n",
    "\n",
    "    print（\"天王盖地虎\"）\n",
    "    \n",
    "    print(\"小鸡炖蘑菇\")\n",
    "    \n",
    " 如果需要输出多次，是否意味着要编写这块代码多次呢？\n",
    "\n",
    "小总结:\n",
    "\n",
    "    如果在开发程序时，需要某块代码多次，但是为了提高编写的效率以及代码的重用，所以把具有独立功能的代码块组织为一个小模块，这就是函数"
   ]
  },
  {
   "cell_type": "markdown",
   "metadata": {},
   "source": [
    "#### 函数定义\n",
    "\n",
    "函数定义的格式：\n",
    "\n",
    "def 函数名():\n",
    "\n",
    "        代码      "
   ]
  },
  {
   "cell_type": "code",
   "execution_count": null,
   "metadata": {
    "ExecuteTime": {
     "start_time": "2019-05-08T12:07:14.333Z"
    }
   },
   "outputs": [],
   "source": [
    "\n",
    "#案例：\n",
    "    # 定义一个函数，能够完成打印信息的功能\n",
    "def printInfo():\n",
    "    print('------------------------------------')\n",
    "    print('         人生苦短，我用Python')\n",
    "    print('------------------------------------')"
   ]
  },
  {
   "cell_type": "code",
   "execution_count": null,
   "metadata": {},
   "outputs": [],
   "source": []
  },
  {
   "cell_type": "markdown",
   "metadata": {},
   "source": [
    "#### 函数调用\n",
    "\n",
    "定义了函数之后，就相当于有了一个具有某些功能的代码，想要让这些代码能够执行，需要调用它\n",
    "\n",
    "调用函数很简单的，通过 函数名() 即可完成调用"
   ]
  },
  {
   "cell_type": "code",
   "execution_count": null,
   "metadata": {
    "ExecuteTime": {
     "start_time": "2019-05-08T12:07:24.163Z"
    }
   },
   "outputs": [],
   "source": [
    "# 定义完函数后，函数是不会自动执行的，需要调用它才可以\n",
    "printInfo()"
   ]
  },
  {
   "cell_type": "markdown",
   "metadata": {},
   "source": [
    "#### 函数参数\n",
    "概述：\n",
    "   思考一个问题，如下：\n",
    "\n",
    "    现在需要定义一个函数，这个函数能够完成2个数的加法运算，并且把结果打印出来，该怎样设计？下面的代码可以吗？有什么缺陷吗？"
   ]
  },
  {
   "cell_type": "code",
   "execution_count": 1,
   "metadata": {
    "ExecuteTime": {
     "end_time": "2019-05-08T12:11:22.900694Z",
     "start_time": "2019-05-08T12:11:14.972307Z"
    }
   },
   "outputs": [
    {
     "name": "stdout",
     "output_type": "stream",
     "text": [
      "请输入你的名字laowang\n",
      "请输入你的年龄35\n",
      "laowang 35\n"
     ]
    }
   ],
   "source": [
    "def message():\n",
    "    name = input('请输入你的名字')\n",
    "    age = input('请输入你的年龄')\n",
    "    print(name,age)\n",
    "    \n",
    "message()    "
   ]
  },
  {
   "cell_type": "markdown",
   "metadata": {},
   "source": [
    "##### 定义带有参数函数"
   ]
  },
  {
   "cell_type": "code",
   "execution_count": 2,
   "metadata": {
    "ExecuteTime": {
     "end_time": "2019-05-08T12:12:43.951449Z",
     "start_time": "2019-05-08T12:12:43.944742Z"
    }
   },
   "outputs": [
    {
     "name": "stdout",
     "output_type": "stream",
     "text": [
      "33\n"
     ]
    }
   ],
   "source": [
    "def add2num():\n",
    "    a = 11\n",
    "    b = 22\n",
    "    print(a+b)\n",
    "add2num()    "
   ]
  },
  {
   "cell_type": "code",
   "execution_count": 3,
   "metadata": {
    "ExecuteTime": {
     "end_time": "2019-05-08T12:13:25.118299Z",
     "start_time": "2019-05-08T12:13:25.112110Z"
    }
   },
   "outputs": [
    {
     "name": "stdout",
     "output_type": "stream",
     "text": [
      "30\n"
     ]
    }
   ],
   "source": [
    "def add2num(a,b):\n",
    "    print(a+b)\n",
    "add2num(10,20) "
   ]
  },
  {
   "cell_type": "markdown",
   "metadata": {},
   "source": [
    "##### 调用带有参数的函数"
   ]
  },
  {
   "cell_type": "markdown",
   "metadata": {},
   "source": [
    "##### 总结\n",
    "- 定义时小括号中的参数，用来接收参数用的，称为 “形参”\n",
    "- 调用时小括号中的参数，用来传递给函数用的，称为 “实参”\n"
   ]
  },
  {
   "cell_type": "markdown",
   "metadata": {},
   "source": [
    "#### 函数的返回值\n",
    "\n",
    "返回值：就是程序中函数完成一件事情后，最后给调用者的结果\n",
    "    \n",
    "注意：在python中return默认值为空--》None"
   ]
  },
  {
   "cell_type": "code",
   "execution_count": 4,
   "metadata": {
    "ExecuteTime": {
     "end_time": "2019-05-08T12:18:07.981003Z",
     "start_time": "2019-05-08T12:18:07.976943Z"
    }
   },
   "outputs": [
    {
     "name": "stdout",
     "output_type": "stream",
     "text": [
      "30\n"
     ]
    }
   ],
   "source": [
    "def add2num(a,b):\n",
    "    return a+b\n",
    "sum = add2num(10,20) \n",
    "print(sum)"
   ]
  },
  {
   "cell_type": "markdown",
   "metadata": {},
   "source": [
    "#### 函数的参数\n",
    "函数根据有没有参数，有没有返回值，可以相互组合，一共有4种\n",
    "\n",
    "无参数，无返回值（此类函数，不能接收参数，也没有返回值，一般情况下，打印提示灯类似的功能，使用这类的函数）\n",
    "\n",
    "无参数，有返回值（此类函数，不能接收参数，但是可以返回某个数据，一般情况下，像采集数据，用此类函数）\n",
    "\n",
    "有参数，无返回值（此类函数，能接收参数，但不可以返回数据，一般情况下，对某些变量设置数据而不需结果时，用此类函数）\n",
    "\n",
    "有参数，有返回值（此类函数，不仅能接收参数，还可以返回某个数据，一般情况下，像数据处理并需要结果的应用，用此类函数）\n",
    "\n",
    "总结：\n",
    "函数根据有没有参数，有没有返回值可以相互组合\n",
    "\n",
    "定义函数时，是根据实际的功能需求来设计的，所以不同开发人员编写的函数类型各不相同"
   ]
  },
  {
   "cell_type": "markdown",
   "metadata": {},
   "source": [
    "#### 函数嵌套调用\n",
    "\n",
    "一个函数里面又调用了另外一个函数，这就是所谓的函数嵌套调用"
   ]
  },
  {
   "cell_type": "code",
   "execution_count": 5,
   "metadata": {
    "ExecuteTime": {
     "end_time": "2019-05-08T12:21:17.033185Z",
     "start_time": "2019-05-08T12:21:17.027356Z"
    }
   },
   "outputs": [
    {
     "name": "stdout",
     "output_type": "stream",
     "text": [
      "---- testA start----\n",
      "---- testB start----\n",
      "这里是testB函数执行的代码...(省略)...\n",
      "---- testB end----\n",
      "---- testA end----\n"
     ]
    }
   ],
   "source": [
    "def testB():\n",
    "    print('---- testB start----')\n",
    "    print('这里是testB函数执行的代码...(省略)...')\n",
    "    print('---- testB end----')\n",
    "\n",
    "def testA():\n",
    "    print('---- testA start----')\n",
    "    testB()\n",
    "    print('---- testA end----')\n",
    "\n",
    "testA()"
   ]
  },
  {
   "cell_type": "markdown",
   "metadata": {},
   "source": [
    "#### 关键字参数\n",
    "定义：\n",
    "    允许函数调用时参数的顺序与定义时不一致"
   ]
  },
  {
   "cell_type": "code",
   "execution_count": 7,
   "metadata": {
    "ExecuteTime": {
     "end_time": "2019-05-08T12:25:14.191335Z",
     "start_time": "2019-05-08T12:25:14.186071Z"
    }
   },
   "outputs": [
    {
     "name": "stdout",
     "output_type": "stream",
     "text": [
      "laowang 35\n",
      "laosong 18\n"
     ]
    }
   ],
   "source": [
    "def myPrint(str,age):\n",
    "    print(str,age)\n",
    "\n",
    "myPrint('laowang',35)\n",
    "myPrint(age=18,str='laosong')"
   ]
  },
  {
   "cell_type": "markdown",
   "metadata": {},
   "source": [
    "#### 默认参数（缺省参数）\n",
    "\n",
    "概述：\n",
    "   python为了简化函数的调用，提供了默认参数机制\n",
    "   调用函数时，缺省参数的值如果没有传入，则被认为是默认值"
   ]
  },
  {
   "cell_type": "code",
   "execution_count": 49,
   "metadata": {
    "ExecuteTime": {
     "end_time": "2019-05-08T14:31:58.884625Z",
     "start_time": "2019-05-08T14:31:58.878020Z"
    }
   },
   "outputs": [
    {
     "name": "stdout",
     "output_type": "stream",
     "text": [
      "laowang male 35\n"
     ]
    }
   ],
   "source": [
    "def myPrint(str,sex,age = 35):\n",
    "    print(str,sex,age)\n",
    "    \n",
    "myPrint('laowang','male')    "
   ]
  },
  {
   "cell_type": "markdown",
   "metadata": {},
   "source": [
    "#### 不定长参数\n",
    "\n",
    "概述：\n",
    "\n",
    "  有时可能需要一个函数能处理比当初声明时更多的参数。这些参数叫做不定长参数，声明时不会命名。\n",
    "  \n",
    " 基本语法如下：\n",
    "\n",
    "def functionname([formal_args,] *args, **kwargs):\n",
    "\n",
    "    \"函数_文档字符串\"\n",
    "    function_suite \n",
    "    return [expression]\n",
    "\n",
    "加了星号（*）的变量args会存放所有未命名的变量参数，args为元组；\n",
    "\n",
    "而加**的变量kwargs会存放命名参数，即形如key=value的参数， \n",
    "\n",
    "kwargs为字典。"
   ]
  },
  {
   "cell_type": "code",
   "execution_count": 12,
   "metadata": {
    "ExecuteTime": {
     "end_time": "2019-05-08T12:36:28.595552Z",
     "start_time": "2019-05-08T12:36:28.582127Z"
    }
   },
   "outputs": [
    {
     "name": "stdout",
     "output_type": "stream",
     "text": [
      "a = 1\n",
      "b = 2\n",
      "*args = (3, 4, 5)\n",
      "**kwargs = {'m': 6, 'n': 7, 'p': 8}\n",
      "a = 1\n",
      "b = 2\n",
      "*args = (3, 4, 5)\n",
      "**kwargs = {'m': 6, 'n': 7, 'p': 8}\n"
     ]
    }
   ],
   "source": [
    "def fun(a,b,*args,**kwargs):\n",
    "    print('a =',a)\n",
    "    print('b =',b)\n",
    "    print('*args =',args)\n",
    "    print('**kwargs =',kwargs)\n",
    "\n",
    "#方式1\n",
    "fun(1,2,3,4,5,m=6,n=7,p=8)\n",
    "    \n",
    "    \n",
    "#方式2：\n",
    "c = (3,4,5)\n",
    "d = {'m': 6, 'n': 7, 'p': 8}\n",
    "fun(1,2,*c,**d)"
   ]
  },
  {
   "cell_type": "code",
   "execution_count": null,
   "metadata": {},
   "outputs": [],
   "source": []
  },
  {
   "cell_type": "markdown",
   "metadata": {},
   "source": [
    "#### 匿名函数\n",
    "\n",
    "定义：\n",
    "      不使用def这样的语句定义函数，使用lambda来创建匿名函数\n",
    "      \n",
    "用lambda关键词能创建小型匿名函数。这种函数得名于省略了用def声明函数的标准步骤。\n",
    "\n",
    "lambda函数的语法只包含一个语句，如下：\n",
    "\n",
    "lambda [arg1 [,arg2,.....argn]]:expression\n",
    "\n",
    "或者：\n",
    "\n",
    "lambda 参数1,参数2,……,参数n:expression"
   ]
  },
  {
   "cell_type": "code",
   "execution_count": 13,
   "metadata": {
    "ExecuteTime": {
     "end_time": "2019-05-08T12:39:25.729937Z",
     "start_time": "2019-05-08T12:39:25.723680Z"
    }
   },
   "outputs": [
    {
     "name": "stdout",
     "output_type": "stream",
     "text": [
      "30\n"
     ]
    }
   ],
   "source": [
    "sum = lambda arg1,arg2:arg1+arg2\n",
    "\n",
    "print(sum(10,20))"
   ]
  },
  {
   "cell_type": "code",
   "execution_count": 14,
   "metadata": {
    "ExecuteTime": {
     "end_time": "2019-05-08T12:43:12.372990Z",
     "start_time": "2019-05-08T12:43:12.367263Z"
    }
   },
   "outputs": [
    {
     "name": "stdout",
     "output_type": "stream",
     "text": [
      "1\n",
      "2\n",
      "3\n"
     ]
    }
   ],
   "source": [
    "def fun(a,b,opt):\n",
    "    print(a)\n",
    "    print(b)\n",
    "    print(opt(a,b))\n",
    "\n",
    "fun(1,2,lambda x,y:x+y)\n"
   ]
  },
  {
   "cell_type": "code",
   "execution_count": 71,
   "metadata": {
    "ExecuteTime": {
     "end_time": "2019-05-08T10:48:53.951003Z",
     "start_time": "2019-05-08T10:48:53.938027Z"
    },
    "collapsed": true
   },
   "outputs": [
    {
     "data": {
      "text/plain": [
       "'\\n特点：\\n1、lambda只是一个表达式，函数体比def简单\\n2、lambda的主体是一个表达式，而不是代码块，仅仅只能在lambda表达式中封装简单的逻辑\\n3、lambda函数有自己的命名空间,且不能访问自由参数列表之外的或全局命名空间的参数\\n4、虽然lambda是一个表达式且看起来只能写一行，与C和C++内联函数不同。\\n\\n\\n注意：\\nLambda函数能接收任何数量的参数但只能返回一个表达式的值\\n匿名函数不能直接调用print，因为lambda需要一个表达式\\n'"
      ]
     },
     "execution_count": 71,
     "metadata": {},
     "output_type": "execute_result"
    }
   ],
   "source": [
    "\"\"\"\n",
    "特点：\n",
    "1、lambda只是一个表达式，函数体比def简单\n",
    "2、lambda的主体是一个表达式，而不是代码块，仅仅只能在lambda表达式中封装简单的逻辑\n",
    "3、lambda函数有自己的命名空间,且不能访问自由参数列表之外的或全局命名空间的参数\n",
    "4、虽然lambda是一个表达式且看起来只能写一行，与C和C++内联函数不同。\n",
    "\n",
    "\n",
    "注意：\n",
    "Lambda函数能接收任何数量的参数但只能返回一个表达式的值\n",
    "匿名函数不能直接调用print，因为lambda需要一个表达式\n",
    "\"\"\""
   ]
  },
  {
   "cell_type": "markdown",
   "metadata": {},
   "source": [
    "#### 回调函数\n",
    "\n",
    "定义：\n",
    "\n",
    "回调函数就是一个通过函数指针调用的函数。如果你把函数的指针（地址）作为参数传递给另一个函数，当这个指针被用来调用其所指向的函数时，\n",
    "\n",
    "我们就说这是回调函数。回调函数不是由该函数的实现方直接调用，而是在特定的事件或条件发生时由另外的一方调用的，用于对该事件或条件进行\n",
    "\n",
    "响应"
   ]
  },
  {
   "cell_type": "code",
   "execution_count": null,
   "metadata": {},
   "outputs": [],
   "source": [
    "def double(x):\n",
    "    return x*2\n",
    "\n",
    "def quadruple(x):\n",
    "    return x*4\n",
    "\n",
    "#中间函数\n",
    "def getOddNumber(k,getEvenNUmber):\n",
    "    return 1 + getEvenNUmber(k)\n",
    "\n",
    "def main():\n",
    "    k = 1\n",
    "    i = getOddNumber(k,double)\n",
    "    print(i)\n",
    "    i = getOddNumber(k,quadruple)\n",
    "    print(i)\n",
    "   \n",
    "main()\n"
   ]
  },
  {
   "cell_type": "markdown",
   "metadata": {},
   "source": [
    "### 面向对象"
   ]
  },
  {
   "cell_type": "markdown",
   "metadata": {},
   "source": [
    "#### 面向对象思想\n",
    "\n",
    "面向过程：根据业务逻辑从上到下写代码\n",
    "\n",
    "面向对象：将数据与函数绑定到一起，进行封装，这样能够更快速的开发程序，减少了重复代码的重写过程\n",
    "\n",
    "面向过程编程最易被初学者接受，其往往用一长段代码来实现指定功能，开发过程的思路是将数据与函数按照执行的逻\n",
    "\n",
    "辑顺序组织在一起，数据与函数分开考虑。\n",
    "\n",
    "定义：\n",
    "\n",
    "面向对象(object-oriented ;简称: OO) 至今还没有统一的概念 我这里把它定义为: 按人们 认识客观世界的系\n",
    "\n",
    "统思维方式,采用基于对象(实体) 的概念建立模型,模拟客观世界分析、设 计、实现软件的办法。\n",
    "\n",
    "面向对象编程(Object Oriented Programming-OOP) 是一种解决软件复用的设计和编程方法。 这种方法把软件\n",
    "\n",
    "系统中相近相似的操作逻辑和操作 应用数据、状态,以类的型式描述出来,以对象实例的形式在软件系统中复用,以达\n",
    "\n",
    "到提高软件开发效率的作用。            "
   ]
  },
  {
   "cell_type": "markdown",
   "metadata": {},
   "source": [
    "#### 类和对象\n",
    "\n",
    "面向对象编程的2个非常重要的概念：类和对象\n",
    "\n",
    "对象是面向对象编程的核心，在使用对象的过程中，为了将具有共同特征和行为的一组对象抽象定义，\n",
    "\n",
    "提出了另外一个新的概念——类\n",
    "\n",
    "类就相当于制造飞机时的图纸，用它来进行创建的飞机就相当于对象"
   ]
  },
  {
   "cell_type": "markdown",
   "metadata": {},
   "source": [
    "##### 类\n",
    "\n",
    "具有相似内部状态和运动规律的实体的集合(或统称为抽象)。 \n",
    "\n",
    "具有相同属性和行为事物的统称\n",
    "\n",
    "定义：\n",
    "\n",
    "类是抽象的,在使用的时候通常会找到这个类的一个具体的存在,使用这个具体的存在。一个类可以找到多个对象"
   ]
  },
  {
   "cell_type": "markdown",
   "metadata": {},
   "source": [
    "##### 对象\n",
    "\n",
    "概述：\n",
    "\n",
    "某一个具体事物的存在 ,在现实世界中可以是看得见摸得着的。\n",
    "\n",
    "可以是直接使用的\n",
    "\n",
    "总结：\n",
    "\n",
    "   类和对象之间的关系：\n",
    "   \n",
    "   就像利用玩具的模型来创建多种不同的玩具\n",
    "   \n",
    "   类就是创建对象的模板"
   ]
  },
  {
   "cell_type": "markdown",
   "metadata": {},
   "source": [
    "##### 区分类和对象\n",
    "\n",
    "奔驰汽车 类\n",
    "\n",
    "奔驰smart 类 \n",
    "\n",
    "张三的那辆奔驰smart 对象\n",
    "\n",
    "狗 类\n",
    "\n",
    "大黄狗 类 \n",
    "\n",
    "李四家那只大黄狗 对象 "
   ]
  },
  {
   "cell_type": "markdown",
   "metadata": {},
   "source": [
    "#### 类的设计\n",
    "\n",
    "类(Class) 由3个部分构成\n",
    "\n",
    "    类的名称:类名\n",
    "    类的属性:一组数据\n",
    "    类的方法:允许对进行操作的方法 (行为)\n",
    "\n",
    "<1> 举例：\n",
    "\n",
    "1）人类设计,只关心3样东西:\n",
    "\n",
    "    事物名称(类名):人(Person)\n",
    "    属性:身高(height)、年龄(age)\n",
    "    方法(行为/功能):跑(run)、打架(fight)\n",
    "\n",
    "2）狗类的设计\n",
    "\n",
    "    类名:狗(Dog)\n",
    "    属性:品种 、毛色、性别、名字、 腿儿的数量\n",
    "    方法(行为/功能):叫 、跑、咬人、吃、摇尾巴\n",
    "\n"
   ]
  },
  {
   "cell_type": "markdown",
   "metadata": {},
   "source": [
    "#### 定义类"
   ]
  },
  {
   "cell_type": "code",
   "execution_count": 15,
   "metadata": {
    "ExecuteTime": {
     "end_time": "2019-05-08T13:02:17.866716Z",
     "start_time": "2019-05-08T13:02:17.854442Z"
    }
   },
   "outputs": [
    {
     "data": {
      "text/plain": [
       "'\\n说明：\\n\\n    定义类时有2种：新式类和经典类，上面的Car为经典类，如果是Car(object)则为新式类\\n    类名 的命名规则按照\"大驼峰\"\\n '"
      ]
     },
     "execution_count": 15,
     "metadata": {},
     "output_type": "execute_result"
    }
   ],
   "source": [
    "# 定义类\n",
    "class Car:\n",
    "    # 方法\n",
    "    def getCarInfo(self):\n",
    "        print('车轮子个数:%d, 颜色%s'%(self.wheelNum, self.color))\n",
    "\n",
    "    def move(self):\n",
    "        print(\"车正在移动...\")\n",
    "\"\"\"\n",
    "说明：\n",
    "\n",
    "    定义类时有2种：新式类和经典类，上面的Car为经典类，如果是Car(object)则为新式类\n",
    "    类名 的命名规则按照\"大驼峰\"\n",
    " \"\"\"   "
   ]
  },
  {
   "cell_type": "markdown",
   "metadata": {},
   "source": [
    "#### 对象创建\n",
    "\n",
    "python中，可以根据已经定义的类去创建出一个个对象\n",
    "\n",
    "创建对象的格式为:\n",
    "\n",
    "对象名 = 类名()"
   ]
  },
  {
   "cell_type": "code",
   "execution_count": null,
   "metadata": {},
   "outputs": [],
   "source": [
    "BMW = Car()\n",
    "BMW.move()"
   ]
  },
  {
   "cell_type": "markdown",
   "metadata": {},
   "source": [
    "#### __init__（）\n",
    "想一想:\n",
    "\n",
    "    在上一小节的demo中，我们已经给BMW这个对象添加了2个属性，wheelNum（车的轮胎数量）以及color（车的颜色），试想如果再次创建一个对象的话，肯定也需要进行添加属性，显然这样做很费事，那么有没有办法能够在创建对象的时候，就顺便把车这个对象的属性给设置呢？\n",
    "\n",
    "答:\n",
    "    __init__()方法\n",
    "    \n",
    " 使用方式：\n",
    " \n",
    " def 类名:\n",
    " \n",
    "    #初始化函数，用来完成一些默认的设定\n",
    "    \n",
    "    def __init__():\n",
    "    \n",
    "        pass"
   ]
  },
  {
   "cell_type": "code",
   "execution_count": 16,
   "metadata": {
    "ExecuteTime": {
     "end_time": "2019-05-08T13:07:32.477806Z",
     "start_time": "2019-05-08T13:07:32.468640Z"
    }
   },
   "outputs": [
    {
     "name": "stdout",
     "output_type": "stream",
     "text": [
      "蓝色\n"
     ]
    }
   ],
   "source": [
    "class Car:\n",
    "    def __init__(self):\n",
    "        self.wheelnum = 4\n",
    "        self.color = '蓝色'\n",
    "\n",
    "BMW = Car()\n",
    "print(BMW.color)"
   ]
  },
  {
   "cell_type": "markdown",
   "metadata": {},
   "source": [
    "#### 封装：\n",
    "\n",
    "- 数据封装\n",
    "\n",
    "封装数据的主要原因是：保护隐私-私有属性\n",
    "\n",
    "- 方法封装\n",
    "\n",
    "封装方法的主要原因是：隔离复杂度--函数封装"
   ]
  },
  {
   "cell_type": "code",
   "execution_count": null,
   "metadata": {},
   "outputs": [],
   "source": []
  },
  {
   "cell_type": "markdown",
   "metadata": {},
   "source": [
    "#### 继承\n",
    "\n",
    "继承的概念\n",
    "\n",
    "在现实生活中，继承一般指的是子女继承父辈的财产\n",
    "\n",
    "在程序中，继承描述的是事物之间的所属关系，例如猫和狗都属于动物，程序中便可以描述为猫和狗继承自动物；\n",
    "\n",
    "同理，波斯猫和巴厘猫都继承自猫，而沙皮狗和斑点狗都继承足够，如下如所示：\n",
    "\n",
    "格式：\n",
    "\n",
    "  子类在继承的时候，在定义类时，小括号()中为父类的名字\n",
    "  \n",
    "  父类的属性、方法，会被继承给子类"
   ]
  },
  {
   "cell_type": "markdown",
   "metadata": {},
   "source": [
    "##### 单继承"
   ]
  },
  {
   "cell_type": "code",
   "execution_count": 17,
   "metadata": {
    "ExecuteTime": {
     "end_time": "2019-05-08T13:12:50.783829Z",
     "start_time": "2019-05-08T13:12:50.776254Z"
    }
   },
   "outputs": [
    {
     "name": "stdout",
     "output_type": "stream",
     "text": [
      "bs的名字为:印度猫\n",
      "bs的颜色为:白色\n",
      "印度猫--在吃\n",
      "波斯--在跑\n"
     ]
    }
   ],
   "source": [
    "#单继承\n",
    "# 定义一个父类，如下:\n",
    "class Cat(object):\n",
    "    def __init__(self, name, color=\"白色\"):\n",
    "        self.name = name\n",
    "        self.color = color\n",
    "    def run(self):\n",
    "        print(\"%s--在跑\"%self.name)\n",
    "        \n",
    "# 定义一个子类，继承Cat类如下:\n",
    "class Bosi(Cat):\n",
    "    def setNewName(self, newName):\n",
    "        self.name = newName\n",
    "\n",
    "    def eat(self):\n",
    "        print(\"%s--在吃\"%self.name)\n",
    "\n",
    "\n",
    "bs = Bosi(\"印度猫\")\n",
    "print('bs的名字为:%s'%bs.name)\n",
    "print('bs的颜色为:%s'%bs.color)\n",
    "bs.eat()\n",
    "bs.setNewName('波斯')\n",
    "bs.run()"
   ]
  },
  {
   "cell_type": "code",
   "execution_count": 1,
   "metadata": {
    "ExecuteTime": {
     "end_time": "2019-05-09T03:04:25.507565Z",
     "start_time": "2019-05-09T03:04:25.472582Z"
    }
   },
   "outputs": [
    {
     "name": "stdout",
     "output_type": "stream",
     "text": [
      "白色\n",
      "动物\n",
      "白色\n",
      "------分割线-----\n",
      "黄色\n",
      "小花狗\n",
      "黄色\n"
     ]
    },
    {
     "data": {
      "text/plain": [
       "'\\n总结：\\n    私有的属性，不能通过对象直接访问，但是可以通过方法访问\\n    私有的方法，不能通过对象直接访问\\n    私有的属性、方法，不会被子类继承，也不能被访问\\n    一般情况下，私有的属性、方法都是不对外公布的，往往用来做内部的事情，起到安全的作用\\n'"
      ]
     },
     "execution_count": 1,
     "metadata": {},
     "output_type": "execute_result"
    }
   ],
   "source": [
    "#注意点：设置私有属性\n",
    "class Animal(object):\n",
    "    age = 13\n",
    "\n",
    "    def __init__(self, name='动物', color='白色'):\n",
    "        self.__name = name\n",
    "        self.color = color\n",
    "\n",
    "    def __test(self):\n",
    "        print(self.__name)\n",
    "        print(self.color)\n",
    "\n",
    "    def test(self):\n",
    "        print(self.__name)\n",
    "        print(self.color)\n",
    "\n",
    "class Dog(Animal):\n",
    "    def dogTest1(self):\n",
    "        #print(self.__name) #不能访问到父类的私有属性\n",
    "        print(self.color)\n",
    "\n",
    "    def dogTest2(self):\n",
    "        #self.__test() #不能访问父类中的私有方法\n",
    "        self.test()\n",
    "\n",
    "A = Animal()\n",
    "#print(A.__name) #程序出现异常，不能访问私有属性\n",
    "print(A.color)\n",
    "#A.__test() #程序出现异常，不能访问私有方法\n",
    "A.test()\n",
    "\n",
    "print(\"------分割线-----\")\n",
    "\n",
    "D = Dog(name = \"小花狗\", color = \"黄色\")\n",
    "D.dogTest1()\n",
    "D.dogTest2()\n",
    "\"\"\"\n",
    "总结：\n",
    "    私有的属性，不能通过对象直接访问，但是可以通过方法访问\n",
    "    私有的方法，不能通过对象直接访问\n",
    "    私有的属性、方法，不会被子类继承，也不能被访问\n",
    "    一般情况下，私有的属性、方法都是不对外公布的，往往用来做内部的事情，起到安全的作用\n",
    "\"\"\"    "
   ]
  },
  {
   "cell_type": "markdown",
   "metadata": {},
   "source": [
    "##### 多继承"
   ]
  },
  {
   "cell_type": "code",
   "execution_count": 75,
   "metadata": {
    "ExecuteTime": {
     "end_time": "2019-05-08T11:00:27.403303Z",
     "start_time": "2019-05-08T11:00:27.397236Z"
    },
    "collapsed": true
   },
   "outputs": [
    {
     "name": "stdout",
     "output_type": "stream",
     "text": [
      "----A----\n",
      "----B----\n"
     ]
    }
   ],
   "source": [
    "\"\"\"\n",
    "理解：\n",
    "  骡子是马和驴的杂交品种\n",
    "所谓多继承，即子类有多个父类，并且具有它们的特征  \n",
    "\"\"\"\n",
    "#Python中多继承的格式如下:\n",
    "# 定义一个父类\n",
    "class A:\n",
    "    def printA(self):\n",
    "        print('----A----')\n",
    "\n",
    "# 定义一个父类\n",
    "class B:\n",
    "    def printB(self):\n",
    "        print('----B----')\n",
    "\n",
    "# 定义一个子类，继承自A、B\n",
    "class C(A,B):\n",
    "    @classmethod\n",
    "    @staticmethod\n",
    "    def printC(self):\n",
    "        print('----C----')\n",
    "\n",
    "obj_C = C()\n",
    "obj_C.printA()\n",
    "obj_C.printB()"
   ]
  },
  {
   "cell_type": "markdown",
   "metadata": {},
   "source": [
    "#### 多态\n",
    "\n",
    "多态的概念是应用于Java和C#这一类强类型语言中，而Python崇尚“鸭子类型”。\n",
    "\n",
    "所谓多态：定义时的类型和运行时的类型不一样，此时就成为多态\n",
    "\n",
    "Python伪代码实现Java或C#的多态\n",
    "\n",
    "一个父类有多个子类"
   ]
  },
  {
   "cell_type": "markdown",
   "metadata": {},
   "source": [
    "#### 类属性和实例属性\n",
    "\n",
    "类属性就是类对象所拥有的属性，它被所有类对象的实例对象所共有，\n",
    "\n",
    "在内存中只存在一个副本，这个和C++中类的静态成员变量有点类似。对于公有的类属性，\n",
    "\n",
    "在类外可以通过类对象和实例对象访问"
   ]
  },
  {
   "cell_type": "code",
   "execution_count": 22,
   "metadata": {
    "ExecuteTime": {
     "end_time": "2019-05-08T13:22:48.950590Z",
     "start_time": "2019-05-08T13:22:48.945917Z"
    }
   },
   "outputs": [
    {
     "name": "stdout",
     "output_type": "stream",
     "text": [
      "Tom\n",
      "Tom\n"
     ]
    }
   ],
   "source": [
    "\n",
    "class People(object):\n",
    "    name = 'Tom'\n",
    "    __age = 12\n",
    "    \n",
    "p = People()\n",
    "print(p.name)\n",
    "print(People.name)\n",
    "# print(p.__age)\n",
    "# print(People.__age)\n"
   ]
  },
  {
   "cell_type": "code",
   "execution_count": 28,
   "metadata": {
    "ExecuteTime": {
     "end_time": "2019-05-08T13:26:11.343941Z",
     "start_time": "2019-05-08T13:26:11.332158Z"
    }
   },
   "outputs": [
    {
     "name": "stdout",
     "output_type": "stream",
     "text": [
      "beijing\n",
      "Tom\n",
      "12\n",
      "beijing\n"
     ]
    },
    {
     "ename": "AttributeError",
     "evalue": "type object 'People' has no attribute 'name'",
     "output_type": "error",
     "traceback": [
      "\u001b[0;31m---------------------------------------------------------------------------\u001b[0m",
      "\u001b[0;31mAttributeError\u001b[0m                            Traceback (most recent call last)",
      "\u001b[0;32m<ipython-input-28-070e97214034>\u001b[0m in \u001b[0;36m<module>\u001b[0;34m\u001b[0m\n\u001b[1;32m     11\u001b[0m \u001b[0;34m\u001b[0m\u001b[0m\n\u001b[1;32m     12\u001b[0m \u001b[0mprint\u001b[0m\u001b[0;34m(\u001b[0m\u001b[0mPeople\u001b[0m\u001b[0;34m.\u001b[0m\u001b[0maddress\u001b[0m\u001b[0;34m)\u001b[0m\u001b[0;34m\u001b[0m\u001b[0;34m\u001b[0m\u001b[0m\n\u001b[0;32m---> 13\u001b[0;31m \u001b[0mprint\u001b[0m\u001b[0;34m(\u001b[0m\u001b[0mPeople\u001b[0m\u001b[0;34m.\u001b[0m\u001b[0mname\u001b[0m\u001b[0;34m)\u001b[0m\u001b[0;34m\u001b[0m\u001b[0;34m\u001b[0m\u001b[0m\n\u001b[0m\u001b[1;32m     14\u001b[0m \u001b[0;31m# print(p.age)\u001b[0m\u001b[0;34m\u001b[0m\u001b[0;34m\u001b[0m\u001b[0;34m\u001b[0m\u001b[0m\n\u001b[1;32m     15\u001b[0m \u001b[0;34m\u001b[0m\u001b[0m\n",
      "\u001b[0;31mAttributeError\u001b[0m: type object 'People' has no attribute 'name'"
     ]
    }
   ],
   "source": [
    "class People(object):\n",
    "    address = 'beijing'\n",
    "    def __init__(self):\n",
    "        self.name = 'Tom'\n",
    "        self.age = 12\n",
    "        \n",
    "p = People()\n",
    "print(p.address)\n",
    "print(p.name)\n",
    "print(p.age)\n",
    "\n",
    "print(People.address)\n",
    "print(People.name)\n",
    "# print(p.age)"
   ]
  },
  {
   "cell_type": "markdown",
   "metadata": {},
   "source": [
    "### 模块\n",
    "\n",
    "目前代码比较少，写在一个文件中还体现不出什么缺点，但是随着代码量越来越多，代码就越来越难以维护。\n",
    "\n",
    "为了解决难以维护的问题，我们把很多相似功能的函数分组，分别放到不同的文件中取。\n",
    "\n",
    "这样每个文件所包含的内容相对较少，而且对于每一个文件的大致功能可用用文件名来体现。\n",
    "\n",
    "很多编程语言都是这么来组织代码结构。一个.py文件就是一个模块\n",
    "\n",
    "在Python中有一个概念叫做模块（module），这个和C语言中的头文件以及Java中的包很类似，\n",
    "\n",
    "比如在Python中要调用sin函数，必须用import关键字引入math这个模块，下面就来了解一下Python中的模块。\n",
    "\n",
    "说的通俗点：模块就好比是工具包，要想使用这个工具包中的工具(就好比函数)，就需要导入这个模块\n",
    "\n",
    "\n",
    "优点：\n",
    "\n",
    "- 提高代码的可维护性\n",
    "- 提高了代码的复用度，当一个模块完毕，可以被多个地方引用\n",
    "- 引用其他的模块(内置模块和三方模块和自定义模块)\n",
    "- 避免函数名和变量名的冲突"
   ]
  },
  {
   "cell_type": "code",
   "execution_count": 66,
   "metadata": {
    "ExecuteTime": {
     "end_time": "2019-05-08T09:00:15.660949Z",
     "start_time": "2019-05-08T09:00:15.657490Z"
    }
   },
   "outputs": [],
   "source": [
    "#常见的几种格式\n",
    "import numpy\n",
    "from numpy import abs\n",
    "from numpy import *\n",
    "from random import randrange as rr"
   ]
  },
  {
   "cell_type": "markdown",
   "metadata": {},
   "source": [
    "### 文件操作\n",
    "\n",
    "概述：\n",
    "\n",
    "  常见的txt/avi/html/zip/word等都称之为文件   \n",
    "  \n",
    "文件作用：\n",
    "\n",
    "   存储数据"
   ]
  },
  {
   "cell_type": "markdown",
   "metadata": {},
   "source": [
    "#### 文件打开\n",
    "在python，使用open函数，可以打开一个已经存在的文件，或者创建一个新文件\n",
    "\n",
    "open(文件名，访问模式)\n",
    "\n",
    "示例如下：\n",
    "\n",
    "    f = open('test.txt', 'w')\n",
    "\n",
    "说明:\n",
    "访问模式 \t说明\n",
    "r \t以只读方式打开文件。文件的指针将会放在文件的开头。这是默认模式。\n",
    "\n",
    "w \t打开一个文件只用于写入。如果该文件已存在则将其覆盖。如果该文件不存在，创建新文件。\n",
    "\n",
    "a \t打开一个文件用于追加。如果该文件已存在，文件指针将会放在文件的结尾。也就是说，新的内容将会被写入到\n",
    "\n",
    "已有内容之后。如果该文件不存在，创建新文件进行写入。\n",
    "\n",
    "rb \t以二进制格式打开一个文件用于只读。文件指针将会放在文件的开头。这是默认模式。\n",
    "\n",
    "wb \t以二进制格式打开一个文件只用于写入。如果该文件已存在则将其覆盖。如果该文件不存在，创建新文件。\n",
    "\n",
    "ab \t以二进制格式打开一个文件用于追加。如果该文件已存在，文件指针将会放在文件的结尾。也就是说，\n",
    "\n",
    "新的内容将会被写入到已有内容之后。如果该文件不存在，创建新文件进行写入。\n",
    "\n",
    "r+ \t打开一个文件用于读写。文件指针将会放在文件的开头。\n",
    "\n",
    "w+ \t打开一个文件用于读写。如果该文件已存在则将其覆盖。如果该文件不存在，创建新文件。\n",
    "\n",
    "a+ \t打开一个文件用于读写。如果该文件已存在，文件指针将会放在文件的结尾。文件打开时会是追加模式。\n",
    "\n",
    "如果该文件不存在，创建新文件用于读写。\n",
    "\n",
    "rb+ \t以二进制格式打开一个文件用于读写。文件指针将会放在文件的开头。\n",
    "\n",
    "wb+ \t以二进制格式打开一个文件用于读写。如果该文件已存在则将其覆盖。如果该文件不存在，创建新文件。\n",
    "\n",
    "ab+ \t以二进制格式打开一个文件用于追加。如果该文件已存在，文件指针将会放在文件的结尾。\n",
    "\n",
    "如果该文件不存在，创建新文件用于读写。"
   ]
  },
  {
   "cell_type": "markdown",
   "metadata": {},
   "source": [
    "#### 文件关闭\n",
    "使用函数：\n",
    " close( )"
   ]
  },
  {
   "cell_type": "code",
   "execution_count": 29,
   "metadata": {
    "ExecuteTime": {
     "end_time": "2019-05-08T13:33:24.376381Z",
     "start_time": "2019-05-08T13:33:24.370151Z"
    }
   },
   "outputs": [],
   "source": [
    "#示例如下：\n",
    "# 新建一个文件，文件名为:test.txt\n",
    "f = open('test.txt', 'w')\n",
    "    # 关闭这个文件\n",
    "f.close()"
   ]
  },
  {
   "cell_type": "markdown",
   "metadata": {},
   "source": [
    "#### 文件读写"
   ]
  },
  {
   "cell_type": "code",
   "execution_count": 30,
   "metadata": {
    "ExecuteTime": {
     "end_time": "2019-05-08T13:33:54.188928Z",
     "start_time": "2019-05-08T13:33:54.183615Z"
    }
   },
   "outputs": [
    {
     "data": {
      "text/plain": [
       "'\\n注意：\\n    如果文件不存在那么创建，如果存在那么就先清空，然后写入数据\\n'"
      ]
     },
     "execution_count": 30,
     "metadata": {},
     "output_type": "execute_result"
    }
   ],
   "source": [
    "#写\n",
    "#使用write()可以完成向文件写入数据\n",
    "f = open('test.txt', 'w')\n",
    "f.write('hello world, i am here!')\n",
    "f.close()\n",
    "\"\"\"\n",
    "注意：\n",
    "    如果文件不存在那么创建，如果存在那么就先清空，然后写入数据\n",
    "\"\"\"    "
   ]
  },
  {
   "cell_type": "code",
   "execution_count": 81,
   "metadata": {
    "ExecuteTime": {
     "end_time": "2019-05-08T11:16:29.596550Z",
     "start_time": "2019-05-08T11:16:29.590924Z"
    }
   },
   "outputs": [],
   "source": [
    "#读取内容\n",
    "#1.read()\n",
    "#2.readlines()\n",
    "#3.readline()"
   ]
  },
  {
   "cell_type": "code",
   "execution_count": 33,
   "metadata": {
    "ExecuteTime": {
     "end_time": "2019-05-08T13:37:13.624123Z",
     "start_time": "2019-05-08T13:37:13.610391Z"
    }
   },
   "outputs": [
    {
     "name": "stdout",
     "output_type": "stream",
     "text": [
      "hello\n"
     ]
    }
   ],
   "source": [
    "f = open('test.txt', 'r')\n",
    "content = f.read(5)\n",
    "print(content)\n",
    "f.close()"
   ]
  },
  {
   "cell_type": "markdown",
   "metadata": {},
   "source": [
    "#### 文件定位读写\n",
    "\n",
    "什么是定位？\n",
    "\n",
    "通俗的讲就是找到一个合适的位置\n",
    "\n",
    "在软件开发中文件的读写定为该如何实现？\n",
    "\n",
    "##### 获取当前读写的位置\n",
    "\n",
    "#在读写文件的过程中，如果想知道当前的位置，\n",
    "\n",
    "#可以使用tell()来获取,这里是光标开始的位置\n",
    "\n",
    "##### 定位到某个位置\n",
    "\n",
    "如果在读写文件的过程中，需要从另外一个位置进行操作的话，可以使用seek()"
   ]
  },
  {
   "cell_type": "markdown",
   "metadata": {},
   "source": []
  },
  {
   "cell_type": "markdown",
   "metadata": {},
   "source": [
    "#### 文件重命名\n",
    "\n",
    "os模块中的rename()可以完成对文件的重命名操作\n",
    "\n",
    " 格式： \n",
    " \n",
    " rename(需要修改的文件名, 新的文件名)"
   ]
  },
  {
   "cell_type": "code",
   "execution_count": 34,
   "metadata": {
    "ExecuteTime": {
     "end_time": "2019-05-08T13:39:51.664565Z",
     "start_time": "2019-05-08T13:39:51.661264Z"
    }
   },
   "outputs": [],
   "source": [
    "import os\n",
    "os.rename('test.txt','haht.txt')"
   ]
  },
  {
   "cell_type": "markdown",
   "metadata": {},
   "source": [
    "#### 文件删除\n",
    "\n",
    "概述：os模块中的remove()可以完成对文件的删除操作\n",
    "   \n",
    "格式：\n",
    "\n",
    "remove(待删除的文件名)"
   ]
  },
  {
   "cell_type": "markdown",
   "metadata": {},
   "source": [
    "### 文件夹操作"
   ]
  },
  {
   "cell_type": "markdown",
   "metadata": {},
   "source": [
    "#### 创建文件夹\n",
    "\n",
    "使用os模块中的mkdir()函数\n",
    "\n",
    "格式：\n",
    "\n",
    "   mkdir(str)"
   ]
  },
  {
   "cell_type": "markdown",
   "metadata": {},
   "source": [
    "#### 获取当前目录\n",
    "\n",
    "使用os模块中的getcwd()函数\n",
    "\n",
    "格式：\n",
    "   getcwd()"
   ]
  },
  {
   "cell_type": "markdown",
   "metadata": {},
   "source": [
    "#### 获取目录列表\n",
    "\n",
    "使用os模块中的listdir()函数\n",
    "\n",
    "格式：\n",
    "   listdir()"
   ]
  },
  {
   "cell_type": "markdown",
   "metadata": {},
   "source": [
    "#### 删除文件夹\n",
    "\n",
    "使用os模块中的rmdir()函数\n",
    "  \n",
    "rmdir(str)--->str:表示需要删除的文件夹名称"
   ]
  },
  {
   "cell_type": "markdown",
   "metadata": {},
   "source": [
    "### 异常\n"
   ]
  },
  {
   "cell_type": "markdown",
   "metadata": {},
   "source": [
    "#### 异常的处理\n",
    "\n",
    "当出现异常情况时改如何处理？\n",
    "\n",
    "   捕获异常\n",
    "   \n",
    "捕获异常的基本格式：\n",
    "\n",
    "   try...except..."
   ]
  },
  {
   "cell_type": "markdown",
   "metadata": {},
   "source": [
    "#### else\n",
    "\n",
    "咱们应该对else并不陌生，在if中，它的作用是当条件不满足时执行的实行；\n",
    "\n",
    "同样在try...except...中也是如此，即如果没有捕获到异常，那么就执行else中的事情\n",
    "\n",
    "\n"
   ]
  },
  {
   "cell_type": "markdown",
   "metadata": {},
   "source": [
    "#### try...finally...\n",
    "\n",
    "try...finally...语句用来表达这样的情况：\n",
    "\n",
    "在程序中，如果一个段代码必须要执行，即无论异常是否产生都要执行，那么此时就需要使用finally。\n",
    "\n",
    "比如文件关闭，释放锁，把数据库连接返还给连接池等"
   ]
  },
  {
   "cell_type": "markdown",
   "metadata": {},
   "source": [
    "#### 自定义异常\n",
    "\n",
    "你可以用raise语句来引发一个异常"
   ]
  },
  {
   "cell_type": "code",
   "execution_count": 42,
   "metadata": {
    "ExecuteTime": {
     "end_time": "2019-05-08T13:53:01.293384Z",
     "start_time": "2019-05-08T13:52:58.380486Z"
    }
   },
   "outputs": [
    {
     "name": "stdout",
     "output_type": "stream",
     "text": [
      "请输入--->hw\n"
     ]
    },
    {
     "ename": "AttributeError",
     "evalue": "'ShortInputException' object has no attribute 'length'",
     "output_type": "error",
     "traceback": [
      "\u001b[0;31m---------------------------------------------------------------------------\u001b[0m",
      "\u001b[0;31mShortInputException\u001b[0m                       Traceback (most recent call last)",
      "\u001b[0;32m<ipython-input-42-45bb45058152>\u001b[0m in \u001b[0;36mmain\u001b[0;34m()\u001b[0m\n\u001b[1;32m      9\u001b[0m         \u001b[0;32mif\u001b[0m \u001b[0mlen\u001b[0m\u001b[0;34m(\u001b[0m\u001b[0ms\u001b[0m\u001b[0;34m)\u001b[0m \u001b[0;34m<\u001b[0m \u001b[0;36m3\u001b[0m\u001b[0;34m:\u001b[0m\u001b[0;34m\u001b[0m\u001b[0;34m\u001b[0m\u001b[0m\n\u001b[0;32m---> 10\u001b[0;31m             \u001b[0;32mraise\u001b[0m \u001b[0mShortInputException\u001b[0m\u001b[0;34m(\u001b[0m\u001b[0mlen\u001b[0m\u001b[0;34m(\u001b[0m\u001b[0ms\u001b[0m\u001b[0;34m)\u001b[0m\u001b[0;34m,\u001b[0m\u001b[0;36m3\u001b[0m\u001b[0;34m)\u001b[0m\u001b[0;34m\u001b[0m\u001b[0;34m\u001b[0m\u001b[0m\n\u001b[0m\u001b[1;32m     11\u001b[0m \u001b[0;34m\u001b[0m\u001b[0m\n",
      "\u001b[0;31mShortInputException\u001b[0m: (2, 3)",
      "\nDuring handling of the above exception, another exception occurred:\n",
      "\u001b[0;31mAttributeError\u001b[0m                            Traceback (most recent call last)",
      "\u001b[0;32m<ipython-input-42-45bb45058152>\u001b[0m in \u001b[0;36m<module>\u001b[0;34m\u001b[0m\n\u001b[1;32m     16\u001b[0m         \u001b[0mprint\u001b[0m\u001b[0;34m(\u001b[0m\u001b[0;34m'没有异常发生'\u001b[0m\u001b[0;34m)\u001b[0m\u001b[0;34m\u001b[0m\u001b[0;34m\u001b[0m\u001b[0m\n\u001b[1;32m     17\u001b[0m \u001b[0;34m\u001b[0m\u001b[0m\n\u001b[0;32m---> 18\u001b[0;31m \u001b[0mmain\u001b[0m\u001b[0;34m(\u001b[0m\u001b[0;34m)\u001b[0m\u001b[0;34m\u001b[0m\u001b[0;34m\u001b[0m\u001b[0m\n\u001b[0m\u001b[1;32m     19\u001b[0m \u001b[0;34m\u001b[0m\u001b[0m\n\u001b[1;32m     20\u001b[0m \u001b[0;34m\u001b[0m\u001b[0m\n",
      "\u001b[0;32m<ipython-input-42-45bb45058152>\u001b[0m in \u001b[0;36mmain\u001b[0;34m()\u001b[0m\n\u001b[1;32m     11\u001b[0m \u001b[0;34m\u001b[0m\u001b[0m\n\u001b[1;32m     12\u001b[0m     \u001b[0;32mexcept\u001b[0m \u001b[0mShortInputException\u001b[0m \u001b[0;32mas\u001b[0m \u001b[0mresult\u001b[0m\u001b[0;34m:\u001b[0m\u001b[0;34m\u001b[0m\u001b[0;34m\u001b[0m\u001b[0m\n\u001b[0;32m---> 13\u001b[0;31m         \u001b[0mprint\u001b[0m\u001b[0;34m(\u001b[0m\u001b[0mresult\u001b[0m\u001b[0;34m.\u001b[0m\u001b[0mlength\u001b[0m\u001b[0;34m,\u001b[0m\u001b[0mresult\u001b[0m\u001b[0;34m.\u001b[0m\u001b[0matleast\u001b[0m\u001b[0;34m)\u001b[0m\u001b[0;34m\u001b[0m\u001b[0;34m\u001b[0m\u001b[0m\n\u001b[0m\u001b[1;32m     14\u001b[0m \u001b[0;34m\u001b[0m\u001b[0m\n\u001b[1;32m     15\u001b[0m     \u001b[0;32melse\u001b[0m\u001b[0;34m:\u001b[0m\u001b[0;34m\u001b[0m\u001b[0;34m\u001b[0m\u001b[0m\n",
      "\u001b[0;31mAttributeError\u001b[0m: 'ShortInputException' object has no attribute 'length'"
     ]
    }
   ],
   "source": [
    "class ShortInputException(Exception):\n",
    "    def __int__(self,length,atleast):\n",
    "        self.length = length\n",
    "        self.atleast = atleast\n",
    "\n",
    "def main():\n",
    "    try:\n",
    "        s = input('请输入--->')\n",
    "        if len(s) < 3:\n",
    "            raise ShortInputException(len(s),3)\n",
    "            \n",
    "    except ShortInputException as result:\n",
    "        print(result.length,result.atleast)\n",
    "        \n",
    "    else:\n",
    "        print('没有异常发生')\n",
    "    \n",
    "main()\n",
    "\n",
    "\n",
    "\n"
   ]
  },
  {
   "cell_type": "markdown",
   "metadata": {},
   "source": [
    "### 生成器\n",
    "\n",
    "通过列表生成式，我们可以直接创建一个列表。但是，受到内存限制，列表容量肯定是有限的。\n",
    "\n",
    "而且，创建一个包含100万个元素的列表，不仅占用很大的存储空间，如果我们仅仅需要访问前面几个元素，\n",
    "\n",
    "那后面绝大多数元素占用的空间都白白浪费了。\n",
    "\n",
    "所以，如果列表元素可以按照某种算法推算出来，那我们是否可以在循环的过程中不断推算出后续的元素呢？\n",
    "\n",
    "这样就不必创建完整的list，从而节省大量的空间。在Python中，这种一边循环一边计算的机制，\n",
    "\n",
    "称为生成器：generator。"
   ]
  },
  {
   "cell_type": "markdown",
   "metadata": {},
   "source": [
    "#### 创建生成器"
   ]
  },
  {
   "cell_type": "markdown",
   "metadata": {},
   "source": [
    "### 迭代器\n",
    "\n",
    "迭代:\n",
    "\n",
    "   访问集合元素的一种方式。\n",
    "\n",
    "迭代器:\n",
    "\n",
    "   是一个可以记住遍历的位置的对象。\n",
    "    \n",
    "   迭代器对象从集合的第一个元素开始访问，直到所有的元素被访问完结束。\n",
    "\n",
    "迭代器的特点：\n",
    "\n",
    "迭代器只能往前不会后退。"
   ]
  },
  {
   "cell_type": "markdown",
   "metadata": {},
   "source": [
    "#### 迭代对象\n",
    "\n",
    "以直接作用于 for 循环的数据类型有以下几种：\n",
    "\n",
    "一类是集合数据类型，如 list 、 tuple 、 dict 、 set 、 str 等；\n",
    "\n",
    "一类是 generator ，包括生成器和带 yield 的generator function。\n",
    "\n",
    "这些可以直接作用于 for 循环的对象统称为可迭代对象： Iterable 。"
   ]
  },
  {
   "cell_type": "code",
   "execution_count": 43,
   "metadata": {
    "ExecuteTime": {
     "end_time": "2019-05-08T14:00:31.950573Z",
     "start_time": "2019-05-08T14:00:31.944134Z"
    }
   },
   "outputs": [
    {
     "name": "stdout",
     "output_type": "stream",
     "text": [
      "True\n",
      "True\n",
      "True\n",
      "False\n",
      "True\n"
     ]
    }
   ],
   "source": [
    "from collections import Iterable\n",
    "a = isinstance([],Iterable)\n",
    "b = isinstance({},Iterable)\n",
    "c = isinstance('abc',Iterable)\n",
    "d = isinstance(100,Iterable)\n",
    "e = isinstance((x for x in range(10)),Iterable)\n",
    "\n",
    "print(a)\n",
    "print(b)\n",
    "print(c)\n",
    "print(d)\n",
    "print(e)\n",
    "\n"
   ]
  },
  {
   "cell_type": "code",
   "execution_count": 45,
   "metadata": {
    "ExecuteTime": {
     "end_time": "2019-05-08T14:02:51.785840Z",
     "start_time": "2019-05-08T14:02:51.778971Z"
    }
   },
   "outputs": [
    {
     "name": "stdout",
     "output_type": "stream",
     "text": [
      "True\n",
      "False\n",
      "False\n",
      "False\n",
      "True\n"
     ]
    }
   ],
   "source": [
    "from collections import Iterator\n",
    "a = isinstance(iter([]),Iterator)\n",
    "b = isinstance({},Iterator)\n",
    "c = isinstance('abc',Iterator)\n",
    "d = isinstance(100,Iterator)\n",
    "e = isinstance((x for x in range(10)),Iterator)\n",
    "\n",
    "print(a)\n",
    "print(b)\n",
    "print(c)\n",
    "print(d)\n",
    "print(e)"
   ]
  },
  {
   "cell_type": "markdown",
   "metadata": {},
   "source": [
    "#### 迭代器使用"
   ]
  },
  {
   "cell_type": "markdown",
   "metadata": {},
   "source": [
    "#### iter()函数"
   ]
  },
  {
   "cell_type": "code",
   "execution_count": 82,
   "metadata": {
    "ExecuteTime": {
     "end_time": "2019-05-08T11:20:53.209981Z",
     "start_time": "2019-05-08T11:20:53.205573Z"
    },
    "collapsed": true
   },
   "outputs": [
    {
     "data": {
      "text/plain": [
       "'\\n1.凡是可作用于 for 循环的对象都是 Iterable 类型；\\n2.凡是可作用于 next() 函数的对象都是 Iterator 类型\\n3.集合数据类型如 list 、 dict 、 str 等是 Iterable 但不是 Iterator ，\\n不过可以通过 iter() 函数获得一个 Iterator 对象。\\n'"
      ]
     },
     "execution_count": 82,
     "metadata": {},
     "output_type": "execute_result"
    }
   ],
   "source": [
    "\"\"\"\n",
    "1.凡是可作用于 for 循环的对象都是 Iterable 类型；\n",
    "2.凡是可作用于 next() 函数的对象都是 Iterator 类型\n",
    "3.集合数据类型如 list 、 dict 、 str 等是 Iterable 但不是 Iterator ，\n",
    "不过可以通过 iter() 函数获得一个 Iterator 对象。\n",
    "\"\"\""
   ]
  },
  {
   "cell_type": "markdown",
   "metadata": {},
   "source": [
    "### 装饰器\n",
    "装饰器是程序开发中经常会用到的一个功能，用好了装饰器，开发效率如虎添翼，所以这也是Python面试中必问的问题，但对于好多初次接触这个知识的人来讲，这个功能有点绕，自学时直接绕过去了，然后面试问到了就挂了，因为装饰器是程序开发的基础知识，这个都不会，别跟人家说你会Python, 看了下面的文章，保证你学会装饰器。"
   ]
  },
  {
   "cell_type": "code",
   "execution_count": 47,
   "metadata": {
    "ExecuteTime": {
     "end_time": "2019-05-08T14:05:39.272376Z",
     "start_time": "2019-05-08T14:05:39.264823Z"
    }
   },
   "outputs": [
    {
     "name": "stdout",
     "output_type": "stream",
     "text": [
      "foo\n"
     ]
    },
    {
     "data": {
      "text/plain": [
       "2"
      ]
     },
     "execution_count": 47,
     "metadata": {},
     "output_type": "execute_result"
    }
   ],
   "source": [
    "#首先要先搞明白下面的代码：\n",
    "\n",
    "#第一波 \n",
    "def foo():\n",
    "    print('foo')\n",
    "\n",
    "foo     #表示是函数\n",
    "foo()   #表示执行foo函数\n",
    "\n",
    "#第二波\n",
    "def foo():\n",
    "    print('foo')\n",
    "\n",
    "foo = lambda x: x + 1\n",
    "\n",
    "foo(1)   # 执行下面的lambda表达式，而不再是原来的foo函数，因为foo这个名字被重新指向了另外一个匿名函数"
   ]
  },
  {
   "cell_type": "code",
   "execution_count": 28,
   "metadata": {
    "ExecuteTime": {
     "end_time": "2019-05-08T06:40:17.167991Z",
     "start_time": "2019-05-08T06:40:17.159588Z"
    }
   },
   "outputs": [
    {
     "name": "stdout",
     "output_type": "stream",
     "text": [
      "*******************\n",
      "haha\n"
     ]
    }
   ],
   "source": [
    "#定义：\n",
    "#是一个闭包，把一个函数当做参数,返回一个替代版的函数，本质上就是一个返回函数的函数\n",
    "\n",
    "#简单的装饰器\n",
    "def func1():\n",
    "    print(\"haha\")\n",
    "\n",
    "def outer(func):\n",
    "    def inner():\n",
    "        print(\"*******************\")\n",
    "        func()\n",
    "    return inner\n",
    "#f是函数func1的加强版本\n",
    "f = outer(func1)\n",
    "f()"
   ]
  },
  {
   "cell_type": "code",
   "execution_count": 84,
   "metadata": {
    "ExecuteTime": {
     "end_time": "2019-05-08T11:24:28.670031Z",
     "start_time": "2019-05-08T11:24:28.654118Z"
    },
    "collapsed": true
   },
   "outputs": [
    {
     "name": "stdout",
     "output_type": "stream",
     "text": [
      "f1\n",
      "f2\n",
      "f3\n",
      "f4\n",
      "f1\n",
      "f2\n",
      "f3\n",
      "f4\n",
      "f1\n",
      "f2\n",
      "f3\n",
      "f4\n",
      "f1\n",
      "f2\n",
      "f3\n",
      "f4\n"
     ]
    }
   ],
   "source": [
    "#如何理解装饰器\n",
    "#需求：\n",
    "#一个企业有N个业务部门，1个基础平台部门，基础平台负责提供底层的功能，\n",
    "############### 基础平台提供的功能如下 ###############\n",
    "def f1():\n",
    "    print('f1')\n",
    "\n",
    "def f2():\n",
    "    print('f2')\n",
    "\n",
    "def f3():\n",
    "    print('f3')\n",
    "\n",
    "def f4():\n",
    "    print('f4')\n",
    "\n",
    "############### 业务部门A 调用基础平台提供的功能 ###############\n",
    "\n",
    "f1()\n",
    "f2()\n",
    "f3()\n",
    "f4()\n",
    "\n",
    "############### 业务部门B 调用基础平台提供的功能 ###############\n",
    "\n",
    "f1()\n",
    "f2()\n",
    "f3()\n",
    "f4()\n",
    "\n",
    "#第一版\n",
    "############### 基础平台提供的功能如下 ############### \n",
    "\n",
    "def f1():\n",
    "    # 验证1\n",
    "    # 验证2\n",
    "    # 验证3\n",
    "    print('f1')\n",
    "\n",
    "def f2():\n",
    "    # 验证1\n",
    "    # 验证2\n",
    "    # 验证3\n",
    "    print('f2')\n",
    "\n",
    "def f3():\n",
    "    # 验证1\n",
    "    # 验证2\n",
    "    # 验证3\n",
    "    print('f3')\n",
    "\n",
    "def f4():\n",
    "    # 验证1\n",
    "    # 验证2\n",
    "    # 验证3\n",
    "    print('f4')\n",
    "\n",
    "############### 业务部门不变 ############### \n",
    "### 业务部门A 调用基础平台提供的功能### \n",
    "\n",
    "f1()\n",
    "f2()\n",
    "f3()\n",
    "f4()\n",
    "\n",
    "### 业务部门B 调用基础平台提供的功能 ### \n",
    "\n",
    "f1()\n",
    "f2()\n",
    "f3()\n",
    "f4()\n",
    "\n",
    "\n",
    "#第二版\n",
    "############### 基础平台提供的功能如下 ############### \n",
    "\n",
    "def check_login():\n",
    "    # 验证1\n",
    "    # 验证2\n",
    "    # 验证3\n",
    "    pass\n",
    "\n",
    "\n",
    "def f1():\n",
    "\n",
    "    check_login()\n",
    "\n",
    "    print('f1')\n",
    "\n",
    "def f2():\n",
    "\n",
    "    check_login()\n",
    "\n",
    "    print('f2')\n",
    "\n",
    "def f3():\n",
    "\n",
    "    check_login()\n",
    "\n",
    "    print('f3')\n",
    "\n",
    "def f4():\n",
    "\n",
    "    check_login()\n",
    "\n",
    "    print('f4')\n",
    "\n",
    "    \n",
    "#第三版\n",
    "def w1(func):\n",
    "    def inner():\n",
    "        # 验证1\n",
    "        # 验证2\n",
    "        # 验证3\n",
    "        func()\n",
    "    return inner\n",
    "\n",
    "@w1\n",
    "def f1():\n",
    "    print('f1')\n",
    "@w1\n",
    "def f2():\n",
    "    print('f2')\n",
    "@w1\n",
    "def f3():\n",
    "    print('f3')\n",
    "@w1\n",
    "def f4():\n",
    "    print('f4')\n",
    "\n",
    "    \n"
   ]
  },
  {
   "cell_type": "code",
   "execution_count": null,
   "metadata": {},
   "outputs": [],
   "source": []
  },
  {
   "cell_type": "code",
   "execution_count": 48,
   "metadata": {
    "ExecuteTime": {
     "end_time": "2019-05-08T14:12:37.052965Z",
     "start_time": "2019-05-08T14:12:37.046949Z"
    }
   },
   "outputs": [
    {
     "name": "stdout",
     "output_type": "stream",
     "text": [
      "<b>hello world-1</b>\n",
      "<i>hello world-2</i>\n",
      "<b><i>hello world-3</i></b>\n"
     ]
    }
   ],
   "source": [
    "#装饰器的基本使用\n",
    "\n",
    "#定义函数：完成包裹数据\n",
    "def makeBold(fn):\n",
    "    def wrapped():\n",
    "        return \"<b>\" + fn() + \"</b>\"\n",
    "    return wrapped\n",
    "\n",
    "#定义函数：完成包裹数据\n",
    "def makeItalic(fn):\n",
    "    def wrapped():\n",
    "        return \"<i>\" + fn() + \"</i>\"\n",
    "    return wrapped\n",
    "\n",
    "@makeBold\n",
    "def test1():\n",
    "    return \"hello world-1\"\n",
    "\n",
    "@makeItalic\n",
    "def test2():\n",
    "    return \"hello world-2\"\n",
    "\n",
    "@makeBold\n",
    "@makeItalic\n",
    "def test3():\n",
    "    return \"hello world-3\"\n",
    "\n",
    "print(test1())\n",
    "print(test2())\n",
    "print(test3())"
   ]
  },
  {
   "cell_type": "code",
   "execution_count": null,
   "metadata": {},
   "outputs": [],
   "source": []
  }
 ],
 "metadata": {
  "kernelspec": {
   "display_name": "Python 3",
   "language": "python",
   "name": "python3"
  },
  "language_info": {
   "codemirror_mode": {
    "name": "ipython",
    "version": 3
   },
   "file_extension": ".py",
   "mimetype": "text/x-python",
   "name": "python",
   "nbconvert_exporter": "python",
   "pygments_lexer": "ipython3",
   "version": "3.7.2"
  },
  "latex_envs": {
   "LaTeX_envs_menu_present": true,
   "autoclose": false,
   "autocomplete": true,
   "bibliofile": "biblio.bib",
   "cite_by": "apalike",
   "current_citInitial": 1,
   "eqLabelWithNumbers": true,
   "eqNumInitial": 1,
   "hotkeys": {
    "equation": "Ctrl-E",
    "itemize": "Ctrl-I"
   },
   "labels_anchors": false,
   "latex_user_defs": false,
   "report_style_numbering": false,
   "user_envs_cfg": false
  },
  "toc": {
   "base_numbering": 1,
   "nav_menu": {},
   "number_sections": true,
   "sideBar": true,
   "skip_h1_title": false,
   "title_cell": "Table of Contents",
   "title_sidebar": "Contents",
   "toc_cell": false,
   "toc_position": {
    "height": "calc(100% - 180px)",
    "left": "10px",
    "top": "150px",
    "width": "337px"
   },
   "toc_section_display": true,
   "toc_window_display": false
  },
  "varInspector": {
   "cols": {
    "lenName": 16,
    "lenType": 16,
    "lenVar": 40
   },
   "kernels_config": {
    "python": {
     "delete_cmd_postfix": "",
     "delete_cmd_prefix": "del ",
     "library": "var_list.py",
     "varRefreshCmd": "print(var_dic_list())"
    },
    "r": {
     "delete_cmd_postfix": ") ",
     "delete_cmd_prefix": "rm(",
     "library": "var_list.r",
     "varRefreshCmd": "cat(var_dic_list()) "
    }
   },
   "types_to_exclude": [
    "module",
    "function",
    "builtin_function_or_method",
    "instance",
    "_Feature"
   ],
   "window_display": false
  }
 },
 "nbformat": 4,
 "nbformat_minor": 2
}
