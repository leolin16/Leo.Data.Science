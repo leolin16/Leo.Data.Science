{
 "cells": [
  {
   "cell_type": "markdown",
   "metadata": {},
   "source": [
    "**第一步：收集和清洗数据**\n",
    "\n",
    "数据链接：https://grouplens.org/datasets/movielens/\n",
    "\n",
    "下载文件：ml-latest-small"
   ]
  },
  {
   "cell_type": "code",
   "execution_count": 1,
   "metadata": {
    "ExecuteTime": {
     "end_time": "2019-09-02T06:44:03.827486Z",
     "start_time": "2019-09-02T06:43:05.741477Z"
    },
    "code_folding": []
   },
   "outputs": [
    {
     "data": {
      "text/html": [
       "<div>\n",
       "<style scoped>\n",
       "    .dataframe tbody tr th:only-of-type {\n",
       "        vertical-align: middle;\n",
       "    }\n",
       "\n",
       "    .dataframe tbody tr th {\n",
       "        vertical-align: top;\n",
       "    }\n",
       "\n",
       "    .dataframe thead th {\n",
       "        text-align: right;\n",
       "    }\n",
       "</style>\n",
       "<table border=\"1\" class=\"dataframe\">\n",
       "  <thead>\n",
       "    <tr style=\"text-align: right;\">\n",
       "      <th></th>\n",
       "      <th>userId</th>\n",
       "      <th>movieId</th>\n",
       "      <th>rating</th>\n",
       "      <th>timestamp</th>\n",
       "    </tr>\n",
       "  </thead>\n",
       "  <tbody>\n",
       "    <tr>\n",
       "      <td>100831</td>\n",
       "      <td>610</td>\n",
       "      <td>166534</td>\n",
       "      <td>4.0</td>\n",
       "      <td>1493848402</td>\n",
       "    </tr>\n",
       "    <tr>\n",
       "      <td>100832</td>\n",
       "      <td>610</td>\n",
       "      <td>168248</td>\n",
       "      <td>5.0</td>\n",
       "      <td>1493850091</td>\n",
       "    </tr>\n",
       "    <tr>\n",
       "      <td>100833</td>\n",
       "      <td>610</td>\n",
       "      <td>168250</td>\n",
       "      <td>5.0</td>\n",
       "      <td>1494273047</td>\n",
       "    </tr>\n",
       "    <tr>\n",
       "      <td>100834</td>\n",
       "      <td>610</td>\n",
       "      <td>168252</td>\n",
       "      <td>5.0</td>\n",
       "      <td>1493846352</td>\n",
       "    </tr>\n",
       "    <tr>\n",
       "      <td>100835</td>\n",
       "      <td>610</td>\n",
       "      <td>170875</td>\n",
       "      <td>3.0</td>\n",
       "      <td>1493846415</td>\n",
       "    </tr>\n",
       "  </tbody>\n",
       "</table>\n",
       "</div>"
      ],
      "text/plain": [
       "        userId  movieId  rating   timestamp\n",
       "100831     610   166534     4.0  1493848402\n",
       "100832     610   168248     5.0  1493850091\n",
       "100833     610   168250     5.0  1494273047\n",
       "100834     610   168252     5.0  1493846352\n",
       "100835     610   170875     3.0  1493846415"
      ]
     },
     "execution_count": 1,
     "metadata": {},
     "output_type": "execute_result"
    }
   ],
   "source": [
    "import pandas as pd\n",
    "import numpy as np\n",
    "import tensorflow as tf\n",
    "\n",
    "ratings_df = pd.read_csv('./ml-latest-small/ratings.csv')\n",
    "ratings_df.tail()\n",
    "#tail命令用于输入文件中的尾部内容。tail命令默认在屏幕上显示指定文件的末尾5行。"
   ]
  },
  {
   "cell_type": "code",
   "execution_count": 2,
   "metadata": {
    "ExecuteTime": {
     "end_time": "2019-09-02T06:44:04.021621Z",
     "start_time": "2019-09-02T06:44:03.829487Z"
    },
    "scrolled": true
   },
   "outputs": [
    {
     "data": {
      "text/html": [
       "<div>\n",
       "<style scoped>\n",
       "    .dataframe tbody tr th:only-of-type {\n",
       "        vertical-align: middle;\n",
       "    }\n",
       "\n",
       "    .dataframe tbody tr th {\n",
       "        vertical-align: top;\n",
       "    }\n",
       "\n",
       "    .dataframe thead th {\n",
       "        text-align: right;\n",
       "    }\n",
       "</style>\n",
       "<table border=\"1\" class=\"dataframe\">\n",
       "  <thead>\n",
       "    <tr style=\"text-align: right;\">\n",
       "      <th></th>\n",
       "      <th>movieId</th>\n",
       "      <th>title</th>\n",
       "      <th>genres</th>\n",
       "    </tr>\n",
       "  </thead>\n",
       "  <tbody>\n",
       "    <tr>\n",
       "      <td>9737</td>\n",
       "      <td>193581</td>\n",
       "      <td>Black Butler: Book of the Atlantic (2017)</td>\n",
       "      <td>Action|Animation|Comedy|Fantasy</td>\n",
       "    </tr>\n",
       "    <tr>\n",
       "      <td>9738</td>\n",
       "      <td>193583</td>\n",
       "      <td>No Game No Life: Zero (2017)</td>\n",
       "      <td>Animation|Comedy|Fantasy</td>\n",
       "    </tr>\n",
       "    <tr>\n",
       "      <td>9739</td>\n",
       "      <td>193585</td>\n",
       "      <td>Flint (2017)</td>\n",
       "      <td>Drama</td>\n",
       "    </tr>\n",
       "    <tr>\n",
       "      <td>9740</td>\n",
       "      <td>193587</td>\n",
       "      <td>Bungo Stray Dogs: Dead Apple (2018)</td>\n",
       "      <td>Action|Animation</td>\n",
       "    </tr>\n",
       "    <tr>\n",
       "      <td>9741</td>\n",
       "      <td>193609</td>\n",
       "      <td>Andrew Dice Clay: Dice Rules (1991)</td>\n",
       "      <td>Comedy</td>\n",
       "    </tr>\n",
       "  </tbody>\n",
       "</table>\n",
       "</div>"
      ],
      "text/plain": [
       "      movieId                                      title  \\\n",
       "9737   193581  Black Butler: Book of the Atlantic (2017)   \n",
       "9738   193583               No Game No Life: Zero (2017)   \n",
       "9739   193585                               Flint (2017)   \n",
       "9740   193587        Bungo Stray Dogs: Dead Apple (2018)   \n",
       "9741   193609        Andrew Dice Clay: Dice Rules (1991)   \n",
       "\n",
       "                               genres  \n",
       "9737  Action|Animation|Comedy|Fantasy  \n",
       "9738         Animation|Comedy|Fantasy  \n",
       "9739                            Drama  \n",
       "9740                 Action|Animation  \n",
       "9741                           Comedy  "
      ]
     },
     "execution_count": 2,
     "metadata": {},
     "output_type": "execute_result"
    }
   ],
   "source": [
    "movies_df = pd.read_csv('./ml-latest-small/movies.csv')\n",
    "movies_df.tail()"
   ]
  },
  {
   "cell_type": "code",
   "execution_count": 3,
   "metadata": {
    "ExecuteTime": {
     "end_time": "2019-09-02T06:44:04.213756Z",
     "start_time": "2019-09-02T06:44:04.024623Z"
    }
   },
   "outputs": [
    {
     "data": {
      "text/html": [
       "<div>\n",
       "<style scoped>\n",
       "    .dataframe tbody tr th:only-of-type {\n",
       "        vertical-align: middle;\n",
       "    }\n",
       "\n",
       "    .dataframe tbody tr th {\n",
       "        vertical-align: top;\n",
       "    }\n",
       "\n",
       "    .dataframe thead th {\n",
       "        text-align: right;\n",
       "    }\n",
       "</style>\n",
       "<table border=\"1\" class=\"dataframe\">\n",
       "  <thead>\n",
       "    <tr style=\"text-align: right;\">\n",
       "      <th></th>\n",
       "      <th>movieId</th>\n",
       "      <th>title</th>\n",
       "      <th>genres</th>\n",
       "      <th>movieRow</th>\n",
       "    </tr>\n",
       "  </thead>\n",
       "  <tbody>\n",
       "    <tr>\n",
       "      <td>9737</td>\n",
       "      <td>193581</td>\n",
       "      <td>Black Butler: Book of the Atlantic (2017)</td>\n",
       "      <td>Action|Animation|Comedy|Fantasy</td>\n",
       "      <td>9737</td>\n",
       "    </tr>\n",
       "    <tr>\n",
       "      <td>9738</td>\n",
       "      <td>193583</td>\n",
       "      <td>No Game No Life: Zero (2017)</td>\n",
       "      <td>Animation|Comedy|Fantasy</td>\n",
       "      <td>9738</td>\n",
       "    </tr>\n",
       "    <tr>\n",
       "      <td>9739</td>\n",
       "      <td>193585</td>\n",
       "      <td>Flint (2017)</td>\n",
       "      <td>Drama</td>\n",
       "      <td>9739</td>\n",
       "    </tr>\n",
       "    <tr>\n",
       "      <td>9740</td>\n",
       "      <td>193587</td>\n",
       "      <td>Bungo Stray Dogs: Dead Apple (2018)</td>\n",
       "      <td>Action|Animation</td>\n",
       "      <td>9740</td>\n",
       "    </tr>\n",
       "    <tr>\n",
       "      <td>9741</td>\n",
       "      <td>193609</td>\n",
       "      <td>Andrew Dice Clay: Dice Rules (1991)</td>\n",
       "      <td>Comedy</td>\n",
       "      <td>9741</td>\n",
       "    </tr>\n",
       "  </tbody>\n",
       "</table>\n",
       "</div>"
      ],
      "text/plain": [
       "      movieId                                      title  \\\n",
       "9737   193581  Black Butler: Book of the Atlantic (2017)   \n",
       "9738   193583               No Game No Life: Zero (2017)   \n",
       "9739   193585                               Flint (2017)   \n",
       "9740   193587        Bungo Stray Dogs: Dead Apple (2018)   \n",
       "9741   193609        Andrew Dice Clay: Dice Rules (1991)   \n",
       "\n",
       "                               genres  movieRow  \n",
       "9737  Action|Animation|Comedy|Fantasy      9737  \n",
       "9738         Animation|Comedy|Fantasy      9738  \n",
       "9739                            Drama      9739  \n",
       "9740                 Action|Animation      9740  \n",
       "9741                           Comedy      9741  "
      ]
     },
     "execution_count": 3,
     "metadata": {},
     "output_type": "execute_result"
    }
   ],
   "source": [
    "movies_df['movieRow'] = movies_df.index\n",
    "#生成一列‘movieRow’，等于索引值index\n",
    "movies_df.tail()"
   ]
  },
  {
   "cell_type": "code",
   "execution_count": 4,
   "metadata": {
    "ExecuteTime": {
     "end_time": "2019-09-02T06:44:04.504960Z",
     "start_time": "2019-09-02T06:44:04.216758Z"
    }
   },
   "outputs": [
    {
     "data": {
      "text/html": [
       "<div>\n",
       "<style scoped>\n",
       "    .dataframe tbody tr th:only-of-type {\n",
       "        vertical-align: middle;\n",
       "    }\n",
       "\n",
       "    .dataframe tbody tr th {\n",
       "        vertical-align: top;\n",
       "    }\n",
       "\n",
       "    .dataframe thead th {\n",
       "        text-align: right;\n",
       "    }\n",
       "</style>\n",
       "<table border=\"1\" class=\"dataframe\">\n",
       "  <thead>\n",
       "    <tr style=\"text-align: right;\">\n",
       "      <th></th>\n",
       "      <th>movieRow</th>\n",
       "      <th>movieId</th>\n",
       "      <th>title</th>\n",
       "    </tr>\n",
       "  </thead>\n",
       "  <tbody>\n",
       "    <tr>\n",
       "      <td>9737</td>\n",
       "      <td>9737</td>\n",
       "      <td>193581</td>\n",
       "      <td>Black Butler: Book of the Atlantic (2017)</td>\n",
       "    </tr>\n",
       "    <tr>\n",
       "      <td>9738</td>\n",
       "      <td>9738</td>\n",
       "      <td>193583</td>\n",
       "      <td>No Game No Life: Zero (2017)</td>\n",
       "    </tr>\n",
       "    <tr>\n",
       "      <td>9739</td>\n",
       "      <td>9739</td>\n",
       "      <td>193585</td>\n",
       "      <td>Flint (2017)</td>\n",
       "    </tr>\n",
       "    <tr>\n",
       "      <td>9740</td>\n",
       "      <td>9740</td>\n",
       "      <td>193587</td>\n",
       "      <td>Bungo Stray Dogs: Dead Apple (2018)</td>\n",
       "    </tr>\n",
       "    <tr>\n",
       "      <td>9741</td>\n",
       "      <td>9741</td>\n",
       "      <td>193609</td>\n",
       "      <td>Andrew Dice Clay: Dice Rules (1991)</td>\n",
       "    </tr>\n",
       "  </tbody>\n",
       "</table>\n",
       "</div>"
      ],
      "text/plain": [
       "      movieRow  movieId                                      title\n",
       "9737      9737   193581  Black Butler: Book of the Atlantic (2017)\n",
       "9738      9738   193583               No Game No Life: Zero (2017)\n",
       "9739      9739   193585                               Flint (2017)\n",
       "9740      9740   193587        Bungo Stray Dogs: Dead Apple (2018)\n",
       "9741      9741   193609        Andrew Dice Clay: Dice Rules (1991)"
      ]
     },
     "execution_count": 4,
     "metadata": {},
     "output_type": "execute_result"
    }
   ],
   "source": [
    "movies_df = movies_df[['movieRow', 'movieId', 'title']]\n",
    "#筛选三列出来\n",
    "movies_df.to_csv('./ml-latest-small/moviesProcessed.csv', index=False, header=True, encoding='utf-8')\n",
    "#生成一个新的文件moviesProcessed.csv\n",
    "movies_df.tail()"
   ]
  },
  {
   "cell_type": "code",
   "execution_count": 5,
   "metadata": {
    "ExecuteTime": {
     "end_time": "2019-09-02T06:44:04.612034Z",
     "start_time": "2019-09-02T06:44:04.506961Z"
    }
   },
   "outputs": [
    {
     "data": {
      "text/html": [
       "<div>\n",
       "<style scoped>\n",
       "    .dataframe tbody tr th:only-of-type {\n",
       "        vertical-align: middle;\n",
       "    }\n",
       "\n",
       "    .dataframe tbody tr th {\n",
       "        vertical-align: top;\n",
       "    }\n",
       "\n",
       "    .dataframe thead th {\n",
       "        text-align: right;\n",
       "    }\n",
       "</style>\n",
       "<table border=\"1\" class=\"dataframe\">\n",
       "  <thead>\n",
       "    <tr style=\"text-align: right;\">\n",
       "      <th></th>\n",
       "      <th>userId</th>\n",
       "      <th>movieId</th>\n",
       "      <th>rating</th>\n",
       "      <th>timestamp</th>\n",
       "      <th>movieRow</th>\n",
       "      <th>title</th>\n",
       "    </tr>\n",
       "  </thead>\n",
       "  <tbody>\n",
       "    <tr>\n",
       "      <td>0</td>\n",
       "      <td>1</td>\n",
       "      <td>1</td>\n",
       "      <td>4.0</td>\n",
       "      <td>964982703</td>\n",
       "      <td>0</td>\n",
       "      <td>Toy Story (1995)</td>\n",
       "    </tr>\n",
       "    <tr>\n",
       "      <td>1</td>\n",
       "      <td>5</td>\n",
       "      <td>1</td>\n",
       "      <td>4.0</td>\n",
       "      <td>847434962</td>\n",
       "      <td>0</td>\n",
       "      <td>Toy Story (1995)</td>\n",
       "    </tr>\n",
       "    <tr>\n",
       "      <td>2</td>\n",
       "      <td>7</td>\n",
       "      <td>1</td>\n",
       "      <td>4.5</td>\n",
       "      <td>1106635946</td>\n",
       "      <td>0</td>\n",
       "      <td>Toy Story (1995)</td>\n",
       "    </tr>\n",
       "    <tr>\n",
       "      <td>3</td>\n",
       "      <td>15</td>\n",
       "      <td>1</td>\n",
       "      <td>2.5</td>\n",
       "      <td>1510577970</td>\n",
       "      <td>0</td>\n",
       "      <td>Toy Story (1995)</td>\n",
       "    </tr>\n",
       "    <tr>\n",
       "      <td>4</td>\n",
       "      <td>17</td>\n",
       "      <td>1</td>\n",
       "      <td>4.5</td>\n",
       "      <td>1305696483</td>\n",
       "      <td>0</td>\n",
       "      <td>Toy Story (1995)</td>\n",
       "    </tr>\n",
       "  </tbody>\n",
       "</table>\n",
       "</div>"
      ],
      "text/plain": [
       "   userId  movieId  rating   timestamp  movieRow             title\n",
       "0       1        1     4.0   964982703         0  Toy Story (1995)\n",
       "1       5        1     4.0   847434962         0  Toy Story (1995)\n",
       "2       7        1     4.5  1106635946         0  Toy Story (1995)\n",
       "3      15        1     2.5  1510577970         0  Toy Story (1995)\n",
       "4      17        1     4.5  1305696483         0  Toy Story (1995)"
      ]
     },
     "execution_count": 5,
     "metadata": {},
     "output_type": "execute_result"
    }
   ],
   "source": [
    "ratings_df = pd.merge(ratings_df, movies_df, on='movieId')\n",
    "ratings_df.head()"
   ]
  },
  {
   "cell_type": "code",
   "execution_count": 6,
   "metadata": {
    "ExecuteTime": {
     "end_time": "2019-09-02T06:44:05.296862Z",
     "start_time": "2019-09-02T06:44:04.614036Z"
    }
   },
   "outputs": [
    {
     "data": {
      "text/html": [
       "<div>\n",
       "<style scoped>\n",
       "    .dataframe tbody tr th:only-of-type {\n",
       "        vertical-align: middle;\n",
       "    }\n",
       "\n",
       "    .dataframe tbody tr th {\n",
       "        vertical-align: top;\n",
       "    }\n",
       "\n",
       "    .dataframe thead th {\n",
       "        text-align: right;\n",
       "    }\n",
       "</style>\n",
       "<table border=\"1\" class=\"dataframe\">\n",
       "  <thead>\n",
       "    <tr style=\"text-align: right;\">\n",
       "      <th></th>\n",
       "      <th>userId</th>\n",
       "      <th>movieRow</th>\n",
       "      <th>rating</th>\n",
       "    </tr>\n",
       "  </thead>\n",
       "  <tbody>\n",
       "    <tr>\n",
       "      <td>0</td>\n",
       "      <td>1</td>\n",
       "      <td>0</td>\n",
       "      <td>4.0</td>\n",
       "    </tr>\n",
       "    <tr>\n",
       "      <td>1</td>\n",
       "      <td>5</td>\n",
       "      <td>0</td>\n",
       "      <td>4.0</td>\n",
       "    </tr>\n",
       "    <tr>\n",
       "      <td>2</td>\n",
       "      <td>7</td>\n",
       "      <td>0</td>\n",
       "      <td>4.5</td>\n",
       "    </tr>\n",
       "    <tr>\n",
       "      <td>3</td>\n",
       "      <td>15</td>\n",
       "      <td>0</td>\n",
       "      <td>2.5</td>\n",
       "    </tr>\n",
       "    <tr>\n",
       "      <td>4</td>\n",
       "      <td>17</td>\n",
       "      <td>0</td>\n",
       "      <td>4.5</td>\n",
       "    </tr>\n",
       "  </tbody>\n",
       "</table>\n",
       "</div>"
      ],
      "text/plain": [
       "   userId  movieRow  rating\n",
       "0       1         0     4.0\n",
       "1       5         0     4.0\n",
       "2       7         0     4.5\n",
       "3      15         0     2.5\n",
       "4      17         0     4.5"
      ]
     },
     "execution_count": 6,
     "metadata": {},
     "output_type": "execute_result"
    }
   ],
   "source": [
    "ratings_df = ratings_df[['userId', 'movieRow', 'rating']]\n",
    "#筛选出三列\n",
    "ratings_df.to_csv('./ml-latest-small/ratingsProcessed.csv', index=False, header=True, encoding='utf-8')\n",
    "#导出一个新的文件ratingsProcessed.csv\n",
    "ratings_df.head()"
   ]
  },
  {
   "cell_type": "markdown",
   "metadata": {},
   "source": [
    "**第二步：创建电影评分矩阵rating和评分纪录矩阵record**"
   ]
  },
  {
   "cell_type": "code",
   "execution_count": 7,
   "metadata": {
    "ExecuteTime": {
     "end_time": "2019-09-02T06:44:05.329884Z",
     "start_time": "2019-09-02T06:44:05.299863Z"
    }
   },
   "outputs": [],
   "source": [
    "userNo = ratings_df['userId'].max() + 1\n",
    "#userNo的最大值\n",
    "movieNo = ratings_df['movieRow'].max() + 1\n",
    "#movieNo的最大值"
   ]
  },
  {
   "cell_type": "code",
   "execution_count": 8,
   "metadata": {
    "ExecuteTime": {
     "end_time": "2019-09-02T06:44:14.723551Z",
     "start_time": "2019-09-02T06:44:05.333886Z"
    }
   },
   "outputs": [],
   "source": [
    "rating = np.zeros((movieNo,userNo))\n",
    "#创建一个值都是0的数据\n",
    "flag = 0\n",
    "ratings_df_length = np.shape(ratings_df)[0]\n",
    "#查看矩阵ratings_df的第一维度是多少\n",
    "for index,row in ratings_df.iterrows():\n",
    "    #interrows（），对表格ratings_df进行遍历\n",
    "    rating[int(row['movieRow']),int(row['userId'])] = row['rating']\n",
    "    #将ratings_df表里的'movieRow'和'userId'列，填上row的‘评分’\n",
    "    flag += 1"
   ]
  },
  {
   "cell_type": "code",
   "execution_count": 9,
   "metadata": {
    "ExecuteTime": {
     "end_time": "2019-09-02T06:44:14.764021Z",
     "start_time": "2019-09-02T06:44:14.723551Z"
    }
   },
   "outputs": [
    {
     "data": {
      "text/plain": [
       "array([[0, 1, 0, ..., 1, 1, 1],\n",
       "       [0, 0, 0, ..., 1, 0, 0],\n",
       "       [0, 1, 0, ..., 1, 0, 0],\n",
       "       ...,\n",
       "       [0, 0, 0, ..., 0, 0, 0],\n",
       "       [0, 0, 0, ..., 0, 0, 0],\n",
       "       [0, 0, 0, ..., 0, 0, 0]])"
      ]
     },
     "execution_count": 9,
     "metadata": {},
     "output_type": "execute_result"
    }
   ],
   "source": [
    "record = rating > 0\n",
    "record\n",
    "record = np.array(record, dtype = int)\n",
    "#更改数据类型，0表示用户没有对电影评分，1表示用户已经对电影评分\n",
    "record"
   ]
  },
  {
   "cell_type": "markdown",
   "metadata": {},
   "source": [
    "**第三步：构建模型**"
   ]
  },
  {
   "cell_type": "code",
   "execution_count": 10,
   "metadata": {
    "ExecuteTime": {
     "end_time": "2019-09-02T06:44:14.816050Z",
     "start_time": "2019-09-02T06:44:14.767015Z"
    }
   },
   "outputs": [],
   "source": [
    "def normalizeRatings(rating, record):\n",
    "    m, n =rating.shape\n",
    "    #m代表电影数量，n代表用户数量\n",
    "    rating_mean = np.zeros((m,1))\n",
    "    #每部电影的平均得分\n",
    "    rating_norm = np.zeros((m,n))\n",
    "    #处理过的评分\n",
    "    for i in range(m):\n",
    "        idx = record[i,:] !=0\n",
    "        #每部电影的评分，[i，:]表示每一行的所有列\n",
    "        rating_mean[i] = np.mean(rating[i,idx])\n",
    "        #第i行，评过份idx的用户的平均得分；\n",
    "        #np.mean() 对所有元素求均值\n",
    "        rating_norm[i,idx] -= rating_mean[i]\n",
    "        #rating_norm = 原始得分-平均得分\n",
    "    return rating_norm, rating_mean"
   ]
  },
  {
   "cell_type": "code",
   "execution_count": 11,
   "metadata": {
    "ExecuteTime": {
     "end_time": "2019-09-02T06:44:15.468420Z",
     "start_time": "2019-09-02T06:44:14.818051Z"
    }
   },
   "outputs": [
    {
     "name": "stderr",
     "output_type": "stream",
     "text": [
      "/usr/local/lib/python3.6/dist-packages/numpy/core/fromnumeric.py:3118: RuntimeWarning: Mean of empty slice.\n",
      "  out=out, **kwargs)\n",
      "/usr/local/lib/python3.6/dist-packages/numpy/core/_methods.py:85: RuntimeWarning: invalid value encountered in double_scalars\n",
      "  ret = ret.dtype.type(ret / rcount)\n"
     ]
    }
   ],
   "source": [
    "rating_norm, rating_mean = normalizeRatings(rating, record)\n",
    "# 注：如果数据出现较多的NaNN，对后面的运算影响较大"
   ]
  },
  {
   "cell_type": "code",
   "execution_count": 12,
   "metadata": {
    "ExecuteTime": {
     "end_time": "2019-09-02T06:44:15.563120Z",
     "start_time": "2019-09-02T06:44:15.468420Z"
    }
   },
   "outputs": [
    {
     "data": {
      "text/plain": [
       "array([[ 0.        , -3.92093023,  0.        , ..., -3.92093023,\n",
       "        -3.92093023, -3.92093023],\n",
       "       [ 0.        ,  0.        ,  0.        , ..., -3.43181818,\n",
       "         0.        ,  0.        ],\n",
       "       [ 0.        , -3.25961538,  0.        , ..., -3.25961538,\n",
       "         0.        ,  0.        ],\n",
       "       ...,\n",
       "       [ 0.        ,  0.        ,  0.        , ...,  0.        ,\n",
       "         0.        ,  0.        ],\n",
       "       [ 0.        ,  0.        ,  0.        , ...,  0.        ,\n",
       "         0.        ,  0.        ],\n",
       "       [ 0.        ,  0.        ,  0.        , ...,  0.        ,\n",
       "         0.        ,  0.        ]])"
      ]
     },
     "execution_count": 12,
     "metadata": {},
     "output_type": "execute_result"
    }
   ],
   "source": [
    "rating_norm = np.nan_to_num(rating_norm)\n",
    "#对值为NaNN进行处理，改成数值0\n",
    "rating_norm"
   ]
  },
  {
   "cell_type": "code",
   "execution_count": 13,
   "metadata": {
    "ExecuteTime": {
     "end_time": "2019-09-02T06:44:15.656185Z",
     "start_time": "2019-09-02T06:44:15.565122Z"
    }
   },
   "outputs": [
    {
     "data": {
      "text/plain": [
       "array([[3.92093023],\n",
       "       [3.43181818],\n",
       "       [3.25961538],\n",
       "       ...,\n",
       "       [3.5       ],\n",
       "       [3.5       ],\n",
       "       [4.        ]])"
      ]
     },
     "execution_count": 13,
     "metadata": {},
     "output_type": "execute_result"
    }
   ],
   "source": [
    "rating_mean = np.nan_to_num(rating_mean)\n",
    "#对值为NaNN进行处理，改成数值0\n",
    "rating_mean"
   ]
  },
  {
   "cell_type": "code",
   "execution_count": 14,
   "metadata": {
    "ExecuteTime": {
     "end_time": "2019-09-02T06:44:18.122947Z",
     "start_time": "2019-09-02T06:44:15.659188Z"
    }
   },
   "outputs": [],
   "source": [
    "num_features = 10\n",
    "X_parameters = tf.Variable(tf.random_normal([movieNo, num_features],stddev = 0.35))\n",
    "Theta_parameters = tf.Variable(tf.random_normal([userNo, num_features],stddev = 0.35))\n",
    "#tf.Variables()初始化变量\n",
    "#tf.random_normal()函数用于从服从指定正太分布的数值中取出指定个数的值，mean: 正态分布的均值。stddev: 正态分布的标准差。dtype: 输出的类型"
   ]
  },
  {
   "cell_type": "code",
   "execution_count": 15,
   "metadata": {
    "ExecuteTime": {
     "end_time": "2019-09-02T06:44:18.635648Z",
     "start_time": "2019-09-02T06:44:18.122947Z"
    }
   },
   "outputs": [],
   "source": [
    "loss = 1/2 * tf.reduce_sum(((tf.matmul(X_parameters, Theta_parameters, transpose_b = True) - rating_norm) * record) ** 2) + 1/2 * (tf.reduce_sum(X_parameters ** 2) + tf.reduce_sum(Theta_parameters ** 2))\n",
    "#基于内容的推荐算法模型"
   ]
  },
  {
   "cell_type": "markdown",
   "metadata": {},
   "source": [
    "**函数解释：**\n",
    "\n",
    "reduce_sum() 就是求和，reduce_sum( input_tensor, axis=None,  keep_dims=False, name=None, reduction_indices=None)\n",
    "\n",
    "reduce_sum() 参数解释：\n",
    "\n",
    "1) input_tensor：输入的张量。\n",
    "\n",
    "2) axis：沿着哪个维度求和。对于二维的input_tensor张量，0表示按列求和，1表示按行求和，[0, 1]表示先按列求和再按行求和。\n",
    "\n",
    "3) keep_dims：默认值为False，表示默认要降维。若设为True，则不降维。\n",
    "\n",
    "4) name：名字。\n",
    "\n",
    "5) reduction_indices：默认值是None，即把input_tensor降到 0维，也就是一个数。对于2维input_tensor，reduction_indices=0时，按列；reduction_indices=1时，按行。\n",
    "\n",
    "6) 注意，reduction_indices与axis不能同时设置。\n",
    "\n",
    "tf.matmul（a,b）,将矩阵 a 乘以矩阵 b，生成a * b\n",
    "\n",
    "tf.matmul（a,b）参数解释：\n",
    "\n",
    "1) a：类型为 float16，float32，float64，int32，complex64，complex128 和 rank > 1的张量。\n",
    "\n",
    "2) b：与 a 具有相同类型和 rank。\n",
    "\n",
    "3) transpose_a：如果 True，a 在乘法之前转置。\n",
    "\n",
    "4) transpose_b：如果 True，b 在乘法之前转置。\n",
    "\n",
    "5) adjoint_a：如果 True，a 在乘法之前共轭和转置。\n",
    "\n",
    "6) adjoint_b：如果 True，b 在乘法之前共轭和转置。\n",
    "\n",
    "7) a_is_sparse：如果 True，a 被视为稀疏矩阵。\n",
    "\n",
    "8) b_is_sparse：如果 True，b 被视为稀疏矩阵。\n",
    "\n",
    "9) name：操作名称（可选）"
   ]
  },
  {
   "cell_type": "code",
   "execution_count": 16,
   "metadata": {
    "ExecuteTime": {
     "end_time": "2019-09-02T06:44:19.783859Z",
     "start_time": "2019-09-02T06:44:18.635648Z"
    }
   },
   "outputs": [
    {
     "name": "stderr",
     "output_type": "stream",
     "text": [
      "WARNING: Logging before flag parsing goes to stderr.\n",
      "W0903 05:38:52.370069 140108146329408 deprecation.py:323] From /usr/local/lib/python3.6/dist-packages/tensorflow/python/ops/math_grad.py:1205: add_dispatch_support.<locals>.wrapper (from tensorflow.python.ops.array_ops) is deprecated and will be removed in a future version.\n",
      "Instructions for updating:\n",
      "Use tf.where in 2.0, which has the same broadcast rule as np.where\n"
     ]
    }
   ],
   "source": [
    "optimizer = tf.train.AdamOptimizer(1e-4)\n",
    "# https://blog.csdn.net/lenbow/article/details/52218551\n",
    "train = optimizer.minimize(loss)\n",
    "# Optimizer.minimize对一个损失变量基本上做两件事\n",
    "# 它计算相对于模型参数的损失梯度。\n",
    "# 然后应用计算出的梯度来更新变量。"
   ]
  },
  {
   "cell_type": "markdown",
   "metadata": {},
   "source": [
    "**第四步：训练模型**"
   ]
  },
  {
   "cell_type": "code",
   "execution_count": 17,
   "metadata": {
    "ExecuteTime": {
     "end_time": "2019-09-02T06:44:19.796401Z",
     "start_time": "2019-09-02T06:44:19.783859Z"
    }
   },
   "outputs": [
    {
     "data": {
      "text/plain": [
       "<tf.Tensor 'loss:0' shape=() dtype=string>"
      ]
     },
     "execution_count": 17,
     "metadata": {},
     "output_type": "execute_result"
    }
   ],
   "source": [
    "# tf.summary的用法 https://www.cnblogs.com/lyc-seu/p/8647792.html\n",
    "tf.summary.scalar('loss',loss)\n",
    "#用来显示标量信息"
   ]
  },
  {
   "cell_type": "code",
   "execution_count": 18,
   "metadata": {
    "ExecuteTime": {
     "end_time": "2019-09-02T06:44:22.109391Z",
     "start_time": "2019-09-02T06:44:19.799402Z"
    }
   },
   "outputs": [],
   "source": [
    "summaryMerged = tf.summary.merge_all()\n",
    "#merge_all 可以将所有summary全部保存到磁盘，以便tensorboard显示。\n",
    "filename = './movie_tensorborad'\n",
    "writer = tf.summary.FileWriter(filename)\n",
    "#指定一个文件用来保存图。\n",
    "sess = tf.Session()\n",
    "#https://www.cnblogs.com/wuzhitj/p/6648610.html\n",
    "init = tf.global_variables_initializer()\n",
    "sess.run(init)\n",
    "#运行"
   ]
  },
  {
   "cell_type": "code",
   "execution_count": 19,
   "metadata": {},
   "outputs": [],
   "source": [
    "for i in range(1000): # origin is 5000, but since this is a transferred connection, timeout will make 5000 not finishing, here, use 1000 instead\n",
    "    _, movie_summary = sess.run([train, summaryMerged])\n",
    "    # 把训练的结果summaryMerged存在movie里\n",
    "    writer.add_summary(movie_summary, i)\n",
    "    # 把训练的结果保存下来"
   ]
  },
  {
   "cell_type": "markdown",
   "metadata": {},
   "source": [
    "- 查看训练结果:在终端输入 tensorboard --logir=./"
   ]
  },
  {
   "cell_type": "markdown",
   "metadata": {},
   "source": [
    "**第五步：评估模型**"
   ]
  },
  {
   "cell_type": "code",
   "execution_count": 20,
   "metadata": {
    "ExecuteTime": {
     "end_time": "2019-09-02T06:49:07.704819Z",
     "start_time": "2019-09-02T06:49:07.342091Z"
    }
   },
   "outputs": [
    {
     "data": {
      "text/plain": [
       "8124.794265811395"
      ]
     },
     "execution_count": 20,
     "metadata": {},
     "output_type": "execute_result"
    }
   ],
   "source": [
    "Current_X_parameters, Current_Theta_parameters = sess.run([X_parameters, Theta_parameters])\n",
    "# Current_X_parameters为用户内容矩阵，Current_Theta_parameters用户喜好矩阵\n",
    "predicts = np.dot(Current_X_parameters,Current_Theta_parameters.T) + rating_mean\n",
    "# dot函数是np中的矩阵乘法，np.dot(x,y) 等价于 x.dot(y)\n",
    "errors = np.sqrt(np.sum((predicts - rating)**2))\n",
    "# sqrt(arr) ,计算各元素的平方根\n",
    "errors"
   ]
  },
  {
   "cell_type": "markdown",
   "metadata": {},
   "source": [
    "**第六步：构建完整的电影推荐系统**"
   ]
  },
  {
   "cell_type": "code",
   "execution_count": 23,
   "metadata": {
    "ExecuteTime": {
     "start_time": "2019-09-02T06:43:05.825Z"
    }
   },
   "outputs": [
    {
     "name": "stdout",
     "output_type": "stream",
     "text": [
      "您要想哪位用户进行推荐？请输入用户编号：123\n",
      "==============================为该用户推荐的评分最高的20部电影是：===============================\n",
      "评分: 6.71, 电影名: Happy Go Lovely (1951)\n",
      "评分: 6.46, 电影名: Hellbenders (2012)\n",
      "评分: 6.38, 电影名: Galaxy of Terror (Quest) (1981)\n",
      "评分: 6.37, 电影名: Cheburashka (1971)\n",
      "评分: 6.35, 电影名: National Lampoon's Bag Boy (2007)\n",
      "评分: 6.35, 电影名: Mr. Skeffington (1944)\n",
      "评分: 6.35, 电影名: Sisters (Syostry) (2001)\n",
      "评分: 6.33, 电影名: The Fox and the Hound 2 (2006)\n",
      "评分: 6.32, 电影名: Bossa Nova (2000)\n",
      "评分: 6.31, 电影名: Investigation Held by Kolobki (1986)\n",
      "评分: 6.29, 电影名: Alien Contamination (1980)\n",
      "评分: 6.24, 电影名: Thin Line Between Love and Hate, A (1996)\n",
      "评分: 6.24, 电影名: Tom Segura: Mostly Stories (2016)\n",
      "评分: 6.24, 电影名: Enter the Void (2009)\n",
      "评分: 6.21, 电影名: Rififi (Du rififi chez les hommes) (1955)\n",
      "评分: 6.18, 电影名: I Am Not Your Negro (2017)\n",
      "评分: 6.18, 电影名: 7 Faces of Dr. Lao (1964)\n",
      "评分: 6.12, 电影名: Lumberjack Man (2015)\n",
      "评分: 6.11, 电影名: American History X (1998)\n",
      "评分: 6.10, 电影名: Babes in Toyland (1934)\n"
     ]
    }
   ],
   "source": [
    "user_id = input('您要想哪位用户进行推荐？请输入用户编号：')\n",
    "sortedResult = predicts[:, int(user_id)].argsort()[::-1]\n",
    "# argsort()函数返回的是数组值从小到大的索引值; argsort()[::-1] 返回的是数组值从大到小的索引值\n",
    "idx = 0\n",
    "print('为该用户推荐的评分最高的20部电影是：'.center(80,'='))\n",
    "# center() 返回一个原字符串居中,并使用空格填充至长度 width 的新字符串。默认填充字符为空格。\n",
    "for i in sortedResult:\n",
    "    print('评分: %.2f, 电影名: %s' % (predicts[i,int(user_id)],movies_df.iloc[i]['title']))\n",
    "    # .iloc的用法：https://www.cnblogs.com/harvey888/p/6006200.html\n",
    "    idx += 1\n",
    "    if idx == 20:break"
   ]
  },
  {
   "cell_type": "code",
   "execution_count": null,
   "metadata": {},
   "outputs": [],
   "source": []
  }
 ],
 "metadata": {
  "kernelspec": {
   "display_name": "Python 3",
   "language": "python",
   "name": "python3"
  },
  "language_info": {
   "codemirror_mode": {
    "name": "ipython",
    "version": 3
   },
   "file_extension": ".py",
   "mimetype": "text/x-python",
   "name": "python",
   "nbconvert_exporter": "python",
   "pygments_lexer": "ipython3",
   "version": "3.6.8"
  }
 },
 "nbformat": 4,
 "nbformat_minor": 2
}
