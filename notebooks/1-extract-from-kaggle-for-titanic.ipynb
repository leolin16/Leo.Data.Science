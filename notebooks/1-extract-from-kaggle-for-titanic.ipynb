{
 "cells": [
  {
   "cell_type": "code",
   "execution_count": 11,
   "metadata": {},
   "outputs": [
    {
     "name": "stdout",
     "output_type": "stream",
     "text": [
      "/Users/leolin/anaconda3\n",
      "/Users/leolin/anaconda3/bin/python\n",
      "['', '/Users/leolin/anaconda3/lib/python36.zip', '/Users/leolin/anaconda3/lib/python3.6', '/Users/leolin/anaconda3/lib/python3.6/lib-dynload', '/Users/leolin/.local/lib/python3.6/site-packages', '/Users/leolin/anaconda3/lib/python3.6/site-packages', '/Users/leolin/anaconda3/lib/python3.6/site-packages/aeosa', '/Users/leolin/anaconda3/lib/python3.6/site-packages/IPython/extensions', '/Users/leolin/.ipython', '/Users/leolin/.local/lib/python3.6/site-packages', '/Users/leolin/.local/bin', '/Users/leolin/.local/lib/python3.6/site-packages', '/Users/leolin/.local/lib/python3.6/site-packages']\n"
     ]
    }
   ],
   "source": [
    "import sys\n",
    "print(sys.prefix)\n",
    "print(sys.executable)\n",
    "sys.path.append('/Users/leolin/.local/lib/python3.6/site-packages')\n",
    "print(sys.path)"
   ]
  },
  {
   "cell_type": "code",
   "execution_count": 12,
   "metadata": {},
   "outputs": [],
   "source": [
    "## to install lib for reading .env file\n",
    "# !conda install -c conda-forge -y -q python-dotenv\n",
    "## to install official lib from kaggle\n",
    "# !pip install --user kaggle\n",
    "# !{sys.executable} -m pip install kaggle"
   ]
  },
  {
   "cell_type": "code",
   "execution_count": 13,
   "metadata": {},
   "outputs": [
    {
     "data": {
      "text/plain": [
       "True"
      ]
     },
     "execution_count": 13,
     "metadata": {},
     "output_type": "execute_result"
    }
   ],
   "source": [
    "from dotenv import load_dotenv, find_dotenv\n",
    "dotenv_path = find_dotenv()\n",
    "# load up the entries as environment variables\n",
    "load_dotenv(dotenv_path)"
   ]
  },
  {
   "cell_type": "code",
   "execution_count": 14,
   "metadata": {},
   "outputs": [
    {
     "name": "stdout",
     "output_type": "stream",
     "text": [
      "leolin16\n"
     ]
    }
   ],
   "source": [
    "import os\n",
    "KAGGLE_USERNAME = os.environ.get(\"KAGGLE_USERNAME\")\n",
    "print(KAGGLE_USERNAME)"
   ]
  },
  {
   "cell_type": "code",
   "execution_count": 15,
   "metadata": {},
   "outputs": [],
   "source": [
    "import requests\n",
    "from requests import session\n",
    "import os\n",
    "from dotenv import load_dotenv, find_dotenv"
   ]
  },
  {
   "cell_type": "code",
   "execution_count": 16,
   "metadata": {},
   "outputs": [
    {
     "name": "stdout",
     "output_type": "stream",
     "text": [
      "..\n"
     ]
    }
   ],
   "source": [
    "# payload = {\n",
    "#     'action': 'login',\n",
    "#     'username': os.environ.get(\"KAGGLE_USERNAME\"),\n",
    "#     'password': os.environ.get(\"KAGGLE_PASSWORD\"),\n",
    "#     'key': os.environ.get(\"KAGGLE_KEY\")\n",
    "# }\n",
    "\n",
    "# url = 'https://www.kaggle.com/c/titanic/download/train.csv'\n",
    "\n",
    "# with session() as c:\n",
    "#     c.post('https://www.kaggle.com/account/login', data=payload)\n",
    "#     response = c.get(url)\n",
    "#     print(response.text)"
   ]
  },
  {
   "cell_type": "code",
   "execution_count": 7,
   "metadata": {},
   "outputs": [
    {
     "name": "stdout",
     "output_type": "stream",
     "text": [
      "['', '/Users/leolin/anaconda3/lib/python36.zip', '/Users/leolin/anaconda3/lib/python3.6', '/Users/leolin/anaconda3/lib/python3.6/lib-dynload', '/Users/leolin/.local/lib/python3.6/site-packages', '/Users/leolin/anaconda3/lib/python3.6/site-packages', '/Users/leolin/anaconda3/lib/python3.6/site-packages/aeosa', '/Users/leolin/anaconda3/lib/python3.6/site-packages/IPython/extensions', '/Users/leolin/.ipython', '/Users/leolin/.local/lib/python3.6/site-packages', '/Users/leolin/.local/bin']\n",
      "/bin/sh: kaggle: command not found\n"
     ]
    }
   ],
   "source": [
    "# import sys\n",
    "# sys.path.append('/Users/leolin/.local/bin')\n",
    "# print(sys.path)\n",
    "# !kaggle datasets list -s titanic"
   ]
  },
  {
   "cell_type": "code",
   "execution_count": 4,
   "metadata": {},
   "outputs": [
    {
     "name": "stdout",
     "output_type": "stream",
     "text": [
      "/Users/leolin/anaconda3/bin/pip\r\n"
     ]
    }
   ],
   "source": [
    "!which pip"
   ]
  },
  {
   "cell_type": "code",
   "execution_count": 22,
   "metadata": {},
   "outputs": [],
   "source": [
    "raw_data_path = os.path.join(os.path.pardir,'data','raw','titanic')\n",
    "train_data_path = os.path.join(raw_data_path, 'train.csv')\n",
    "test_data_path = os.path.join(raw_data_path, 'test.csv')"
   ]
  },
  {
   "cell_type": "code",
   "execution_count": 23,
   "metadata": {},
   "outputs": [
    {
     "name": "stdout",
     "output_type": "stream",
     "text": [
      "total 184\r\n",
      "-rwxr-xr-x@ 1 leolin  staff   3258 Apr  9 05:33 \u001b[31mgender_submission.csv\u001b[m\u001b[m\r\n",
      "-rwxr-xr-x@ 1 leolin  staff  28629 Apr  9 05:33 \u001b[31mtest.csv\u001b[m\u001b[m\r\n",
      "-rwxr-xr-x@ 1 leolin  staff  61194 Apr  9 05:33 \u001b[31mtrain.csv\u001b[m\u001b[m\r\n"
     ]
    }
   ],
   "source": [
    "!ls -l $raw_data_path"
   ]
  },
  {
   "cell_type": "code",
   "execution_count": null,
   "metadata": {},
   "outputs": [],
   "source": []
  }
 ],
 "metadata": {
  "kernelspec": {
   "display_name": "Python 3",
   "language": "python",
   "name": "python3"
  },
  "language_info": {
   "codemirror_mode": {
    "name": "ipython",
    "version": 3
   },
   "file_extension": ".py",
   "mimetype": "text/x-python",
   "name": "python",
   "nbconvert_exporter": "python",
   "pygments_lexer": "ipython3",
   "version": "3.6.5"
  }
 },
 "nbformat": 4,
 "nbformat_minor": 2
}
