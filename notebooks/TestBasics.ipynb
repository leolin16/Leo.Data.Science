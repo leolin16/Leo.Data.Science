{
 "cells": [
  {
   "cell_type": "code",
   "execution_count": 3,
   "metadata": {},
   "outputs": [
    {
     "name": "stdout",
     "output_type": "stream",
     "text": [
      "1st n的值为: 2\n",
      "m的值为: 1\n",
      "2nd n的值为: 10\n",
      "3rd n的值为: 2\n"
     ]
    }
   ],
   "source": [
    "def myFunc():\n",
    "    m = 1\n",
    "    n = 2\n",
    "    def show():\n",
    "        print('m的值为:', m)\n",
    "        \n",
    "        n = 10\n",
    "        print('2nd n的值为:', n)\n",
    "        \n",
    "    print('1st n的值为:', n)\n",
    "    def returnFunc():\n",
    "        print('3rd n的值为:', n)\n",
    "    show()\n",
    "    return returnFunc\n",
    "\n",
    "s = myFunc()\n",
    "s()\n"
   ]
  },
  {
   "cell_type": "code",
   "execution_count": 4,
   "metadata": {},
   "outputs": [
    {
     "name": "stdout",
     "output_type": "stream",
     "text": [
      "1st n的值为: 2\n",
      "m的值为: 1\n",
      "2nd n的值为: 12\n",
      "3rd n的值为: 12\n"
     ]
    }
   ],
   "source": [
    "def myFunc():\n",
    "    m = 1\n",
    "    n = 2\n",
    "    def show():\n",
    "        print('m的值为:', m)\n",
    "        nonlocal n\n",
    "        n += 10\n",
    "        print('2nd n的值为:', n)\n",
    "        \n",
    "    print('1st n的值为:', n)\n",
    "    def returnFunc():\n",
    "        print('3rd n的值为:', n)\n",
    "    show()\n",
    "    return returnFunc\n",
    "\n",
    "s = myFunc()\n",
    "s()\n"
   ]
  },
  {
   "cell_type": "code",
   "execution_count": null,
   "metadata": {},
   "outputs": [],
   "source": []
  }
 ],
 "metadata": {
  "kernelspec": {
   "display_name": "Python 3",
   "language": "python",
   "name": "python3"
  },
  "language_info": {
   "codemirror_mode": {
    "name": "ipython",
    "version": 3
   },
   "file_extension": ".py",
   "mimetype": "text/x-python",
   "name": "python",
   "nbconvert_exporter": "python",
   "pygments_lexer": "ipython3",
   "version": "3.7.2"
  }
 },
 "nbformat": 4,
 "nbformat_minor": 2
}
