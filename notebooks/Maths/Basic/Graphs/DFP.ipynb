{
 "cells": [
  {
   "cell_type": "markdown",
   "metadata": {},
   "source": [
    "# DFP"
   ]
  },
  {
   "cell_type": "code",
   "execution_count": 8,
   "metadata": {},
   "outputs": [],
   "source": [
    "import math\n",
    "import matplotlib.pyplot as plt\n",
    "import numpy as np\n",
    "\n",
    "# if __name__ == \"__main__\":"
   ]
  },
  {
   "cell_type": "code",
   "execution_count": 11,
   "metadata": {},
   "outputs": [],
   "source": [
    "def hessian_r2(C, w, g): # w=delta w, g=delta g\n",
    "    n = w.size\n",
    "    d = g.dot(w)\n",
    "    if math.fabs(d) <1e-4 # 坟墓为零返回单位阵\n",
    "        return np.identity(n)\n",
    "    A = np.zeros((n, n))\n",
    "    for i in range(n):\n",
    "        A[i] = g[i] * g\n",
    "    A /= d\n",
    "    B = np.zeros((n, n))\n",
    "    w2 = C.dot(w)\n",
    "    for i in range(n):\n",
    "        B[i] = w2[i] * w2\n",
    "    d2 = w.dot(w2)\n",
    "    if math.fabs(d2) < 1e-4:\n",
    "        return np.identity(n)\n",
    "    B /= d2\n",
    "    return C + A - B\n",
    "    "
   ]
  },
  {
   "cell_type": "code",
   "execution_count": 12,
   "metadata": {},
   "outputs": [
    {
     "name": "stdout",
     "output_type": "stream",
     "text": [
      "4.000000000000004\n"
     ]
    }
   ],
   "source": [
    "print(?)"
   ]
  },
  {
   "cell_type": "code",
   "execution_count": null,
   "metadata": {},
   "outputs": [],
   "source": []
  }
 ],
 "metadata": {
  "kernelspec": {
   "display_name": "Python 3",
   "language": "python",
   "name": "python3"
  },
  "language_info": {
   "codemirror_mode": {
    "name": "ipython",
    "version": 3
   },
   "file_extension": ".py",
   "mimetype": "text/x-python",
   "name": "python",
   "nbconvert_exporter": "python",
   "pygments_lexer": "ipython3",
   "version": "3.6.8"
  }
 },
 "nbformat": 4,
 "nbformat_minor": 2
}
