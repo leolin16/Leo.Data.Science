{
 "cells": [
  {
   "cell_type": "markdown",
   "metadata": {},
   "source": [
    "# use Talor formula to calculate square root -> Newton Iteration Formula\n",
    "# x2 = a => f(x) = f(x0) + f'(x0)(x - x0) = 0\n",
    "# f(x0) = x02 - a\n",
    "# f'(x0) = 2x0\n",
    "# x = 1/2 * (x0 + a/x0)"
   ]
  },
  {
   "cell_type": "code",
   "execution_count": 15,
   "metadata": {},
   "outputs": [],
   "source": [
    "import math\n",
    "import matplotlib.pyplot as plt\n",
    "import numpy as np\n",
    "\n",
    "# if __name__ == \"__main__\":"
   ]
  },
  {
   "cell_type": "code",
   "execution_count": 18,
   "metadata": {},
   "outputs": [],
   "source": [
    "def Calc(a: float)-> float:\n",
    "    if a <= 1e-6:\n",
    "        return 0\n",
    "    x = a / 2 # define x0 = 1/2 * a\n",
    "    t = a\n",
    "    while math.fabs(x - t) > 1e-6:\n",
    "        t = x\n",
    "        x = (x + a/x) / 2 # next x0 will be (x0 + a/x0)/2\n",
    "    return x"
   ]
  },
  {
   "cell_type": "code",
   "execution_count": 19,
   "metadata": {},
   "outputs": [
    {
     "name": "stdout",
     "output_type": "stream",
     "text": [
      "4.000000000000004\n"
     ]
    }
   ],
   "source": [
    "print(Calc(16))"
   ]
  },
  {
   "cell_type": "code",
   "execution_count": null,
   "metadata": {},
   "outputs": [],
   "source": []
  }
 ],
 "metadata": {
  "kernelspec": {
   "display_name": "Python 3",
   "language": "python",
   "name": "python3"
  },
  "language_info": {
   "codemirror_mode": {
    "name": "ipython",
    "version": 3
   },
   "file_extension": ".py",
   "mimetype": "text/x-python",
   "name": "python",
   "nbconvert_exporter": "python",
   "pygments_lexer": "ipython3",
   "version": "3.6.8"
  }
 },
 "nbformat": 4,
 "nbformat_minor": 2
}
