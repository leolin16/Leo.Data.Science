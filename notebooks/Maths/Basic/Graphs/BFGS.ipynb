{
 "cells": [
  {
   "cell_type": "markdown",
   "metadata": {},
   "source": [
    "# BFGS - can be compared with logistic回归"
   ]
  },
  {
   "cell_type": "code",
   "execution_count": 8,
   "metadata": {},
   "outputs": [],
   "source": [
    "import math\n",
    "import matplotlib.pyplot as plt\n",
    "import numpy as np\n",
    "\n",
    "# if __name__ == \"__main__\":"
   ]
  },
  {
   "cell_type": "code",
   "execution_count": 11,
   "metadata": {},
   "outputs": [],
   "source": [
    "def lr_BFGS(data, alpha): # w=delta w, g=delta g\n",
    "    n = len(data[0]) - 1\n",
    "    w0 = np.zeros(n) # 上一个权值\n",
    "    w = np.zeros(n) # 当前权值\n",
    "    g0 = np.zeros(n) # 上一个梯度\n",
    "    g = np.zeros(n) # 当前梯度\n",
    "    C = np.identity(n) # Hessian矩阵的逆矩阵，初始化为单位阵(n*1)\n",
    "    for times in range(1000):\n",
    "        for d in data:\n",
    "            x = np.array(d[:1]) # 输入数据(n维列向量)\n",
    "            y = d[-1] # 期望输出(标量)\n",
    "            C = hessian_r(C, w-w0, g-g0)\n",
    "            g0 = g # 记录上一次的梯度\n",
    "            w0 = w # 记录上一次的权值\n",
    "            g = (y - pred(w, x)) * x # 梯度(n维列向量)\n",
    "            w = w + alpha * C.dot(g) # 梯度下降\n",
    "        print times, w\n",
    "    return w\n",
    "            \n",
    "    "
   ]
  },
  {
   "cell_type": "code",
   "execution_count": null,
   "metadata": {},
   "outputs": [],
   "source": [
    "def hessian_r(C, w, g): # w=delta w, g=delta g\n",
    "    n = w.size\n",
    "    d = g.dot(w)\n",
    "    if math.fabs(d) <1e-4 # 坟墓为零返回单位阵\n",
    "        return np.identity(n)\n",
    "    A = np.zeros((n, n))\n",
    "    B = np.zeros((n, n))\n",
    "    for i in range(n):\n",
    "        A[i] = w[i] * g\n",
    "        B[i] = w[i] * w\n",
    "    A /= d\n",
    "    At = A.transpose()\n",
    "    B /= d\n",
    "    I = np.identity(n)\n",
    "    return (I-A).dot(C).dot(I-At) + B"
   ]
  },
  {
   "cell_type": "code",
   "execution_count": 12,
   "metadata": {},
   "outputs": [
    {
     "name": "stdout",
     "output_type": "stream",
     "text": [
      "4.000000000000004\n"
     ]
    }
   ],
   "source": [
    "print(?)"
   ]
  },
  {
   "cell_type": "code",
   "execution_count": null,
   "metadata": {},
   "outputs": [],
   "source": []
  },
  {
   "cell_type": "code",
   "execution_count": null,
   "metadata": {},
   "outputs": [],
   "source": []
  },
  {
   "cell_type": "code",
   "execution_count": null,
   "metadata": {},
   "outputs": [],
   "source": []
  }
 ],
 "metadata": {
  "kernelspec": {
   "display_name": "Python 3",
   "language": "python",
   "name": "python3"
  },
  "language_info": {
   "codemirror_mode": {
    "name": "ipython",
    "version": 3
   },
   "file_extension": ".py",
   "mimetype": "text/x-python",
   "name": "python",
   "nbconvert_exporter": "python",
   "pygments_lexer": "ipython3",
   "version": "3.6.8"
  }
 },
 "nbformat": 4,
 "nbformat_minor": 2
}
