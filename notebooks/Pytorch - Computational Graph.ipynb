{
 "cells": [
  {
   "cell_type": "code",
   "execution_count": null,
   "metadata": {},
   "outputs": [],
   "source": [
    "from torch.autograd import Variable\n",
    "x = Variable(torch.randn(1,10))\n",
    "h = Variable(torch.randn(1,20))\n",
    "W_h = Variable(torch.randn(20,20))\n",
    "W_x = Variable(torch.randn(20,10))\n",
    "\n",
    "h_prod = torch.mm(W_h,h.t())\n",
    "x_prod = torch.mm(W_x,x.t())\n",
    "next_h = (h_prod + x_prod).tanh()\n",
    "loss = next_h.sum()\n",
    "loss.backward()"
   ]
  }
 ],
 "metadata": {
  "kernelspec": {
   "display_name": "Python 3",
   "language": "python",
   "name": "python3"
  },
  "language_info": {
   "codemirror_mode": {
    "name": "ipython",
    "version": 3
   },
   "file_extension": ".py",
   "mimetype": "text/x-python",
   "name": "python",
   "nbconvert_exporter": "python",
   "pygments_lexer": "ipython3",
   "version": "3.7.3"
  }
 },
 "nbformat": 4,
 "nbformat_minor": 2
}
