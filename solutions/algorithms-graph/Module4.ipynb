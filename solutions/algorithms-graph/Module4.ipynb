{
 "cells": [
  {
   "cell_type": "markdown",
   "metadata": {},
   "source": [
    "# Module 4: Community Detection Algorithms\n",
    "\n",
    "\n",
    "<img src=\"images/Community-Algo-Icon.png\" alt=\"Community Detection\" width=\"120\" style=\"float:right\"/>\n",
    "\n",
    "Community formation is common in all types of networks, and identifying them is essential for evaluating group behavior and emergent phenomena. The general principle in finding communities is that its members will have more relationships within the group than with nodes outside their group. Identifying these related sets reveals clusters of nodes, isolated groups, and network structure.\n",
    "\n",
    "In this notebook we'll learn how to use these algorithms in Spark and Neo4j. Before we get started let's import those libraries:"
   ]
  },
  {
   "cell_type": "code",
   "execution_count": 48,
   "metadata": {},
   "outputs": [],
   "source": [
    "from pyspark.sql.types import *\n",
    "from graphframes import *\n",
    "from neo4j import GraphDatabase\n",
    "from pyspark.sql import functions as F\n",
    "from pyspark.context import SparkContext\n",
    "from pyspark.sql.session import SparkSession\n",
    "\n",
    "import pandas as pd"
   ]
  },
  {
   "cell_type": "markdown",
   "metadata": {},
   "source": [
    "## Connect to Spark and Neo4j\n",
    "\n",
    "Let's create connections to Spark and Neo4j. The following code will create a SparkContext that we'll use to connect to Spark:"
   ]
  },
  {
   "cell_type": "code",
   "execution_count": 49,
   "metadata": {},
   "outputs": [],
   "source": [
    "from pyspark.context import SparkContext\n",
    "from pyspark.sql.session import SparkSession\n",
    "\n",
    "sc = SparkContext.getOrCreate()\n",
    "spark = SparkSession(sc)"
   ]
  },
  {
   "cell_type": "markdown",
   "metadata": {},
   "source": [
    "And let's create a connection to the database. "
   ]
  },
  {
   "cell_type": "code",
   "execution_count": 50,
   "metadata": {},
   "outputs": [],
   "source": [
    "user = \"neo4j\"\n",
    "password = \"neo\"\n",
    "driver = GraphDatabase.driver(\"bolt://graph-algorithms-in-practice-neo4j\", auth=(user, password))"
   ]
  },
  {
   "cell_type": "markdown",
   "metadata": {},
   "source": [
    "## The Software Dependency Graph\n",
    "\n",
    "Dependency graphs are particularly well suited for demonstrating the sometimes subtle differences between community detection algorithms because they tend to be more connected and hierarchical.\n",
    "\n",
    "\n",
    "### Importing the Data into Apache Spark"
   ]
  },
  {
   "cell_type": "code",
   "execution_count": 51,
   "metadata": {},
   "outputs": [],
   "source": [
    "def create_software_graph():\n",
    "    nodes = spark.read.csv(\"../data/sw-nodes.csv\", header=True)\n",
    "    relationships = spark.read.csv(\"../data/sw-relationships.csv\", header=True)\n",
    "    return GraphFrame(nodes, relationships)"
   ]
  },
  {
   "cell_type": "code",
   "execution_count": 52,
   "metadata": {},
   "outputs": [],
   "source": [
    "g = create_software_graph()"
   ]
  },
  {
   "cell_type": "markdown",
   "metadata": {},
   "source": [
    "### Importing the Data into Neo4j\n",
    "\n",
    "We can import Neo4j by running the following code:"
   ]
  },
  {
   "cell_type": "code",
   "execution_count": 53,
   "metadata": {},
   "outputs": [
    {
     "data": {
      "text/plain": [
       "{'labels_added': 15, 'nodes_created': 15, 'properties_set': 15}"
      ]
     },
     "metadata": {},
     "output_type": "display_data"
    },
    {
     "data": {
      "text/plain": [
       "{'relationships_created': 18}"
      ]
     },
     "metadata": {},
     "output_type": "display_data"
    }
   ],
   "source": [
    "with driver.session() as session:\n",
    "    result = session.run(\"\"\"\n",
    "    LOAD CSV WITH HEADERS FROM \"file:///sw-nodes.csv\" AS row\n",
    "    MERGE (:Library {id: row.id})\n",
    "    \"\"\")\n",
    "    display(result.summary().counters)\n",
    "    \n",
    "    result = session.run(\"\"\"\n",
    "    LOAD CSV WITH HEADERS FROM \"file:///sw-relationships.csv\" AS row\n",
    "    MATCH (source:Library {id: row.src})\n",
    "    MATCH (destination:Library {id: row.dst})\n",
    "    MERGE (source)-[:DEPENDS_ON]->(destination)\n",
    "    \"\"\")\n",
    "    display(result.summary().counters)"
   ]
  },
  {
   "cell_type": "markdown",
   "metadata": {},
   "source": [
    "## Triangle Count\n",
    "\n",
    "Triangle Count determines the number of triangles passing through each node in the graph. A triangle is a set of three nodes,where each node has a relationship to all other nodes."
   ]
  },
  {
   "cell_type": "code",
   "execution_count": 54,
   "metadata": {},
   "outputs": [
    {
     "name": "stdout",
     "output_type": "stream",
     "text": [
      "+-----+---------------+\n",
      "|count|             id|\n",
      "+-----+---------------+\n",
      "|    1|            six|\n",
      "|    1|        jupyter|\n",
      "|    1|      ipykernel|\n",
      "|    1|python-dateutil|\n",
      "|    1|     matplotlib|\n",
      "|    1|    jpy-console|\n",
      "+-----+---------------+\n",
      "\n"
     ]
    }
   ],
   "source": [
    "result = g.triangleCount()\n",
    "(result.sort(\"count\", ascending=False)\n",
    ".filter('count > 0')\n",
    ".show())"
   ]
  },
  {
   "cell_type": "markdown",
   "metadata": {},
   "source": [
    "A triangle in this graph would indicate that two of a node’s neighbors are also neighbors. Six of our libraries participate in such triangles.\n",
    "\n",
    "What if we want to know which nodes are in those triangles? That’s where a triangle stream comes in. "
   ]
  },
  {
   "cell_type": "code",
   "execution_count": 55,
   "metadata": {},
   "outputs": [
    {
     "data": {
      "text/html": [
       "<div>\n",
       "<style scoped>\n",
       "    .dataframe tbody tr th:only-of-type {\n",
       "        vertical-align: middle;\n",
       "    }\n",
       "\n",
       "    .dataframe tbody tr th {\n",
       "        vertical-align: top;\n",
       "    }\n",
       "\n",
       "    .dataframe thead th {\n",
       "        text-align: right;\n",
       "    }\n",
       "</style>\n",
       "<table border=\"1\" class=\"dataframe\">\n",
       "  <thead>\n",
       "    <tr style=\"text-align: right;\">\n",
       "      <th></th>\n",
       "      <th>nodeA</th>\n",
       "      <th>nodeB</th>\n",
       "      <th>nodeC</th>\n",
       "    </tr>\n",
       "  </thead>\n",
       "  <tbody>\n",
       "    <tr>\n",
       "      <th>0</th>\n",
       "      <td>six</td>\n",
       "      <td>python-dateutil</td>\n",
       "      <td>matplotlib</td>\n",
       "    </tr>\n",
       "    <tr>\n",
       "      <th>1</th>\n",
       "      <td>python-dateutil</td>\n",
       "      <td>six</td>\n",
       "      <td>matplotlib</td>\n",
       "    </tr>\n",
       "    <tr>\n",
       "      <th>2</th>\n",
       "      <td>matplotlib</td>\n",
       "      <td>six</td>\n",
       "      <td>python-dateutil</td>\n",
       "    </tr>\n",
       "    <tr>\n",
       "      <th>3</th>\n",
       "      <td>jupyter</td>\n",
       "      <td>jpy-console</td>\n",
       "      <td>ipykernel</td>\n",
       "    </tr>\n",
       "    <tr>\n",
       "      <th>4</th>\n",
       "      <td>ipykernel</td>\n",
       "      <td>jupyter</td>\n",
       "      <td>jpy-console</td>\n",
       "    </tr>\n",
       "    <tr>\n",
       "      <th>5</th>\n",
       "      <td>jpy-console</td>\n",
       "      <td>jupyter</td>\n",
       "      <td>ipykernel</td>\n",
       "    </tr>\n",
       "  </tbody>\n",
       "</table>\n",
       "</div>"
      ],
      "text/plain": [
       "             nodeA            nodeB            nodeC\n",
       "0              six  python-dateutil       matplotlib\n",
       "1  python-dateutil              six       matplotlib\n",
       "2       matplotlib              six  python-dateutil\n",
       "3          jupyter      jpy-console        ipykernel\n",
       "4        ipykernel          jupyter      jpy-console\n",
       "5      jpy-console          jupyter        ipykernel"
      ]
     },
     "metadata": {},
     "output_type": "display_data"
    }
   ],
   "source": [
    "query = \"\"\"\n",
    "CALL algo.triangle.stream(\"Library\",\"DEPENDS_ON\")\n",
    "YIELD nodeA, nodeB, nodeC\n",
    "RETURN algo.getNodeById(nodeA).id AS nodeA,\n",
    "       algo.getNodeById(nodeB).id AS nodeB,\n",
    "       algo.getNodeById(nodeC).id AS nodeC\n",
    "\"\"\"\n",
    "\n",
    "with driver.session() as session:\n",
    "    rows = session.run(query)\n",
    "    df = pd.DataFrame([dict(record) for record in rows])\n",
    "\n",
    "display(df)"
   ]
  },
  {
   "cell_type": "markdown",
   "metadata": {},
   "source": [
    "We can see these triangles in the diagram below:\n",
    "\n",
    "![](images/triangles.svg)"
   ]
  },
  {
   "cell_type": "markdown",
   "metadata": {},
   "source": [
    "The Clustering Coefficient algorithm measures how tightly a group is clustered compared to how tightly it could be clustered. The algorithm uses Triangle Count in its calculations, which provides a ratio of existing triangles to possible relationships."
   ]
  },
  {
   "cell_type": "code",
   "execution_count": 56,
   "metadata": {},
   "outputs": [
    {
     "data": {
      "text/html": [
       "<div>\n",
       "<style scoped>\n",
       "    .dataframe tbody tr th:only-of-type {\n",
       "        vertical-align: middle;\n",
       "    }\n",
       "\n",
       "    .dataframe tbody tr th {\n",
       "        vertical-align: top;\n",
       "    }\n",
       "\n",
       "    .dataframe thead th {\n",
       "        text-align: right;\n",
       "    }\n",
       "</style>\n",
       "<table border=\"1\" class=\"dataframe\">\n",
       "  <thead>\n",
       "    <tr style=\"text-align: right;\">\n",
       "      <th></th>\n",
       "      <th>coefficient</th>\n",
       "      <th>library</th>\n",
       "    </tr>\n",
       "  </thead>\n",
       "  <tbody>\n",
       "    <tr>\n",
       "      <th>0</th>\n",
       "      <td>1.000000</td>\n",
       "      <td>ipykernel</td>\n",
       "    </tr>\n",
       "    <tr>\n",
       "      <th>1</th>\n",
       "      <td>0.333333</td>\n",
       "      <td>six</td>\n",
       "    </tr>\n",
       "    <tr>\n",
       "      <th>2</th>\n",
       "      <td>0.333333</td>\n",
       "      <td>python-dateutil</td>\n",
       "    </tr>\n",
       "    <tr>\n",
       "      <th>3</th>\n",
       "      <td>0.333333</td>\n",
       "      <td>jupyter</td>\n",
       "    </tr>\n",
       "    <tr>\n",
       "      <th>4</th>\n",
       "      <td>0.333333</td>\n",
       "      <td>jpy-console</td>\n",
       "    </tr>\n",
       "    <tr>\n",
       "      <th>5</th>\n",
       "      <td>0.166667</td>\n",
       "      <td>matplotlib</td>\n",
       "    </tr>\n",
       "  </tbody>\n",
       "</table>\n",
       "</div>"
      ],
      "text/plain": [
       "   coefficient          library\n",
       "0     1.000000        ipykernel\n",
       "1     0.333333              six\n",
       "2     0.333333  python-dateutil\n",
       "3     0.333333          jupyter\n",
       "4     0.333333      jpy-console\n",
       "5     0.166667       matplotlib"
      ]
     },
     "metadata": {},
     "output_type": "display_data"
    }
   ],
   "source": [
    "query = \"\"\"\n",
    "CALL algo.triangleCount.stream('Library', 'DEPENDS_ON')\n",
    "YIELD nodeId, triangles, coefficient\n",
    "WHERE coefficient > 0\n",
    "RETURN algo.getNodeById(nodeId).id AS library, coefficient\n",
    "ORDER BY coefficient DESC\n",
    "\"\"\"\n",
    "\n",
    "with driver.session() as session:\n",
    "    rows = session.run(query)\n",
    "    df = pd.DataFrame([dict(record) for record in rows])\n",
    "\n",
    "display(df)"
   ]
  },
  {
   "cell_type": "markdown",
   "metadata": {},
   "source": [
    "ipykernel has a score of 1, which means that all ipykernel’s neighbors are neighbors of each other."
   ]
  },
  {
   "cell_type": "markdown",
   "metadata": {},
   "source": [
    "## Strongly Connected Components\n",
    "\n",
    "The Strongly Connected Components (SCC) algorithm is one of the earliest graph algorithms. SCC finds sets of connected nodes in a directed graph where each node is reachable in both directions from any other node in the same set."
   ]
  },
  {
   "cell_type": "code",
   "execution_count": 57,
   "metadata": {},
   "outputs": [
    {
     "name": "stdout",
     "output_type": "stream",
     "text": [
      "+---------------+-------------+\n",
      "|             id|    component|\n",
      "+---------------+-------------+\n",
      "|python-dateutil| 910533066752|\n",
      "|        pyspark| 936302870528|\n",
      "|     matplotlib| 944892805120|\n",
      "|       jpy-core| 180388626432|\n",
      "|          spacy| 223338299392|\n",
      "|    jpy-console|1099511627776|\n",
      "|           py4j|1279900254208|\n",
      "|          numpy| 498216206336|\n",
      "|            six| 523986010112|\n",
      "|         pandas| 549755813888|\n",
      "|      nbconvert| 558345748480|\n",
      "|      ipykernel| 661424963584|\n",
      "|        jupyter| 721554505728|\n",
      "|     jpy-client| 764504178688|\n",
      "|           pytz| 833223655424|\n",
      "+---------------+-------------+\n",
      "\n"
     ]
    }
   ],
   "source": [
    "result = g.stronglyConnectedComponents(maxIter=10)\n",
    "result.show()"
   ]
  },
  {
   "cell_type": "code",
   "execution_count": 58,
   "metadata": {},
   "outputs": [
    {
     "name": "stdout",
     "output_type": "stream",
     "text": [
      "+-------------+-----------------+\n",
      "|component    |libraries        |\n",
      "+-------------+-----------------+\n",
      "|180388626432 |[jpy-core]       |\n",
      "|223338299392 |[spacy]          |\n",
      "|498216206336 |[numpy]          |\n",
      "|523986010112 |[six]            |\n",
      "|549755813888 |[pandas]         |\n",
      "|558345748480 |[nbconvert]      |\n",
      "|661424963584 |[ipykernel]      |\n",
      "|721554505728 |[jupyter]        |\n",
      "|764504178688 |[jpy-client]     |\n",
      "|833223655424 |[pytz]           |\n",
      "|910533066752 |[python-dateutil]|\n",
      "|936302870528 |[pyspark]        |\n",
      "|944892805120 |[matplotlib]     |\n",
      "|1099511627776|[jpy-console]    |\n",
      "|1279900254208|[py4j]           |\n",
      "+-------------+-----------------+\n",
      "\n"
     ]
    }
   ],
   "source": [
    "(result.sort(\"component\")\n",
    " .groupby(\"component\")\n",
    " .agg(F.collect_list(\"id\").alias(\"libraries\"))\n",
    " .show(truncate=False))"
   ]
  },
  {
   "cell_type": "code",
   "execution_count": 59,
   "metadata": {},
   "outputs": [
    {
     "data": {
      "text/html": [
       "<div>\n",
       "<style scoped>\n",
       "    .dataframe tbody tr th:only-of-type {\n",
       "        vertical-align: middle;\n",
       "    }\n",
       "\n",
       "    .dataframe tbody tr th {\n",
       "        vertical-align: top;\n",
       "    }\n",
       "\n",
       "    .dataframe thead th {\n",
       "        text-align: right;\n",
       "    }\n",
       "</style>\n",
       "<table border=\"1\" class=\"dataframe\">\n",
       "  <thead>\n",
       "    <tr style=\"text-align: right;\">\n",
       "      <th></th>\n",
       "      <th>libraries</th>\n",
       "      <th>partition</th>\n",
       "    </tr>\n",
       "  </thead>\n",
       "  <tbody>\n",
       "    <tr>\n",
       "      <th>0</th>\n",
       "      <td>[jpy-client]</td>\n",
       "      <td>0</td>\n",
       "    </tr>\n",
       "    <tr>\n",
       "      <th>1</th>\n",
       "      <td>[jpy-core]</td>\n",
       "      <td>1</td>\n",
       "    </tr>\n",
       "    <tr>\n",
       "      <th>2</th>\n",
       "      <td>[six]</td>\n",
       "      <td>2</td>\n",
       "    </tr>\n",
       "    <tr>\n",
       "      <th>3</th>\n",
       "      <td>[pandas]</td>\n",
       "      <td>3</td>\n",
       "    </tr>\n",
       "    <tr>\n",
       "      <th>4</th>\n",
       "      <td>[numpy]</td>\n",
       "      <td>4</td>\n",
       "    </tr>\n",
       "    <tr>\n",
       "      <th>5</th>\n",
       "      <td>[python-dateutil]</td>\n",
       "      <td>5</td>\n",
       "    </tr>\n",
       "    <tr>\n",
       "      <th>6</th>\n",
       "      <td>[pytz]</td>\n",
       "      <td>6</td>\n",
       "    </tr>\n",
       "    <tr>\n",
       "      <th>7</th>\n",
       "      <td>[pyspark]</td>\n",
       "      <td>7</td>\n",
       "    </tr>\n",
       "    <tr>\n",
       "      <th>8</th>\n",
       "      <td>[matplotlib]</td>\n",
       "      <td>8</td>\n",
       "    </tr>\n",
       "    <tr>\n",
       "      <th>9</th>\n",
       "      <td>[spacy]</td>\n",
       "      <td>9</td>\n",
       "    </tr>\n",
       "    <tr>\n",
       "      <th>10</th>\n",
       "      <td>[py4j]</td>\n",
       "      <td>10</td>\n",
       "    </tr>\n",
       "    <tr>\n",
       "      <th>11</th>\n",
       "      <td>[jupyter]</td>\n",
       "      <td>11</td>\n",
       "    </tr>\n",
       "    <tr>\n",
       "      <th>12</th>\n",
       "      <td>[jpy-console]</td>\n",
       "      <td>12</td>\n",
       "    </tr>\n",
       "    <tr>\n",
       "      <th>13</th>\n",
       "      <td>[nbconvert]</td>\n",
       "      <td>13</td>\n",
       "    </tr>\n",
       "    <tr>\n",
       "      <th>14</th>\n",
       "      <td>[ipykernel]</td>\n",
       "      <td>14</td>\n",
       "    </tr>\n",
       "  </tbody>\n",
       "</table>\n",
       "</div>"
      ],
      "text/plain": [
       "            libraries  partition\n",
       "0        [jpy-client]          0\n",
       "1          [jpy-core]          1\n",
       "2               [six]          2\n",
       "3            [pandas]          3\n",
       "4             [numpy]          4\n",
       "5   [python-dateutil]          5\n",
       "6              [pytz]          6\n",
       "7           [pyspark]          7\n",
       "8        [matplotlib]          8\n",
       "9             [spacy]          9\n",
       "10             [py4j]         10\n",
       "11          [jupyter]         11\n",
       "12      [jpy-console]         12\n",
       "13        [nbconvert]         13\n",
       "14        [ipykernel]         14"
      ]
     },
     "metadata": {},
     "output_type": "display_data"
    }
   ],
   "source": [
    "query = \"\"\"\n",
    "CALL algo.scc.stream(\"Library\", \"DEPENDS_ON\")\n",
    "YIELD nodeId, partition\n",
    "RETURN partition, collect(algo.getNodeById(nodeId).id) AS libraries\n",
    "ORDER BY size(libraries) DESC\n",
    "\"\"\"\n",
    "\n",
    "\n",
    "with driver.session() as session:\n",
    "    rows = session.run(query)\n",
    "    df = pd.DataFrame([dict(record) for record in rows])\n",
    "\n",
    "display(df)"
   ]
  },
  {
   "cell_type": "markdown",
   "metadata": {},
   "source": [
    "As with the Spark example, all nodes are in their own community. Let's create a circular dependency so that we end up with some nodes in the same community:"
   ]
  },
  {
   "cell_type": "code",
   "execution_count": 60,
   "metadata": {},
   "outputs": [
    {
     "data": {
      "text/plain": [
       "{'labels_added': 1, 'relationships_created': 2, 'nodes_created': 1, 'properties_set': 1}"
      ]
     },
     "metadata": {},
     "output_type": "display_data"
    }
   ],
   "source": [
    "query = \"\"\"\n",
    "MATCH (py4j:Library {id: \"py4j\"})\n",
    "MATCH (pyspark:Library {id: \"pyspark\"})\n",
    "MERGE (extra:Library {id: \"extra\"})\n",
    "MERGE (py4j)-[:DEPENDS_ON]->(extra)\n",
    "MERGE (extra)-[:DEPENDS_ON]->(pyspark)\n",
    "\"\"\"\n",
    "\n",
    "with driver.session() as session:\n",
    "    result = session.run(query)\n",
    "    display(result.summary().counters)"
   ]
  },
  {
   "cell_type": "markdown",
   "metadata": {},
   "source": [
    "And now let's run the algorithm again:"
   ]
  },
  {
   "cell_type": "code",
   "execution_count": 61,
   "metadata": {},
   "outputs": [
    {
     "data": {
      "text/html": [
       "<div>\n",
       "<style scoped>\n",
       "    .dataframe tbody tr th:only-of-type {\n",
       "        vertical-align: middle;\n",
       "    }\n",
       "\n",
       "    .dataframe tbody tr th {\n",
       "        vertical-align: top;\n",
       "    }\n",
       "\n",
       "    .dataframe thead th {\n",
       "        text-align: right;\n",
       "    }\n",
       "</style>\n",
       "<table border=\"1\" class=\"dataframe\">\n",
       "  <thead>\n",
       "    <tr style=\"text-align: right;\">\n",
       "      <th></th>\n",
       "      <th>libraries</th>\n",
       "      <th>partition</th>\n",
       "    </tr>\n",
       "  </thead>\n",
       "  <tbody>\n",
       "    <tr>\n",
       "      <th>0</th>\n",
       "      <td>[extra, pyspark, py4j]</td>\n",
       "      <td>2</td>\n",
       "    </tr>\n",
       "    <tr>\n",
       "      <th>1</th>\n",
       "      <td>[jpy-client]</td>\n",
       "      <td>0</td>\n",
       "    </tr>\n",
       "    <tr>\n",
       "      <th>2</th>\n",
       "      <td>[jpy-core]</td>\n",
       "      <td>1</td>\n",
       "    </tr>\n",
       "    <tr>\n",
       "      <th>3</th>\n",
       "      <td>[six]</td>\n",
       "      <td>3</td>\n",
       "    </tr>\n",
       "    <tr>\n",
       "      <th>4</th>\n",
       "      <td>[pandas]</td>\n",
       "      <td>4</td>\n",
       "    </tr>\n",
       "    <tr>\n",
       "      <th>5</th>\n",
       "      <td>[numpy]</td>\n",
       "      <td>5</td>\n",
       "    </tr>\n",
       "    <tr>\n",
       "      <th>6</th>\n",
       "      <td>[python-dateutil]</td>\n",
       "      <td>6</td>\n",
       "    </tr>\n",
       "    <tr>\n",
       "      <th>7</th>\n",
       "      <td>[pytz]</td>\n",
       "      <td>7</td>\n",
       "    </tr>\n",
       "    <tr>\n",
       "      <th>8</th>\n",
       "      <td>[matplotlib]</td>\n",
       "      <td>9</td>\n",
       "    </tr>\n",
       "    <tr>\n",
       "      <th>9</th>\n",
       "      <td>[spacy]</td>\n",
       "      <td>10</td>\n",
       "    </tr>\n",
       "    <tr>\n",
       "      <th>10</th>\n",
       "      <td>[jupyter]</td>\n",
       "      <td>12</td>\n",
       "    </tr>\n",
       "    <tr>\n",
       "      <th>11</th>\n",
       "      <td>[jpy-console]</td>\n",
       "      <td>13</td>\n",
       "    </tr>\n",
       "    <tr>\n",
       "      <th>12</th>\n",
       "      <td>[nbconvert]</td>\n",
       "      <td>14</td>\n",
       "    </tr>\n",
       "    <tr>\n",
       "      <th>13</th>\n",
       "      <td>[ipykernel]</td>\n",
       "      <td>15</td>\n",
       "    </tr>\n",
       "  </tbody>\n",
       "</table>\n",
       "</div>"
      ],
      "text/plain": [
       "                 libraries  partition\n",
       "0   [extra, pyspark, py4j]          2\n",
       "1             [jpy-client]          0\n",
       "2               [jpy-core]          1\n",
       "3                    [six]          3\n",
       "4                 [pandas]          4\n",
       "5                  [numpy]          5\n",
       "6        [python-dateutil]          6\n",
       "7                   [pytz]          7\n",
       "8             [matplotlib]          9\n",
       "9                  [spacy]         10\n",
       "10               [jupyter]         12\n",
       "11           [jpy-console]         13\n",
       "12             [nbconvert]         14\n",
       "13             [ipykernel]         15"
      ]
     },
     "metadata": {},
     "output_type": "display_data"
    }
   ],
   "source": [
    "query = \"\"\"\n",
    "CALL algo.scc.stream(\"Library\", \"DEPENDS_ON\")\n",
    "YIELD nodeId, partition\n",
    "RETURN partition, collect(algo.getNodeById(nodeId).id) AS libraries\n",
    "ORDER BY size(libraries) DESC\n",
    "\"\"\"\n",
    "\n",
    "\n",
    "with driver.session() as session:\n",
    "    rows = session.run(query)\n",
    "    df = pd.DataFrame([dict(record) for record in rows])\n",
    "\n",
    "display(df)"
   ]
  },
  {
   "cell_type": "code",
   "execution_count": 62,
   "metadata": {},
   "outputs": [
    {
     "data": {
      "text/plain": [
       "{'nodes_deleted': 1, 'relationships_deleted': 2}"
      ]
     },
     "metadata": {},
     "output_type": "display_data"
    }
   ],
   "source": [
    "query = \"\"\"\n",
    "MATCH (extra:Library {id: \"extra\"})\n",
    "DETACH DELETE extra\n",
    "\"\"\"\n",
    "\n",
    "with driver.session() as session:\n",
    "    result = session.run(query)\n",
    "    display(result.summary().counters)"
   ]
  },
  {
   "cell_type": "markdown",
   "metadata": {},
   "source": [
    "## Connected Components\n",
    "\n",
    "The Connected Components algorithm (sometimes called Union Find or Weakly Connected Components) finds sets of connected nodes in an undirected graph where each node is reachable from any other node in the same set."
   ]
  },
  {
   "cell_type": "code",
   "execution_count": 63,
   "metadata": {},
   "outputs": [
    {
     "name": "stdout",
     "output_type": "stream",
     "text": [
      "+------------+------------------------------------------------------------------+\n",
      "|component   |libraries                                                         |\n",
      "+------------+------------------------------------------------------------------+\n",
      "|180388626432|[jpy-core, nbconvert, ipykernel, jupyter, jpy-client, jpy-console]|\n",
      "|223338299392|[spacy, numpy, six, pandas, pytz, python-dateutil, matplotlib]    |\n",
      "|936302870528|[pyspark, py4j]                                                   |\n",
      "+------------+------------------------------------------------------------------+\n",
      "\n"
     ]
    }
   ],
   "source": [
    "sc.setCheckpointDir(\"/tmp\")\n",
    "result = g.connectedComponents()\n",
    "(result.sort(\"component\")\n",
    " .groupby(\"component\")\n",
    " .agg(F.collect_list(\"id\").alias(\"libraries\"))\n",
    " .show(truncate=False))"
   ]
  },
  {
   "cell_type": "code",
   "execution_count": 64,
   "metadata": {},
   "outputs": [
    {
     "data": {
      "text/html": [
       "<div>\n",
       "<style scoped>\n",
       "    .dataframe tbody tr th:only-of-type {\n",
       "        vertical-align: middle;\n",
       "    }\n",
       "\n",
       "    .dataframe tbody tr th {\n",
       "        vertical-align: top;\n",
       "    }\n",
       "\n",
       "    .dataframe thead th {\n",
       "        text-align: right;\n",
       "    }\n",
       "</style>\n",
       "<table border=\"1\" class=\"dataframe\">\n",
       "  <thead>\n",
       "    <tr style=\"text-align: right;\">\n",
       "      <th></th>\n",
       "      <th>libraries</th>\n",
       "      <th>setId</th>\n",
       "    </tr>\n",
       "  </thead>\n",
       "  <tbody>\n",
       "    <tr>\n",
       "      <th>0</th>\n",
       "      <td>[six, pandas, numpy, python-dateutil, pytz, ma...</td>\n",
       "      <td>3</td>\n",
       "    </tr>\n",
       "    <tr>\n",
       "      <th>1</th>\n",
       "      <td>[jpy-client, jpy-core, jupyter, jpy-console, n...</td>\n",
       "      <td>11</td>\n",
       "    </tr>\n",
       "    <tr>\n",
       "      <th>2</th>\n",
       "      <td>[pyspark, py4j]</td>\n",
       "      <td>7</td>\n",
       "    </tr>\n",
       "  </tbody>\n",
       "</table>\n",
       "</div>"
      ],
      "text/plain": [
       "                                           libraries  setId\n",
       "0  [six, pandas, numpy, python-dateutil, pytz, ma...      3\n",
       "1  [jpy-client, jpy-core, jupyter, jpy-console, n...     11\n",
       "2                                    [pyspark, py4j]      7"
      ]
     },
     "metadata": {},
     "output_type": "display_data"
    }
   ],
   "source": [
    "query = \"\"\"\n",
    "CALL algo.unionFind.stream(\"Library\", \"DEPENDS_ON\")\n",
    "YIELD nodeId,setId\n",
    "RETURN setId, collect(algo.getNodeById(nodeId).id) AS libraries\n",
    "ORDER BY size(libraries) DESC\n",
    "\"\"\"\n",
    "\n",
    "with driver.session() as session:\n",
    "    rows = session.run(query)\n",
    "    df = pd.DataFrame([dict(record) for record in rows])\n",
    "\n",
    "display(df)"
   ]
  },
  {
   "cell_type": "markdown",
   "metadata": {},
   "source": [
    "## Label Propagation\n",
    "\n",
    "The Label Propagation algorithm (LPA) is a fast algorithm for finding communities in a graph. In LPA, nodes select their group based on their direct neighbors. This process is well suited to networks where groupings are less clear and weights can be used to help a node determine which community to place itself within."
   ]
  },
  {
   "cell_type": "code",
   "execution_count": 65,
   "metadata": {},
   "outputs": [
    {
     "name": "stdout",
     "output_type": "stream",
     "text": [
      "+---------------+-------------+\n",
      "|             id|        label|\n",
      "+---------------+-------------+\n",
      "|python-dateutil| 498216206336|\n",
      "|        pyspark| 936302870528|\n",
      "|     matplotlib| 223338299392|\n",
      "|       jpy-core| 180388626432|\n",
      "|          spacy| 223338299392|\n",
      "|    jpy-console| 180388626432|\n",
      "|           py4j|1279900254208|\n",
      "|          numpy| 498216206336|\n",
      "|            six| 498216206336|\n",
      "|         pandas| 549755813888|\n",
      "|      nbconvert| 558345748480|\n",
      "|      ipykernel| 558345748480|\n",
      "|        jupyter| 180388626432|\n",
      "|     jpy-client| 558345748480|\n",
      "|           pytz| 498216206336|\n",
      "+---------------+-------------+\n",
      "\n"
     ]
    }
   ],
   "source": [
    "result = g.labelPropagation(maxIter=10)\n",
    "result.show()"
   ]
  },
  {
   "cell_type": "code",
   "execution_count": 66,
   "metadata": {},
   "outputs": [
    {
     "name": "stdout",
     "output_type": "stream",
     "text": [
      "+-------------+-----------------------------------+\n",
      "|label        |collect_list(id)                   |\n",
      "+-------------+-----------------------------------+\n",
      "|180388626432 |[jpy-core, jpy-console, jupyter]   |\n",
      "|223338299392 |[matplotlib, spacy]                |\n",
      "|498216206336 |[python-dateutil, numpy, six, pytz]|\n",
      "|549755813888 |[pandas]                           |\n",
      "|558345748480 |[nbconvert, ipykernel, jpy-client] |\n",
      "|936302870528 |[pyspark]                          |\n",
      "|1279900254208|[py4j]                             |\n",
      "+-------------+-----------------------------------+\n",
      "\n"
     ]
    }
   ],
   "source": [
    "(result\n",
    " .sort(\"label\")\n",
    " .groupby(\"label\")\n",
    " .agg(F.collect_list(\"id\"))\n",
    " .show(truncate=False))"
   ]
  },
  {
   "cell_type": "markdown",
   "metadata": {},
   "source": [
    "Compared to Connected Components, we have more clusters of libraries in this example. LPA is less strict than Connected Components with respect to how it determines clusters. Two neighbors (directly connected nodes) may be found to be in different clusters using Label Propagation."
   ]
  },
  {
   "cell_type": "markdown",
   "metadata": {},
   "source": [
    "We can run the same algorithm on Neo4j, using the following code:"
   ]
  },
  {
   "cell_type": "code",
   "execution_count": 67,
   "metadata": {},
   "outputs": [
    {
     "data": {
      "text/html": [
       "<div>\n",
       "<style scoped>\n",
       "    .dataframe tbody tr th:only-of-type {\n",
       "        vertical-align: middle;\n",
       "    }\n",
       "\n",
       "    .dataframe tbody tr th {\n",
       "        vertical-align: top;\n",
       "    }\n",
       "\n",
       "    .dataframe thead th {\n",
       "        text-align: right;\n",
       "    }\n",
       "</style>\n",
       "<table border=\"1\" class=\"dataframe\">\n",
       "  <thead>\n",
       "    <tr style=\"text-align: right;\">\n",
       "      <th></th>\n",
       "      <th>label</th>\n",
       "      <th>libraries</th>\n",
       "    </tr>\n",
       "  </thead>\n",
       "  <tbody>\n",
       "    <tr>\n",
       "      <th>0</th>\n",
       "      <td>2</td>\n",
       "      <td>[six, pandas, python-dateutil, matplotlib, spacy]</td>\n",
       "    </tr>\n",
       "    <tr>\n",
       "      <th>1</th>\n",
       "      <td>1</td>\n",
       "      <td>[jpy-client, jpy-core, nbconvert]</td>\n",
       "    </tr>\n",
       "    <tr>\n",
       "      <th>2</th>\n",
       "      <td>14</td>\n",
       "      <td>[jupyter, jpy-console, ipykernel]</td>\n",
       "    </tr>\n",
       "    <tr>\n",
       "      <th>3</th>\n",
       "      <td>10</td>\n",
       "      <td>[pyspark, py4j]</td>\n",
       "    </tr>\n",
       "    <tr>\n",
       "      <th>4</th>\n",
       "      <td>4</td>\n",
       "      <td>[numpy]</td>\n",
       "    </tr>\n",
       "    <tr>\n",
       "      <th>5</th>\n",
       "      <td>6</td>\n",
       "      <td>[pytz]</td>\n",
       "    </tr>\n",
       "  </tbody>\n",
       "</table>\n",
       "</div>"
      ],
      "text/plain": [
       "   label                                          libraries\n",
       "0      2  [six, pandas, python-dateutil, matplotlib, spacy]\n",
       "1      1                  [jpy-client, jpy-core, nbconvert]\n",
       "2     14                  [jupyter, jpy-console, ipykernel]\n",
       "3     10                                    [pyspark, py4j]\n",
       "4      4                                            [numpy]\n",
       "5      6                                             [pytz]"
      ]
     },
     "metadata": {},
     "output_type": "display_data"
    }
   ],
   "source": [
    "query = \"\"\"\n",
    "CALL algo.labelPropagation.stream(\"Library\", \"DEPENDS_ON\", { \n",
    " iterations: 10\n",
    "})\n",
    "YIELD nodeId, label\n",
    "RETURN label, \n",
    "       collect(algo.getNodeById(nodeId).id) AS libraries\n",
    "ORDER BY size(libraries) DESC\n",
    "\"\"\"\n",
    "\n",
    "with driver.session() as session:\n",
    "    rows = session.run(query)\n",
    "    df = pd.DataFrame([dict(record) for record in rows])\n",
    "\n",
    "display(df)"
   ]
  },
  {
   "cell_type": "markdown",
   "metadata": {},
   "source": [
    "## Louvain Modularity\n",
    "\n",
    "The Louvain Modularity algorithm finds clusters by comparing community density as it assigns nodes to different groups. You can think of this as a “what if ” analysis to try various groupings with the goal of reaching a global optimum."
   ]
  },
  {
   "cell_type": "code",
   "execution_count": 68,
   "metadata": {},
   "outputs": [
    {
     "data": {
      "text/html": [
       "<div>\n",
       "<style scoped>\n",
       "    .dataframe tbody tr th:only-of-type {\n",
       "        vertical-align: middle;\n",
       "    }\n",
       "\n",
       "    .dataframe tbody tr th {\n",
       "        vertical-align: top;\n",
       "    }\n",
       "\n",
       "    .dataframe thead th {\n",
       "        text-align: right;\n",
       "    }\n",
       "</style>\n",
       "<table border=\"1\" class=\"dataframe\">\n",
       "  <thead>\n",
       "    <tr style=\"text-align: right;\">\n",
       "      <th></th>\n",
       "      <th>communities</th>\n",
       "      <th>community</th>\n",
       "      <th>libraries</th>\n",
       "    </tr>\n",
       "  </thead>\n",
       "  <tbody>\n",
       "    <tr>\n",
       "      <th>0</th>\n",
       "      <td>[0, 0]</td>\n",
       "      <td>0</td>\n",
       "      <td>jpy-client</td>\n",
       "    </tr>\n",
       "    <tr>\n",
       "      <th>1</th>\n",
       "      <td>[0, 0]</td>\n",
       "      <td>0</td>\n",
       "      <td>jpy-core</td>\n",
       "    </tr>\n",
       "    <tr>\n",
       "      <th>2</th>\n",
       "      <td>[1, 1]</td>\n",
       "      <td>1</td>\n",
       "      <td>six</td>\n",
       "    </tr>\n",
       "    <tr>\n",
       "      <th>3</th>\n",
       "      <td>[2, 1]</td>\n",
       "      <td>1</td>\n",
       "      <td>pandas</td>\n",
       "    </tr>\n",
       "    <tr>\n",
       "      <th>4</th>\n",
       "      <td>[3, 1]</td>\n",
       "      <td>1</td>\n",
       "      <td>numpy</td>\n",
       "    </tr>\n",
       "    <tr>\n",
       "      <th>5</th>\n",
       "      <td>[1, 1]</td>\n",
       "      <td>1</td>\n",
       "      <td>python-dateutil</td>\n",
       "    </tr>\n",
       "    <tr>\n",
       "      <th>6</th>\n",
       "      <td>[2, 1]</td>\n",
       "      <td>1</td>\n",
       "      <td>pytz</td>\n",
       "    </tr>\n",
       "    <tr>\n",
       "      <th>7</th>\n",
       "      <td>[4, 2]</td>\n",
       "      <td>2</td>\n",
       "      <td>pyspark</td>\n",
       "    </tr>\n",
       "    <tr>\n",
       "      <th>8</th>\n",
       "      <td>[1, 1]</td>\n",
       "      <td>1</td>\n",
       "      <td>matplotlib</td>\n",
       "    </tr>\n",
       "    <tr>\n",
       "      <th>9</th>\n",
       "      <td>[3, 1]</td>\n",
       "      <td>1</td>\n",
       "      <td>spacy</td>\n",
       "    </tr>\n",
       "    <tr>\n",
       "      <th>10</th>\n",
       "      <td>[4, 2]</td>\n",
       "      <td>2</td>\n",
       "      <td>py4j</td>\n",
       "    </tr>\n",
       "    <tr>\n",
       "      <th>11</th>\n",
       "      <td>[5, 0]</td>\n",
       "      <td>0</td>\n",
       "      <td>jupyter</td>\n",
       "    </tr>\n",
       "    <tr>\n",
       "      <th>12</th>\n",
       "      <td>[5, 0]</td>\n",
       "      <td>0</td>\n",
       "      <td>jpy-console</td>\n",
       "    </tr>\n",
       "    <tr>\n",
       "      <th>13</th>\n",
       "      <td>[0, 0]</td>\n",
       "      <td>0</td>\n",
       "      <td>nbconvert</td>\n",
       "    </tr>\n",
       "    <tr>\n",
       "      <th>14</th>\n",
       "      <td>[5, 0]</td>\n",
       "      <td>0</td>\n",
       "      <td>ipykernel</td>\n",
       "    </tr>\n",
       "  </tbody>\n",
       "</table>\n",
       "</div>"
      ],
      "text/plain": [
       "   communities  community        libraries\n",
       "0       [0, 0]          0       jpy-client\n",
       "1       [0, 0]          0         jpy-core\n",
       "2       [1, 1]          1              six\n",
       "3       [2, 1]          1           pandas\n",
       "4       [3, 1]          1            numpy\n",
       "5       [1, 1]          1  python-dateutil\n",
       "6       [2, 1]          1             pytz\n",
       "7       [4, 2]          2          pyspark\n",
       "8       [1, 1]          1       matplotlib\n",
       "9       [3, 1]          1            spacy\n",
       "10      [4, 2]          2             py4j\n",
       "11      [5, 0]          0          jupyter\n",
       "12      [5, 0]          0      jpy-console\n",
       "13      [0, 0]          0        nbconvert\n",
       "14      [5, 0]          0        ipykernel"
      ]
     },
     "metadata": {},
     "output_type": "display_data"
    }
   ],
   "source": [
    "query = \"\"\"\n",
    "CALL algo.louvain.stream(\"Library\", \"DEPENDS_ON\", {\n",
    "  includeIntermediateCommunities: true\n",
    "})\n",
    "YIELD nodeId, communities, community\n",
    "RETURN algo.getNodeById(nodeId).id AS libraries, community, communities\n",
    "\"\"\"\n",
    "\n",
    "with driver.session() as session:\n",
    "    rows = session.run(query)\n",
    "    df = pd.DataFrame([dict(record) for record in rows])\n",
    "\n",
    "display(df)"
   ]
  },
  {
   "cell_type": "code",
   "execution_count": 69,
   "metadata": {},
   "outputs": [
    {
     "data": {
      "text/plain": [
       "{}"
      ]
     },
     "metadata": {},
     "output_type": "display_data"
    }
   ],
   "source": [
    "query = \"\"\"\n",
    "CALL algo.louvain(\"Library\", \"DEPENDS_ON\", {\n",
    "  writeProperty: 'community',\n",
    "  includeIntermediateCommunities: true,\n",
    "  intermediateCommunitiesWriteProperty: 'communities'\n",
    "})\n",
    "\"\"\"\n",
    "\n",
    "with driver.session() as session:\n",
    "    result = session.run(query)\n",
    "    display(result.summary().counters)"
   ]
  },
  {
   "cell_type": "code",
   "execution_count": 71,
   "metadata": {},
   "outputs": [
    {
     "data": {
      "text/html": [
       "<div>\n",
       "<style scoped>\n",
       "    .dataframe tbody tr th:only-of-type {\n",
       "        vertical-align: middle;\n",
       "    }\n",
       "\n",
       "    .dataframe tbody tr th {\n",
       "        vertical-align: top;\n",
       "    }\n",
       "\n",
       "    .dataframe thead th {\n",
       "        text-align: right;\n",
       "    }\n",
       "</style>\n",
       "<table border=\"1\" class=\"dataframe\">\n",
       "  <thead>\n",
       "    <tr style=\"text-align: right;\">\n",
       "      <th></th>\n",
       "      <th>community</th>\n",
       "      <th>libraries</th>\n",
       "    </tr>\n",
       "  </thead>\n",
       "  <tbody>\n",
       "    <tr>\n",
       "      <th>0</th>\n",
       "      <td>0</td>\n",
       "      <td>[jpy-client, jpy-core, nbconvert]</td>\n",
       "    </tr>\n",
       "    <tr>\n",
       "      <th>1</th>\n",
       "      <td>1</td>\n",
       "      <td>[six, python-dateutil, matplotlib]</td>\n",
       "    </tr>\n",
       "    <tr>\n",
       "      <th>2</th>\n",
       "      <td>5</td>\n",
       "      <td>[jupyter, jpy-console, ipykernel]</td>\n",
       "    </tr>\n",
       "    <tr>\n",
       "      <th>3</th>\n",
       "      <td>2</td>\n",
       "      <td>[pandas, pytz]</td>\n",
       "    </tr>\n",
       "    <tr>\n",
       "      <th>4</th>\n",
       "      <td>3</td>\n",
       "      <td>[numpy, spacy]</td>\n",
       "    </tr>\n",
       "    <tr>\n",
       "      <th>5</th>\n",
       "      <td>4</td>\n",
       "      <td>[pyspark, py4j]</td>\n",
       "    </tr>\n",
       "  </tbody>\n",
       "</table>\n",
       "</div>"
      ],
      "text/plain": [
       "   community                           libraries\n",
       "0          0   [jpy-client, jpy-core, nbconvert]\n",
       "1          1  [six, python-dateutil, matplotlib]\n",
       "2          5   [jupyter, jpy-console, ipykernel]\n",
       "3          2                      [pandas, pytz]\n",
       "4          3                      [numpy, spacy]\n",
       "5          4                     [pyspark, py4j]"
      ]
     },
     "metadata": {},
     "output_type": "display_data"
    }
   ],
   "source": [
    "query = \"\"\"\n",
    "MATCH (l:Library)\n",
    "RETURN l.communities[0] AS community, collect(l.id) AS libraries\n",
    "ORDER BY size(libraries) DESC\n",
    "\"\"\"\n",
    "\n",
    "with driver.session() as session:\n",
    "    rows = session.run(query)\n",
    "    df = pd.DataFrame([dict(record) for record in rows])\n",
    "\n",
    "display(df)"
   ]
  },
  {
   "cell_type": "code",
   "execution_count": null,
   "metadata": {},
   "outputs": [],
   "source": []
  }
 ],
 "metadata": {
  "kernelspec": {
   "display_name": "Python 3",
   "language": "python",
   "name": "python3"
  },
  "language_info": {
   "codemirror_mode": {
    "name": "ipython",
    "version": 3
   },
   "file_extension": ".py",
   "mimetype": "text/x-python",
   "name": "python",
   "nbconvert_exporter": "python",
   "pygments_lexer": "ipython3",
   "version": "3.7.3"
  }
 },
 "nbformat": 4,
 "nbformat_minor": 2
}
